{
 "cells": [
  {
   "cell_type": "markdown",
   "metadata": {},
   "source": [
    "Written by Nadège Guiglielmoni.\n",
    "\n",
    "This notebook explains how to do part of what Biopython functions do without Biopython.\n",
    "\n",
    "# Parsing a fasta file\n",
    "\n",
    "First, you need to open the lines :"
   ]
  },
  {
   "cell_type": "code",
   "execution_count": 21,
   "metadata": {},
   "outputs": [],
   "source": [
    "f = open(\"LADA.fsa\")"
   ]
  },
  {
   "cell_type": "markdown",
   "metadata": {},
   "source": [
    "Then you have to load your lines in a variable with readlines(). The lines are stored in a list in 'lines'."
   ]
  },
  {
   "cell_type": "code",
   "execution_count": 22,
   "metadata": {},
   "outputs": [],
   "source": [
    "lines = f.readlines()"
   ]
  },
  {
   "cell_type": "markdown",
   "metadata": {},
   "source": [
    "You can iterate over all the lines of your file stored in the variable 'lines' :"
   ]
  },
  {
   "cell_type": "code",
   "execution_count": 23,
   "metadata": {},
   "outputs": [
    {
     "name": "stdout",
     "output_type": "stream",
     "text": [
      ">LADA0A Lachancea dasiensis CBS10888 chromosome A, complete assembly\n",
      "\n",
      ">LADA0B Lachancea dasiensis CBS10888 chromosome B, complete assembly\n",
      "\n",
      ">LADA0C Lachancea dasiensis CBS10888 chromosome C, complete assembly\n",
      "\n",
      ">LADA0D Lachancea dasiensis CBS10888 chromosome D, complete assembly\n",
      "\n",
      ">LADA0E Lachancea dasiensis CBS10888 chromosome E, complete assembly\n",
      "\n",
      ">LADA0F Lachancea dasiensis CBS10888 chromosome F, complete assembly\n",
      "\n",
      ">LADA0G Lachancea dasiensis CBS10888 chromosome G, complete assembly\n",
      "\n",
      ">LADA0H Lachancea dasiensis CBS10888 chromosome H, complete assembly\n",
      "\n"
     ]
    }
   ],
   "source": [
    "for line in lines :\n",
    "    if \">\" in line :\n",
    "        print(line)"
   ]
  },
  {
   "cell_type": "markdown",
   "metadata": {},
   "source": [
    "Here, for each line, if the line matches the symbol \">\", the line is printed. The symbol \">\" preceeds the name of a sequence in a fasta file, so checking for \">\" is the way to identify the name of a sequence in a fasta file.\n",
    "\n",
    "Now, you can take away the line that follows each name and the symbol \">\" :"
   ]
  },
  {
   "cell_type": "code",
   "execution_count": 24,
   "metadata": {},
   "outputs": [
    {
     "name": "stdout",
     "output_type": "stream",
     "text": [
      "LADA0A Lachancea dasiensis CBS10888 chromosome A, complete assembly\n",
      "LADA0B Lachancea dasiensis CBS10888 chromosome B, complete assembly\n",
      "LADA0C Lachancea dasiensis CBS10888 chromosome C, complete assembly\n",
      "LADA0D Lachancea dasiensis CBS10888 chromosome D, complete assembly\n",
      "LADA0E Lachancea dasiensis CBS10888 chromosome E, complete assembly\n",
      "LADA0F Lachancea dasiensis CBS10888 chromosome F, complete assembly\n",
      "LADA0G Lachancea dasiensis CBS10888 chromosome G, complete assembly\n",
      "LADA0H Lachancea dasiensis CBS10888 chromosome H, complete assembly\n"
     ]
    }
   ],
   "source": [
    "for line in lines :\n",
    "    if \">\" in line :\n",
    "        print(line.strip().strip(\">\"))"
   ]
  },
  {
   "cell_type": "markdown",
   "metadata": {},
   "source": [
    "Now you can select only the short name of the sequence by splitting the name (by default at each space). The function split() gives a list as an output. You can select the first element of the list, with the indice 0, to get the short name :"
   ]
  },
  {
   "cell_type": "code",
   "execution_count": 25,
   "metadata": {},
   "outputs": [
    {
     "name": "stdout",
     "output_type": "stream",
     "text": [
      "LADA0A\n",
      "LADA0B\n",
      "LADA0C\n",
      "LADA0D\n",
      "LADA0E\n",
      "LADA0F\n",
      "LADA0G\n",
      "LADA0H\n"
     ]
    }
   ],
   "source": [
    "for line in lines :\n",
    "    if \">\" in line :\n",
    "        print(line.strip().strip(\">\").split()[0])"
   ]
  },
  {
   "cell_type": "markdown",
   "metadata": {},
   "source": [
    "When you know how to detect a sequence name, it is then easy to store the sequence with its name :"
   ]
  },
  {
   "cell_type": "code",
   "execution_count": 26,
   "metadata": {},
   "outputs": [],
   "source": [
    "# creating a dictionnary to store the sequences in\n",
    "ladaSeq = {} \n",
    "\n",
    "# creating the variables in which the name and \n",
    "# sequence are stored\n",
    "seq_name = None\n",
    "full_seq = \"\"\n",
    "\n",
    "# iterating over all the lines in the file\n",
    "for line in lines :\n",
    "    \n",
    "    # SEQUENCE NAME\n",
    "    if \">\" in line :\n",
    "        \n",
    "        # everytime there is a new sequence the\n",
    "        # current sequence stored in seq_name\n",
    "        # and full_seq are added to the ladaSeq\n",
    "        # dictionnary\n",
    "        if seq_name is not None :\n",
    "            ladaSeq[seq_name] = full_seq \n",
    "            \n",
    "        # seq_name takes the new name as value\n",
    "        seq_name = line.strip().strip(\">\").split()[0]\n",
    "        full_seq = \"\"\n",
    "        \n",
    "    # SEQUENCE\n",
    "    # each line with sequence is added to full_seq\n",
    "    else :\n",
    "        full_seq = full_seq + line.strip()\n",
    "\n",
    "# store the last remaining sequence\n",
    "ladaSeq[seq_name] = full_seq "
   ]
  },
  {
   "cell_type": "markdown",
   "metadata": {},
   "source": [
    "The sequences are stored in the dictionnary ladaSeq. seq_name keeps the current seq_name, and full_seq keeps the current sequence. A sequence can be splitted over several lines, that is why you have to iterate over the lines, add each line to the sequence, until you find a line with a new sequence name. When there is a new sequence name, the sequence that has been stored in full_seq is saved with the corresponding sequence name. Then, full_seq is reinitialized and seq_name is updated with the new name.\n",
    "\n",
    "You can check that all the sequences have been loaded properly by taking a look at the keys of ladaSeq."
   ]
  },
  {
   "cell_type": "code",
   "execution_count": 27,
   "metadata": {},
   "outputs": [
    {
     "data": {
      "text/plain": [
       "dict_keys(['LADA0A', 'LADA0B', 'LADA0C', 'LADA0D', 'LADA0E', 'LADA0F', 'LADA0G', 'LADA0H'])"
      ]
     },
     "execution_count": 27,
     "metadata": {},
     "output_type": "execute_result"
    }
   ],
   "source": [
    "ladaSeq.keys()"
   ]
  },
  {
   "cell_type": "code",
   "execution_count": null,
   "metadata": {},
   "outputs": [],
   "source": []
  }
 ],
 "metadata": {
  "kernelspec": {
   "display_name": "Python 3",
   "language": "python",
   "name": "python3"
  },
  "language_info": {
   "codemirror_mode": {
    "name": "ipython",
    "version": 3
   },
   "file_extension": ".py",
   "mimetype": "text/x-python",
   "name": "python",
   "nbconvert_exporter": "python",
   "pygments_lexer": "ipython3",
   "version": "3.6.6"
  }
 },
 "nbformat": 4,
 "nbformat_minor": 2
}
