{
 "cells": [
  {
   "cell_type": "markdown",
   "metadata": {},
   "source": [
    "Written by Paschalis Natsidis and Nadège Guiglielmoni.\n",
    "\n",
    "Biopython (biopython.org) is a Python library designed to facilitate biological computations. It is open source and free to use.\n",
    "\n",
    "Biopython contains various modules, tools and scripts for bioinformatics use and research. This includes parsers for different bioinformatics file formats (FASTA, Genbank, etc.). This introduction will focus on sequence manipulation.\n",
    "\n",
    "Like any other Python library, in order to use Biopython it must first be installed then imported.\n",
    "\n",
    "On your personal Linux computer, where you have admin privileges, you can use Aptitude to install Biopython with the following command line (in shell) :\n",
    "\n",
    "\n",
    "        sudo apt install python-biopython        (for python v2)\n",
    "        \n",
    "        \n",
    "        sudo apt install python3-biopython       (for python v3)\n",
    "        \n",
    "        \n",
    "On Mac, Windows, or a cluster where you do not have admin privileges, you can use pip :\n",
    "\n",
    "\n",
    "        pip install biopython        (for python v2)\n",
    "        \n",
    "        \n",
    "        pip3 install biopython       (for python v3)\n",
    "        \n",
    "        \n",
    "Then, the package needs to be imported before you start coding :"
   ]
  },
  {
   "cell_type": "code",
   "execution_count": 30,
   "metadata": {},
   "outputs": [],
   "source": [
    "import Bio"
   ]
  },
  {
   "cell_type": "markdown",
   "metadata": {},
   "source": [
    "# Handling sequences\n",
    "\n",
    "The package Biopython is object-oriented, which means that it creates objects that are then affected. All the philosophy of this concept revolves around an object (as is indicated by the concept \"object-oriented\").\n",
    "\n",
    "\n",
    "Biopython has a specific class of objects : SeqRecord. The object SeqRecord has several features, called attributes. These attributes are the sequence ID, its name, the sequence itself, and other annotations. When using Biopython, you create a SeqRecord which is then affected by the functions you want to use.\n",
    "\n",
    "## Creating a sequence\n",
    "\n",
    "A sequence can be created with Seq(), imported from Bio.Seq"
   ]
  },
  {
   "cell_type": "code",
   "execution_count": 31,
   "metadata": {},
   "outputs": [],
   "source": [
    "from Bio.Seq import Seq    #to import Seq()\n",
    "\n",
    "my_seq = Seq('ATTTAGACCAGCCCGTGTCGATTCAGGGTG')"
   ]
  },
  {
   "cell_type": "markdown",
   "metadata": {},
   "source": [
    "Now the sequence 'ATTTAGACCAGCCCGTGTCGATTCAGGGTCG' is stored in the variable my_seq.\n",
    "\n",
    "## Sequence Input\n",
    "\n",
    "For example, you can create a SeqRecord by loading a FASTA file that contains some sequences. Biopython provides a Sequence Input/Output interface, SeqIO, to handle inputs and outputs. This interface must be imported to be used :"
   ]
  },
  {
   "cell_type": "code",
   "execution_count": 32,
   "metadata": {},
   "outputs": [],
   "source": [
    "from Bio import SeqIO   #import SeqIO explicitly from Bio"
   ]
  },
  {
   "cell_type": "markdown",
   "metadata": {},
   "source": [
    "The main function parse(), from SeqIO, can be used to read files such as FASTA files. This function takes as input a filename and a format type, and returns a SeqRecord iterator. Let’s read some sequences: "
   ]
  },
  {
   "cell_type": "code",
   "execution_count": 33,
   "metadata": {},
   "outputs": [
    {
     "name": "stdout",
     "output_type": "stream",
     "text": [
      "LADA0A\n",
      "LADA0B\n",
      "LADA0C\n",
      "LADA0D\n",
      "LADA0E\n",
      "LADA0F\n",
      "LADA0G\n",
      "LADA0H\n"
     ]
    }
   ],
   "source": [
    "for record in SeqIO.parse(\"LADA.fsa\", \"fasta\"):\n",
    "    print(record.id)"
   ]
  },
  {
   "cell_type": "markdown",
   "metadata": {},
   "source": [
    "Here, the loop **for** iterated over all the SeqRecord objects loaded by parse() in the iterator record, and printed all the sequence IDs. You can see that in the file LADA.fsa, there are 8 sequences, each corresponding to a chromosome. The sequence itself could be called in the same manner with record.seq .\n",
    "\n",
    "The sequences can then be stored in a data structure, for example a dictionnary :"
   ]
  },
  {
   "cell_type": "code",
   "execution_count": 34,
   "metadata": {},
   "outputs": [],
   "source": [
    "ladaSeq = {}    # creating the dictionnary ladaSeq\n",
    "\n",
    "for record in SeqIO.parse(\"LADA.fsa\", \"fasta\"):\n",
    "    ladaSeq[record.id] = record.seq"
   ]
  },
  {
   "cell_type": "markdown",
   "metadata": {},
   "source": [
    "All the sequences loaded by parse() have been stored in the dictionnary ladaSeq. You can check that the sequences have been properly added to the dictionnary by printing its keys, which should be the IDs :"
   ]
  },
  {
   "cell_type": "code",
   "execution_count": 35,
   "metadata": {},
   "outputs": [
    {
     "data": {
      "text/plain": [
       "dict_keys(['LADA0A', 'LADA0B', 'LADA0C', 'LADA0D', 'LADA0E', 'LADA0F', 'LADA0G', 'LADA0H'])"
      ]
     },
     "execution_count": 35,
     "metadata": {},
     "output_type": "execute_result"
    }
   ],
   "source": [
    "ladaSeq.keys()"
   ]
  },
  {
   "cell_type": "markdown",
   "metadata": {},
   "source": [
    "The 8 sequences from LADA.fsa are in the dictionnary ladaSeq.\n",
    "\n",
    "\n",
    "Now that the sequences from LADA.fsa have been stored in the dictionnary ladaSeq, you can access them using their ID as a key :"
   ]
  },
  {
   "cell_type": "code",
   "execution_count": 36,
   "metadata": {},
   "outputs": [
    {
     "data": {
      "text/plain": [
       "Seq('CACCTTCTGTATACTATTAGATCTTTAAGTTCAGCGCAGAAAGCCAGTGCCTCT...GGA', SingleLetterAlphabet())"
      ]
     },
     "execution_count": 36,
     "metadata": {},
     "output_type": "execute_result"
    }
   ],
   "source": [
    "ladaSeq['LADA0A']"
   ]
  },
  {
   "cell_type": "markdown",
   "metadata": {},
   "source": [
    "And you can also go through all the sequences in ladaSeq to get their length. To do that, you can use a **for** loop to iterate to iterate over the list of sequence IDs returned by ladaSeq.keys(). "
   ]
  },
  {
   "cell_type": "code",
   "execution_count": 37,
   "metadata": {
    "scrolled": true
   },
   "outputs": [
    {
     "name": "stdout",
     "output_type": "stream",
     "text": [
      "LADA0A\t834748\n",
      "LADA0B\t1066887\n",
      "LADA0C\t1188101\n",
      "LADA0D\t1247865\n",
      "LADA0E\t1410526\n",
      "LADA0F\t1544839\n",
      "LADA0G\t1582009\n",
      "LADA0H\t1826642\n"
     ]
    }
   ],
   "source": [
    "for seq_id in ladaSeq.keys() :\n",
    "    print(\"{0}\\t{1}\".format(seq_id, len(ladaSeq[seq_id])))"
   ]
  },
  {
   "cell_type": "markdown",
   "metadata": {},
   "source": [
    "Here, the length of the sequence my_seq is 31 nucleotides.\n",
    "\n",
    "Here, at each turn of the **for** loop,  the variable seq_id takes as a value an ID from the list of IDs given by ladaSeq.keys(). Then, the function print() displays the ID and the length of the sequence corresponding to the ID. \n",
    "\n",
    "You may notice the notation in the function print :\n",
    "- in format are the variables that are to be displayed\n",
    "- in the first part between \"\", the string to display, where {0} is to be replaced by the first variable in format, {1} by the second variable\n",
    "The \\t between {0} and {1} indicates to put a tabulation to separate the two variables."
   ]
  },
  {
   "cell_type": "markdown",
   "metadata": {},
   "source": [
    "## Sequences = string"
   ]
  },
  {
   "cell_type": "markdown",
   "metadata": {},
   "source": [
    "The sequence can be treated as a string, so for example you can get the sequence length of my_seq with len() :"
   ]
  },
  {
   "cell_type": "code",
   "execution_count": 38,
   "metadata": {},
   "outputs": [
    {
     "data": {
      "text/plain": [
       "30"
      ]
     },
     "execution_count": 38,
     "metadata": {},
     "output_type": "execute_result"
    }
   ],
   "source": [
    "len(my_seq)"
   ]
  },
  {
   "cell_type": "markdown",
   "metadata": {},
   "source": [
    "You can also call a subset of the sequence, for example the first nucleotide :"
   ]
  },
  {
   "cell_type": "code",
   "execution_count": 39,
   "metadata": {},
   "outputs": [
    {
     "data": {
      "text/plain": [
       "'A'"
      ]
     },
     "execution_count": 39,
     "metadata": {},
     "output_type": "execute_result"
    }
   ],
   "source": [
    "my_seq[0]"
   ]
  },
  {
   "cell_type": "markdown",
   "metadata": {},
   "source": [
    "Or the first five nucleotides :"
   ]
  },
  {
   "cell_type": "code",
   "execution_count": 40,
   "metadata": {},
   "outputs": [
    {
     "data": {
      "text/plain": [
       "Seq('ATTTA', Alphabet())"
      ]
     },
     "execution_count": 40,
     "metadata": {},
     "output_type": "execute_result"
    }
   ],
   "source": [
    "my_seq[0:5]"
   ]
  },
  {
   "cell_type": "markdown",
   "metadata": {},
   "source": [
    "You can count the occurences of a pattern, such as the letter 'A' :"
   ]
  },
  {
   "cell_type": "code",
   "execution_count": 41,
   "metadata": {},
   "outputs": [
    {
     "data": {
      "text/plain": [
       "6"
      ]
     },
     "execution_count": 41,
     "metadata": {},
     "output_type": "execute_result"
    }
   ],
   "source": [
    "my_seq.count('A')"
   ]
  },
  {
   "cell_type": "markdown",
   "metadata": {},
   "source": [
    "The letter A appears 6 times. \n",
    "\n",
    "With the pattern 'TT' :"
   ]
  },
  {
   "cell_type": "code",
   "execution_count": 42,
   "metadata": {},
   "outputs": [
    {
     "data": {
      "text/plain": [
       "2"
      ]
     },
     "execution_count": 42,
     "metadata": {},
     "output_type": "execute_result"
    }
   ],
   "source": [
    "my_seq.count('TT')"
   ]
  },
  {
   "cell_type": "markdown",
   "metadata": {},
   "source": [
    "The pattern 'TT' appears twice. Note that count() counts non-overlapping patterns. If you look at the sequence 'ATTTAGACCAGCCCGTGTCGATTCAGGGTCG', you could think that at the beginning the pattern 'TT' appears twice in 'ATTTA', which would be the case if the function counted overlapping patterns. Then the total of 'TT' in the whole sequence would be 3. But count() counts non-overlapping patterns, and this is why 'TT' is counted twice in the whole sequence.\n",
    "\n",
    "# Playing with sequences\n",
    "\n",
    "The package Biopython provides a variety of functions to play with sequences in a biological way.\n",
    "\n",
    "## Reverse complement\n",
    "\n",
    "You can get the complement or reverse complement of a sequence :"
   ]
  },
  {
   "cell_type": "code",
   "execution_count": 43,
   "metadata": {},
   "outputs": [
    {
     "data": {
      "text/plain": [
       "Seq('TAAATCTGGTCGGGCACAGCTAAGTCCCAC', Alphabet())"
      ]
     },
     "execution_count": 43,
     "metadata": {},
     "output_type": "execute_result"
    }
   ],
   "source": [
    "my_seq.complement()"
   ]
  },
  {
   "cell_type": "code",
   "execution_count": 44,
   "metadata": {},
   "outputs": [
    {
     "data": {
      "text/plain": [
       "Seq('CACCCTGAATCGACACGGGCTGGTCTAAAT', Alphabet())"
      ]
     },
     "execution_count": 44,
     "metadata": {},
     "output_type": "execute_result"
    }
   ],
   "source": [
    "my_seq.reverse_complement()"
   ]
  },
  {
   "cell_type": "markdown",
   "metadata": {},
   "source": [
    "## Translation, traduction\n",
    "\n",
    "A nucleotide sequence can translated with the function transcribe :"
   ]
  },
  {
   "cell_type": "code",
   "execution_count": 45,
   "metadata": {},
   "outputs": [
    {
     "data": {
      "text/plain": [
       "Seq('AUUUAGACCAGCCCGUGUCGAUUCAGGGUG', RNAAlphabet())"
      ]
     },
     "execution_count": 45,
     "metadata": {},
     "output_type": "execute_result"
    }
   ],
   "source": [
    "my_seq    #display sequence\n",
    "my_seq.transcribe() #display ARN"
   ]
  },
  {
   "cell_type": "markdown",
   "metadata": {},
   "source": [
    "But as you may notice, the sequence is just the same as before, only T have been replaced by U. If you want to have the true ARN, you need to use reverse_complement() and transcribe(). You can use both in one line."
   ]
  },
  {
   "cell_type": "code",
   "execution_count": 46,
   "metadata": {},
   "outputs": [
    {
     "data": {
      "text/plain": [
       "Seq('CACCCUGAAUCGACACGGGCUGGUCUAAAU', RNAAlphabet())"
      ]
     },
     "execution_count": 46,
     "metadata": {},
     "output_type": "execute_result"
    }
   ],
   "source": [
    "my_rna = my_seq.reverse_complement().transcribe() #store RNA in my_arn\n",
    "my_rna #display my_arn"
   ]
  },
  {
   "cell_type": "markdown",
   "metadata": {},
   "source": [
    "The RNA can then be translated with the function translate() :"
   ]
  },
  {
   "cell_type": "code",
   "execution_count": 47,
   "metadata": {},
   "outputs": [
    {
     "data": {
      "text/plain": [
       "Seq('HPESTRAGLN', ExtendedIUPACProtein())"
      ]
     },
     "execution_count": 47,
     "metadata": {},
     "output_type": "execute_result"
    }
   ],
   "source": [
    "my_rna.translate()"
   ]
  },
  {
   "cell_type": "markdown",
   "metadata": {},
   "source": [
    "Note that the sequence length should be a multiple of 3."
   ]
  },
  {
   "cell_type": "markdown",
   "metadata": {},
   "source": [
    "# Exercises \n",
    "\n",
    "1.What is the length of the sequence LADA0A in the dictionnary ladaSeq? \n",
    "\n",
    "\n",
    "2.What is the length of all the sequences of LADA ?\n",
    "\n",
    "\n",
    "3.What is the total length of the genome of LADA ?\n",
    "\n",
    "\n",
    "For the sequence LADA0H :\n",
    "\n",
    "\n",
    "4.Counting DNA Nucleotides : write a script that will count the occurences of the 4 nucleotides in a DNA sequence. What is the GC content?\n",
    "\n",
    "\n",
    "5.Complementing a strand of DNA : get the reverse complement of LADA0H and count each nucleotide in this sequence.\n",
    "\n",
    "\n",
    "6.Write in a file the information you computed in .4 and .5 for all the chromosomes in the dictionnary.\n",
    "\n",
    "\n",
    "For the sequence LADA0A :\n",
    "\n",
    "\n",
    "7.Find all the restriction enzyme sites \"ATGC\"."
   ]
  },
  {
   "cell_type": "code",
   "execution_count": null,
   "metadata": {},
   "outputs": [],
   "source": []
  }
 ],
 "metadata": {
  "kernelspec": {
   "display_name": "Python 3",
   "language": "python",
   "name": "python3"
  },
  "language_info": {
   "codemirror_mode": {
    "name": "ipython",
    "version": 3
   },
   "file_extension": ".py",
   "mimetype": "text/x-python",
   "name": "python",
   "nbconvert_exporter": "python",
   "pygments_lexer": "ipython3",
   "version": "3.6.6"
  }
 },
 "nbformat": 4,
 "nbformat_minor": 2
}
