{
 "cells": [
  {
   "cell_type": "markdown",
   "metadata": {},
   "source": [
    "Written by Nadège Guiglielmoni.\n"
   ]
  },
  {
   "cell_type": "markdown",
   "metadata": {},
   "source": [
    "# Useful tools\n",
    "\n",
    "This part aims to introduce you to a variety of tools that are essential in a day to day use of the shell.\n",
    "\n",
    "## Read The Fucking Manual (RTFM) : MAN\n",
    "\n",
    "Whenever you want to use a command you don't know, you can use \"man nameofcommand\" to access its manual page. This page gives details about what this command can do and its options. "
   ]
  },
  {
   "cell_type": "code",
   "execution_count": null,
   "metadata": {},
   "outputs": [],
   "source": [
    "man echo"
   ]
  },
  {
   "cell_type": "markdown",
   "metadata": {},
   "source": [
    "If you execute this command, you can see that the command echo is used to \"display a line of text\". man shows the purpose of the command, and how it should be used : how to pass the input, the parameters which can be used..."
   ]
  },
  {
   "cell_type": "markdown",
   "metadata": {},
   "source": [
    "## ECHO\n",
    "\n",
    "Display a string (sequence of characters).\n",
    "\n",
    "This command can be used to display a string passed as an argument."
   ]
  },
  {
   "cell_type": "code",
   "execution_count": 1,
   "metadata": {},
   "outputs": [
    {
     "name": "stdout",
     "output_type": "stream",
     "text": [
      "Hello world\n"
     ]
    }
   ],
   "source": [
    "echo \"Hello world\""
   ]
  },
  {
   "cell_type": "markdown",
   "metadata": {},
   "source": [
    "echo can also be used to display the value of a variable."
   ]
  },
  {
   "cell_type": "markdown",
   "metadata": {},
   "source": [
    "## Create a variable\n",
    "\n",
    "A variable can be created by attributing a value to a name, in the following manner : name=variable \n",
    "In shell, you must not put spaces between the name, the symbol =, and the variable.\n",
    "The value can be a number, a string (sequence of characters)..."
   ]
  },
  {
   "cell_type": "code",
   "execution_count": 2,
   "metadata": {},
   "outputs": [],
   "source": [
    "var1=1        #integer variable\n",
    "var2=\"IGNITE\" #character variable"
   ]
  },
  {
   "cell_type": "markdown",
   "metadata": {},
   "source": [
    "You can display the variable with the command 'echo', for example."
   ]
  },
  {
   "cell_type": "code",
   "execution_count": 3,
   "metadata": {},
   "outputs": [
    {
     "name": "stdout",
     "output_type": "stream",
     "text": [
      "1\n",
      "IGNITE\n"
     ]
    }
   ],
   "source": [
    "echo $var1\n",
    "echo $var2"
   ]
  },
  {
   "cell_type": "markdown",
   "metadata": {},
   "source": [
    "You may have noticed here that to call the variable, it needs to be preceeded by \\$. In addition, it is good practice to call a variable \\${var1} instead of \\$var1, or \\${var2} instead of \\$var1. It is not necessary in many cases, but if you use \\${} and not just \\$ , you are sure that your variable will be called correctly. "
   ]
  },
  {
   "cell_type": "code",
   "execution_count": 4,
   "metadata": {},
   "outputs": [
    {
     "name": "stdout",
     "output_type": "stream",
     "text": [
      "1\n",
      "IGNITE\n"
     ]
    }
   ],
   "source": [
    "echo ${var1}\n",
    "echo ${var2}"
   ]
  },
  {
   "cell_type": "markdown",
   "metadata": {},
   "source": [
    "Here is an example of the limits of \\$ :"
   ]
  },
  {
   "cell_type": "code",
   "execution_count": 5,
   "metadata": {},
   "outputs": [
    {
     "name": "stdout",
     "output_type": "stream",
     "text": [
      "IGNITE is awesome!\n",
      "This is an \n"
     ]
    }
   ],
   "source": [
    "echo \"$var2 is awesome!\"\n",
    "echo \"This is an $var2mare\""
   ]
  },
  {
   "cell_type": "markdown",
   "metadata": {},
   "source": [
    "And here is how this problem is solved with \\${} :"
   ]
  },
  {
   "cell_type": "code",
   "execution_count": 6,
   "metadata": {},
   "outputs": [
    {
     "name": "stdout",
     "output_type": "stream",
     "text": [
      "This is an IGNITEmare\n"
     ]
    }
   ],
   "source": [
    "echo \"This is an ${var2}mare\""
   ]
  },
  {
   "cell_type": "markdown",
   "metadata": {},
   "source": [
    "With \\${} the computer knows where the name of the variable starts and where it ends. This notation is better suited for example when you call variables in a path.\n",
    "\n",
    "The value attributed to a variable can be modified :"
   ]
  },
  {
   "cell_type": "code",
   "execution_count": 7,
   "metadata": {},
   "outputs": [
    {
     "name": "stdout",
     "output_type": "stream",
     "text": [
      "IGNITE\n",
      "ITN\n"
     ]
    }
   ],
   "source": [
    "echo ${var2}\n",
    "var2=\"ITN\"\n",
    "echo ${var2}"
   ]
  },
  {
   "cell_type": "markdown",
   "metadata": {},
   "source": [
    "When a variable has been attributed a number as a value, this value can be used in simple operations :"
   ]
  },
  {
   "cell_type": "code",
   "execution_count": 8,
   "metadata": {},
   "outputs": [
    {
     "name": "stdout",
     "output_type": "stream",
     "text": [
      "1\n",
      "6\n",
      "4\n",
      "12\n"
     ]
    }
   ],
   "source": [
    "echo ${var1}\n",
    "(( var1 = var1 + 5 ))\n",
    "echo ${var1}\n",
    "(( var1 = var1 - 2))\n",
    "echo ${var1}\n",
    "(( var1 = var1 * 3))\n",
    "echo ${var1}"
   ]
  },
  {
   "cell_type": "markdown",
   "metadata": {},
   "source": [
    "## LS\n",
    "\n",
    "Prints the list of elements (files and directories) in a directory."
   ]
  },
  {
   "cell_type": "code",
   "execution_count": 9,
   "metadata": {},
   "outputs": [
    {
     "name": "stdout",
     "output_type": "stream",
     "text": [
      "Bash_Practical_Work.ipynb  \u001b[0m\u001b[01;34mLachancea_meyersii\u001b[0m        LAKL.ans.cds  test_awk.txt\n",
      "\u001b[01;34mLachancea_dasiensis\u001b[0m        \u001b[01;34mLachancea_thermotolerans\u001b[0m  LAME.ans.cds\n",
      "\u001b[01;34mLachancea_kluyveri\u001b[0m         LADA.ans.cds              LATH.ans.cds\n"
     ]
    }
   ],
   "source": [
    "ls"
   ]
  },
  {
   "cell_type": "markdown",
   "metadata": {},
   "source": [
    "Here, you can see all the directories and files in the current directory."
   ]
  },
  {
   "cell_type": "markdown",
   "metadata": {},
   "source": [
    "## PWD\n",
    "\n",
    "Print working directory. This command shows the path to the directory you are in."
   ]
  },
  {
   "cell_type": "code",
   "execution_count": 10,
   "metadata": {},
   "outputs": [
    {
     "name": "stdout",
     "output_type": "stream",
     "text": [
      "/home/nadege/ignite_workshop\n"
     ]
    }
   ],
   "source": [
    "pwd"
   ]
  },
  {
   "cell_type": "markdown",
   "metadata": {},
   "source": [
    "/home/nadege/ designates the user home directory. It can be called with ~ . Here you are located in the directory \"ignite_workshop\". You can call directly all the files and directories in the directory \"ignite_workshop\". To access files and directories in other directories, you can either : 1) change directory 2) type the path leading to this element. \n",
    "\n",
    "\n",
    "~/ignite_workshop and /home/nadege/ignite_workshop are equivalent in this situation (on my computer). "
   ]
  },
  {
   "cell_type": "markdown",
   "metadata": {},
   "source": [
    "## CD\n",
    "\n",
    "Change directory. To switch to another directory.\n",
    "\n",
    "We are currently in the directory \"ignite_workshop\", and the command ls has showed you all the directories and files in the current directory \"ignite_workshop\". \n",
    "\n",
    "Earlier, when using the command ls, you may have noticed that there is a directory called \"Lachancea_dasiensis\". You can use cd to go in that directory."
   ]
  },
  {
   "cell_type": "code",
   "execution_count": 11,
   "metadata": {},
   "outputs": [
    {
     "name": "stdout",
     "output_type": "stream",
     "text": [
      "/home/nadege/ignite_workshop/Lachancea_dasiensis\n",
      "LADA0A.fsa  LADA0C.fsa  LADA0E.fsa  LADA0G.fsa\n",
      "LADA0B.fsa  LADA0D.fsa  LADA0F.fsa  LADA0H.fsa\n"
     ]
    }
   ],
   "source": [
    "cd Lachancea_dasiensis                     #to get into the directory Lachancea_dasiensis\n",
    "pwd                                        #check what is the current directory\n",
    "ls                                         #take a look at the files and directories\n",
    "                                           #in this directory"
   ]
  },
  {
   "cell_type": "markdown",
   "metadata": {},
   "source": [
    "The result of the command ls is different from the one you had earlier. This is because you changed directory, and you now have directly access to all the files and directories in the directory \"Lachancea_dasiensis\".\n",
    "\n",
    "You can type cd .. to go to the upper directory. "
   ]
  },
  {
   "cell_type": "code",
   "execution_count": 12,
   "metadata": {},
   "outputs": [
    {
     "name": "stdout",
     "output_type": "stream",
     "text": [
      "/home/nadege/ignite_workshop\n",
      "Bash_Practical_Work.ipynb  \u001b[0m\u001b[01;34mLachancea_meyersii\u001b[0m        LAKL.ans.cds  test_awk.txt\n",
      "\u001b[01;34mLachancea_dasiensis\u001b[0m        \u001b[01;34mLachancea_thermotolerans\u001b[0m  LAME.ans.cds\n",
      "\u001b[01;34mLachancea_kluyveri\u001b[0m         LADA.ans.cds              LATH.ans.cds\n"
     ]
    }
   ],
   "source": [
    "cd ..                                      #to go to the upper folder \n",
    "pwd                                        #check what is the current directory\n",
    "ls                                         #take a look at the files and directories\n",
    "                                           #in this directory"
   ]
  },
  {
   "cell_type": "markdown",
   "metadata": {},
   "source": [
    "The symbol ~ is used to designate the user home directory. The command cd ~ switches the environment to the user home directory."
   ]
  },
  {
   "cell_type": "code",
   "execution_count": 13,
   "metadata": {},
   "outputs": [
    {
     "name": "stdout",
     "output_type": "stream",
     "text": [
      "/home/nadege\n"
     ]
    }
   ],
   "source": [
    "cd ~                                       #to go to the home directory\n",
    "pwd                                        #check what is the current directory"
   ]
  },
  {
   "cell_type": "markdown",
   "metadata": {},
   "source": [
    "Here, the working directory is \"/home/nadege\" which is the same as ~ .\n",
    "\n",
    "To go in a specific directory, you can use cd with full path leading to this directory."
   ]
  },
  {
   "cell_type": "code",
   "execution_count": 14,
   "metadata": {},
   "outputs": [
    {
     "name": "stdout",
     "output_type": "stream",
     "text": [
      "/home/nadege/ignite_workshop/Lachancea_dasiensis\n"
     ]
    }
   ],
   "source": [
    "cd ~/ignite_workshop/Lachancea_dasiensis/  #to go to Lachancea_dasiensis with \n",
    "                                           #full path\n",
    "pwd                                        #check what is the current directory"
   ]
  },
  {
   "cell_type": "markdown",
   "metadata": {},
   "source": [
    "To go back to the directory \"ignite_workshop\", you can use cd and the path to the directory \"ignite_workshop\"."
   ]
  },
  {
   "cell_type": "code",
   "execution_count": 15,
   "metadata": {},
   "outputs": [
    {
     "name": "stdout",
     "output_type": "stream",
     "text": [
      "/home/nadege/ignite_workshop\n"
     ]
    }
   ],
   "source": [
    "cd ~/ignite_workshop/                      #to go to ignite_workshop with full path\n",
    "pwd                                        #check what is the current directory"
   ]
  },
  {
   "cell_type": "markdown",
   "metadata": {},
   "source": [
    "Since you were located in the directory \"Lachancea_dasiensis\" which is a subdirectory of \"ignite_workshop\", you could have used cd .. to go back to the upper folder \"ignite_workshop\", and the result would have been the same."
   ]
  },
  {
   "cell_type": "markdown",
   "metadata": {},
   "source": [
    "## TREE\n",
    "\n",
    "List contents of directories in a tree-like format.\n",
    "\n",
    "Directories are organised as an arborescence, where subdirectories and files of a directory are its ramifications. The command tree can be used to visualize these ramifications.\n"
   ]
  },
  {
   "cell_type": "code",
   "execution_count": 16,
   "metadata": {},
   "outputs": [
    {
     "name": "stdout",
     "output_type": "stream",
     "text": [
      "\u001b[01;34m.\u001b[00m\n",
      "├── Bash_Practical_Work.ipynb\n",
      "├── \u001b[01;34mLachancea_dasiensis\u001b[00m\n",
      "│   ├── LADA0A.fsa\n",
      "│   ├── LADA0B.fsa\n",
      "│   ├── LADA0C.fsa\n",
      "│   ├── LADA0D.fsa\n",
      "│   ├── LADA0E.fsa\n",
      "│   ├── LADA0F.fsa\n",
      "│   ├── LADA0G.fsa\n",
      "│   └── LADA0H.fsa\n",
      "├── \u001b[01;34mLachancea_kluyveri\u001b[00m\n",
      "│   ├── SAKL0A.fsa\n",
      "│   ├── SAKL0B.fsa\n",
      "│   ├── SAKL0C.fsa\n",
      "│   ├── SAKL0D.fsa\n",
      "│   ├── SAKL0E.fsa\n",
      "│   ├── SAKL0F.fsa\n",
      "│   ├── SAKL0G.fsa\n",
      "│   └── SAKL0H.fsa\n",
      "├── \u001b[01;34mLachancea_meyersii\u001b[00m\n",
      "│   ├── LAME0A.fsa\n",
      "│   ├── LAME0B.fsa\n",
      "│   ├── LAME0C.fsa\n",
      "│   ├── LAME0D.fsa\n",
      "│   ├── LAME0E.fsa\n",
      "│   ├── LAME0F.fsa\n",
      "│   ├── LAME0G.fsa\n",
      "│   └── LAME0H.fsa\n",
      "├── \u001b[01;34mLachancea_thermotolerans\u001b[00m\n",
      "│   ├── CU928165.fsa\n",
      "│   ├── CU928166.fsa\n",
      "│   ├── CU928167.fsa\n",
      "│   ├── CU928168.fsa\n",
      "│   ├── CU928169.fsa\n",
      "│   ├── CU928170.fsa\n",
      "│   ├── CU928171.fsa\n",
      "│   └── CU928180.fsa\n",
      "├── LADA.ans.cds\n",
      "├── LAKL.ans.cds\n",
      "├── LAME.ans.cds\n",
      "├── LATH.ans.cds\n",
      "└── test_awk.txt\n",
      "\n",
      "4 directories, 38 files\n"
     ]
    }
   ],
   "source": [
    "tree"
   ]
  },
  {
   "cell_type": "markdown",
   "metadata": {},
   "source": [
    "Here you can see all the subdirectories as well as the files in the directory and in the subdirectories."
   ]
  },
  {
   "cell_type": "markdown",
   "metadata": {},
   "source": [
    "## TOUCH\n",
    "\n",
    "This command is described as \"change file timestamps\", but it is often used to create a file."
   ]
  },
  {
   "cell_type": "code",
   "execution_count": 17,
   "metadata": {},
   "outputs": [
    {
     "name": "stdout",
     "output_type": "stream",
     "text": [
      "Bash_Practical_Work.ipynb  \u001b[0m\u001b[01;34mLachancea_meyersii\u001b[0m        LAKL.ans.cds  test_awk.txt\n",
      "\u001b[01;34mLachancea_dasiensis\u001b[0m        \u001b[01;34mLachancea_thermotolerans\u001b[0m  LAME.ans.cds  test.txt\n",
      "\u001b[01;34mLachancea_kluyveri\u001b[0m         LADA.ans.cds              LATH.ans.cds\n"
     ]
    }
   ],
   "source": [
    "touch test.txt #to create the file named \"test.txt\"\n",
    "\n",
    "ls             #to see the list of elements in the directory \n",
    "               #and check that the file has been created"
   ]
  },
  {
   "cell_type": "markdown",
   "metadata": {},
   "source": [
    "Here you can see that the file \"test.txt\" now appears in the list of elements in the directory."
   ]
  },
  {
   "cell_type": "markdown",
   "metadata": {},
   "source": [
    "## MKDIR\n",
    "\n",
    "To create a directory."
   ]
  },
  {
   "cell_type": "code",
   "execution_count": 18,
   "metadata": {},
   "outputs": [
    {
     "name": "stdout",
     "output_type": "stream",
     "text": [
      "Bash_Practical_Work.ipynb  \u001b[0m\u001b[01;34mLachancea_meyersii\u001b[0m        LAKL.ans.cds  \u001b[01;34mtest\u001b[0m\n",
      "\u001b[01;34mLachancea_dasiensis\u001b[0m        \u001b[01;34mLachancea_thermotolerans\u001b[0m  LAME.ans.cds  test_awk.txt\n",
      "\u001b[01;34mLachancea_kluyveri\u001b[0m         LADA.ans.cds              LATH.ans.cds  test.txt\n"
     ]
    }
   ],
   "source": [
    "mkdir test #to create the directory\n",
    "\n",
    "ls         #to check the list of elements in the current directory \n",
    "           #and check that the new directory has been created"
   ]
  },
  {
   "cell_type": "markdown",
   "metadata": {},
   "source": [
    "mkdir -p creates a directory and does not display an error if the directory already exists."
   ]
  },
  {
   "cell_type": "markdown",
   "metadata": {},
   "source": [
    "## RM\n",
    "\n",
    "To remove an element.\n",
    "\n",
    "To remove a directory, the option -r has to be added."
   ]
  },
  {
   "cell_type": "code",
   "execution_count": 19,
   "metadata": {},
   "outputs": [
    {
     "name": "stdout",
     "output_type": "stream",
     "text": [
      "Bash_Practical_Work.ipynb  \u001b[0m\u001b[01;34mLachancea_meyersii\u001b[0m        LAKL.ans.cds  test_awk.txt\n",
      "\u001b[01;34mLachancea_dasiensis\u001b[0m        \u001b[01;34mLachancea_thermotolerans\u001b[0m  LAME.ans.cds\n",
      "\u001b[01;34mLachancea_kluyveri\u001b[0m         LADA.ans.cds              LATH.ans.cds\n"
     ]
    }
   ],
   "source": [
    "rm test.txt #delete the file test.txt\n",
    "\n",
    "rm -r test  #delete the directory test\n",
    "\n",
    "ls          #check that they have been deleted"
   ]
  },
  {
   "cell_type": "markdown",
   "metadata": {},
   "source": [
    "rm should be used carefully : when a file or a full directory is deleted with rm, it is gone. Good luck retrieving it."
   ]
  },
  {
   "cell_type": "markdown",
   "metadata": {},
   "source": [
    "## Send the output to a file\n",
    "\n",
    "You can send the output of a command to a file with > after the command."
   ]
  },
  {
   "cell_type": "code",
   "execution_count": 20,
   "metadata": {},
   "outputs": [],
   "source": [
    "ls > test.txt"
   ]
  },
  {
   "cell_type": "markdown",
   "metadata": {},
   "source": [
    "You can use >> to simply add to a file. If you use > and the file already exists, the existing file is going to be replaced by the new file."
   ]
  },
  {
   "cell_type": "markdown",
   "metadata": {},
   "source": [
    "## Visualize a file's content\n",
    "\n",
    "You can see what is in a file by using more."
   ]
  },
  {
   "cell_type": "code",
   "execution_count": 21,
   "metadata": {},
   "outputs": [
    {
     "name": "stdout",
     "output_type": "stream",
     "text": [
      "Bash_Practical_Work.ipynb\n",
      "Lachancea_dasiensis\n",
      "Lachancea_kluyveri\n",
      "Lachancea_meyersii\n",
      "Lachancea_thermotolerans\n",
      "LADA.ans.cds\n",
      "LAKL.ans.cds\n",
      "LAME.ans.cds\n",
      "LATH.ans.cds\n",
      "test_awk.txt\n",
      "test.txt\n"
     ]
    }
   ],
   "source": [
    "more test.txt"
   ]
  },
  {
   "cell_type": "markdown",
   "metadata": {},
   "source": [
    "The commands head and tail allow you to get only the first lines or the last lines of a file. You can add a parameter to indicate how many lines you want to see."
   ]
  },
  {
   "cell_type": "code",
   "execution_count": 22,
   "metadata": {},
   "outputs": [
    {
     "name": "stdout",
     "output_type": "stream",
     "text": [
      "Bash_Practical_Work.ipynb\n",
      "Lachancea_dasiensis\n"
     ]
    }
   ],
   "source": [
    "head -2 test.txt"
   ]
  },
  {
   "cell_type": "code",
   "execution_count": 23,
   "metadata": {},
   "outputs": [
    {
     "name": "stdout",
     "output_type": "stream",
     "text": [
      "test_awk.txt\n",
      "test.txt\n"
     ]
    }
   ],
   "source": [
    "tail -2 test.txt"
   ]
  },
  {
   "cell_type": "markdown",
   "metadata": {},
   "source": [
    "## MV\n",
    "\n",
    "To move an element somewhere else.\n",
    "\n",
    "For example, the file called test.txt is moved to the directory \"Lachancea_dasiensis\" :"
   ]
  },
  {
   "cell_type": "code",
   "execution_count": 24,
   "metadata": {},
   "outputs": [
    {
     "name": "stdout",
     "output_type": "stream",
     "text": [
      "LADA0A.fsa  LADA0C.fsa  LADA0E.fsa  LADA0G.fsa  test.txt\n",
      "LADA0B.fsa  LADA0D.fsa  LADA0F.fsa  LADA0H.fsa\n"
     ]
    }
   ],
   "source": [
    "mv test.txt Lachancea_dasiensis #move test.txt to Lachancea_dasiensis\n",
    "\n",
    "cd Lachancea_dasiensis          #switch to Lachancea_dasiensis directory\n",
    "\n",
    "ls                              #check that test.txt is in Lachancea_dasiensis"
   ]
  },
  {
   "cell_type": "markdown",
   "metadata": {},
   "source": [
    "Here you can see that if you change your directory to the directory \"Lachancea_dasiensis\", you can see that you now find the file test.txt in this directory.\n",
    "\n",
    "mv can also be used to change a file's name."
   ]
  },
  {
   "cell_type": "code",
   "execution_count": 25,
   "metadata": {},
   "outputs": [
    {
     "name": "stdout",
     "output_type": "stream",
     "text": [
      "foo.txt     LADA0B.fsa  LADA0D.fsa  LADA0F.fsa  LADA0H.fsa\n",
      "LADA0A.fsa  LADA0C.fsa  LADA0E.fsa  LADA0G.fsa\n"
     ]
    }
   ],
   "source": [
    "mv test.txt foo.txt\n",
    "ls"
   ]
  },
  {
   "cell_type": "markdown",
   "metadata": {},
   "source": [
    "The file test.txt is now found under the name foo.txt."
   ]
  },
  {
   "cell_type": "markdown",
   "metadata": {},
   "source": [
    "## CP\n",
    "\n",
    "Copy files and directories.\n",
    "\n",
    "Here to make a copy of the file foo.txt in the file foo2.txt :"
   ]
  },
  {
   "cell_type": "code",
   "execution_count": 26,
   "metadata": {},
   "outputs": [
    {
     "name": "stdout",
     "output_type": "stream",
     "text": [
      "foo2.txt  LADA0A.fsa  LADA0C.fsa  LADA0E.fsa  LADA0G.fsa\n",
      "foo.txt   LADA0B.fsa  LADA0D.fsa  LADA0F.fsa  LADA0H.fsa\n"
     ]
    }
   ],
   "source": [
    "cp foo.txt foo2.txt #make a copy\n",
    "ls                  #check the existence of foo2.txt"
   ]
  },
  {
   "cell_type": "markdown",
   "metadata": {},
   "source": [
    "## GREP\n",
    "\n",
    "grep is used to find a pattern in a string."
   ]
  },
  {
   "cell_type": "code",
   "execution_count": 27,
   "metadata": {},
   "outputs": [
    {
     "name": "stdout",
     "output_type": "stream",
     "text": [
      "\u001b[01;31m\u001b[KLachancea\u001b[m\u001b[K_dasiensis\n",
      "\u001b[01;31m\u001b[KLachancea\u001b[m\u001b[K_kluyveri\n",
      "\u001b[01;31m\u001b[KLachancea\u001b[m\u001b[K_meyersii\n",
      "\u001b[01;31m\u001b[KLachancea\u001b[m\u001b[K_thermotolerans\n"
     ]
    }
   ],
   "source": [
    "grep Lachancea foo.txt #find the lines that match the pattern \"Lachancea\" \n",
    "                       #in the file foo.txt"
   ]
  },
  {
   "cell_type": "markdown",
   "metadata": {},
   "source": [
    "grep -v is used to show only the lines that do not match the pattern."
   ]
  },
  {
   "cell_type": "code",
   "execution_count": 28,
   "metadata": {},
   "outputs": [
    {
     "name": "stdout",
     "output_type": "stream",
     "text": [
      "Bash_Practical_Work.ipynb\n",
      "LADA.ans.cds\n",
      "LAKL.ans.cds\n",
      "LAME.ans.cds\n",
      "LATH.ans.cds\n",
      "test_awk.txt\n",
      "test.txt\n"
     ]
    }
   ],
   "source": [
    "grep -v Lachancea foo.txt #find the lines that do not match the pattern\n",
    "                          #\"Lachancea\" in the file foo.txt"
   ]
  },
  {
   "cell_type": "markdown",
   "metadata": {},
   "source": [
    "grep -r searches the pattern in all the files in your directory, including the files in the subdirectories."
   ]
  },
  {
   "cell_type": "code",
   "execution_count": 29,
   "metadata": {},
   "outputs": [
    {
     "name": "stdout",
     "output_type": "stream",
     "text": [
      "\u001b[35m\u001b[KLADA0H.fsa\u001b[m\u001b[K\u001b[36m\u001b[K:\u001b[m\u001b[K>LADA0H \u001b[01;31m\u001b[KLachancea\u001b[m\u001b[K dasiensis CBS10888 chromosome H, complete assembly\n",
      "\u001b[35m\u001b[KLADA0F.fsa\u001b[m\u001b[K\u001b[36m\u001b[K:\u001b[m\u001b[K>LADA0F \u001b[01;31m\u001b[KLachancea\u001b[m\u001b[K dasiensis CBS10888 chromosome F, complete assembly\n",
      "\u001b[35m\u001b[KLADA0B.fsa\u001b[m\u001b[K\u001b[36m\u001b[K:\u001b[m\u001b[K>LADA0B \u001b[01;31m\u001b[KLachancea\u001b[m\u001b[K dasiensis CBS10888 chromosome B, complete assembly\n",
      "\u001b[35m\u001b[Kfoo.txt\u001b[m\u001b[K\u001b[36m\u001b[K:\u001b[m\u001b[K\u001b[01;31m\u001b[KLachancea\u001b[m\u001b[K_dasiensis\n",
      "\u001b[35m\u001b[Kfoo.txt\u001b[m\u001b[K\u001b[36m\u001b[K:\u001b[m\u001b[K\u001b[01;31m\u001b[KLachancea\u001b[m\u001b[K_kluyveri\n",
      "\u001b[35m\u001b[Kfoo.txt\u001b[m\u001b[K\u001b[36m\u001b[K:\u001b[m\u001b[K\u001b[01;31m\u001b[KLachancea\u001b[m\u001b[K_meyersii\n",
      "\u001b[35m\u001b[Kfoo.txt\u001b[m\u001b[K\u001b[36m\u001b[K:\u001b[m\u001b[K\u001b[01;31m\u001b[KLachancea\u001b[m\u001b[K_thermotolerans\n",
      "\u001b[35m\u001b[Kfoo2.txt\u001b[m\u001b[K\u001b[36m\u001b[K:\u001b[m\u001b[K\u001b[01;31m\u001b[KLachancea\u001b[m\u001b[K_dasiensis\n",
      "\u001b[35m\u001b[Kfoo2.txt\u001b[m\u001b[K\u001b[36m\u001b[K:\u001b[m\u001b[K\u001b[01;31m\u001b[KLachancea\u001b[m\u001b[K_kluyveri\n",
      "\u001b[35m\u001b[Kfoo2.txt\u001b[m\u001b[K\u001b[36m\u001b[K:\u001b[m\u001b[K\u001b[01;31m\u001b[KLachancea\u001b[m\u001b[K_meyersii\n",
      "\u001b[35m\u001b[Kfoo2.txt\u001b[m\u001b[K\u001b[36m\u001b[K:\u001b[m\u001b[K\u001b[01;31m\u001b[KLachancea\u001b[m\u001b[K_thermotolerans\n",
      "\u001b[35m\u001b[KLADA0A.fsa\u001b[m\u001b[K\u001b[36m\u001b[K:\u001b[m\u001b[K>LADA0A \u001b[01;31m\u001b[KLachancea\u001b[m\u001b[K dasiensis CBS10888 chromosome A, complete assembly\n",
      "\u001b[35m\u001b[KLADA0D.fsa\u001b[m\u001b[K\u001b[36m\u001b[K:\u001b[m\u001b[K>LADA0D \u001b[01;31m\u001b[KLachancea\u001b[m\u001b[K dasiensis CBS10888 chromosome D, complete assembly\n",
      "\u001b[35m\u001b[KLADA0C.fsa\u001b[m\u001b[K\u001b[36m\u001b[K:\u001b[m\u001b[K>LADA0C \u001b[01;31m\u001b[KLachancea\u001b[m\u001b[K dasiensis CBS10888 chromosome C, complete assembly\n",
      "\u001b[35m\u001b[KLADA0E.fsa\u001b[m\u001b[K\u001b[36m\u001b[K:\u001b[m\u001b[K>LADA0E \u001b[01;31m\u001b[KLachancea\u001b[m\u001b[K dasiensis CBS10888 chromosome E, complete assembly\n",
      "\u001b[35m\u001b[KLADA0G.fsa\u001b[m\u001b[K\u001b[36m\u001b[K:\u001b[m\u001b[K>LADA0G \u001b[01;31m\u001b[KLachancea\u001b[m\u001b[K dasiensis CBS10888 chromosome G, complete assembly\n"
     ]
    }
   ],
   "source": [
    "grep -r Lachancea #searches \"Lachancea\" in all the files in the directory\n",
    "                  #and subdirectories"
   ]
  },
  {
   "cell_type": "markdown",
   "metadata": {},
   "source": [
    "grep -c shows the number of lines that match the pattern in a file."
   ]
  },
  {
   "cell_type": "code",
   "execution_count": 30,
   "metadata": {},
   "outputs": [
    {
     "name": "stdout",
     "output_type": "stream",
     "text": [
      "4\n"
     ]
    }
   ],
   "source": [
    "grep Lachancea foo.txt -c "
   ]
  },
  {
   "cell_type": "markdown",
   "metadata": {},
   "source": [
    "There are 4 lines in foo.txt that matched the pattern \"Lachancea\"."
   ]
  },
  {
   "cell_type": "code",
   "execution_count": 31,
   "metadata": {},
   "outputs": [
    {
     "name": "stdout",
     "output_type": "stream",
     "text": [
      "\u001b[35m\u001b[KLADA0H.fsa\u001b[m\u001b[K\u001b[36m\u001b[K:\u001b[m\u001b[K1\n",
      "\u001b[35m\u001b[KLADA0F.fsa\u001b[m\u001b[K\u001b[36m\u001b[K:\u001b[m\u001b[K1\n",
      "\u001b[35m\u001b[KLADA0B.fsa\u001b[m\u001b[K\u001b[36m\u001b[K:\u001b[m\u001b[K1\n",
      "\u001b[35m\u001b[Kfoo.txt\u001b[m\u001b[K\u001b[36m\u001b[K:\u001b[m\u001b[K4\n",
      "\u001b[35m\u001b[Kfoo2.txt\u001b[m\u001b[K\u001b[36m\u001b[K:\u001b[m\u001b[K4\n",
      "\u001b[35m\u001b[KLADA0A.fsa\u001b[m\u001b[K\u001b[36m\u001b[K:\u001b[m\u001b[K1\n",
      "\u001b[35m\u001b[KLADA0D.fsa\u001b[m\u001b[K\u001b[36m\u001b[K:\u001b[m\u001b[K1\n",
      "\u001b[35m\u001b[KLADA0C.fsa\u001b[m\u001b[K\u001b[36m\u001b[K:\u001b[m\u001b[K1\n",
      "\u001b[35m\u001b[KLADA0E.fsa\u001b[m\u001b[K\u001b[36m\u001b[K:\u001b[m\u001b[K1\n",
      "\u001b[35m\u001b[KLADA0G.fsa\u001b[m\u001b[K\u001b[36m\u001b[K:\u001b[m\u001b[K1\n"
     ]
    }
   ],
   "source": [
    "grep -r Lachancea -c"
   ]
  },
  {
   "cell_type": "markdown",
   "metadata": {},
   "source": [
    "There are 4 lines in foo.txt that matched the pattern \"Lachancea\", while only 1 line matched in the other files."
   ]
  },
  {
   "cell_type": "markdown",
   "metadata": {},
   "source": [
    "## WC\n",
    "\n",
    "wc prints the number of lines, words, and bytes in a file."
   ]
  },
  {
   "cell_type": "code",
   "execution_count": 32,
   "metadata": {},
   "outputs": [
    {
     "name": "stdout",
     "output_type": "stream",
     "text": [
      " 11  11 183 foo.txt\n"
     ]
    }
   ],
   "source": [
    "wc foo.txt"
   ]
  },
  {
   "cell_type": "markdown",
   "metadata": {},
   "source": [
    "wc -l only shows the number of lines."
   ]
  },
  {
   "cell_type": "code",
   "execution_count": 33,
   "metadata": {},
   "outputs": [
    {
     "name": "stdout",
     "output_type": "stream",
     "text": [
      "11 foo.txt\n"
     ]
    }
   ],
   "source": [
    "wc -l foo.txt"
   ]
  },
  {
   "cell_type": "markdown",
   "metadata": {},
   "source": [
    "wc -c only shows the number of words."
   ]
  },
  {
   "cell_type": "code",
   "execution_count": 34,
   "metadata": {},
   "outputs": [
    {
     "name": "stdout",
     "output_type": "stream",
     "text": [
      "183 foo.txt\n"
     ]
    }
   ],
   "source": [
    "wc -c foo.txt"
   ]
  },
  {
   "cell_type": "markdown",
   "metadata": {},
   "source": [
    "## Pipe |\n",
    "\n",
    "The symbol | is used to send directly the output from a command to another command, and it is called pipe.\n",
    "\n",
    "For example, you can use 'ls' to list the files in your directory, and then use 'grep' to select the ones that match the pattern \"fsa\"."
   ]
  },
  {
   "cell_type": "code",
   "execution_count": 35,
   "metadata": {},
   "outputs": [
    {
     "name": "stdout",
     "output_type": "stream",
     "text": [
      "LADA0A.\u001b[01;31m\u001b[Kfsa\u001b[m\u001b[K\n",
      "LADA0B.\u001b[01;31m\u001b[Kfsa\u001b[m\u001b[K\n",
      "LADA0C.\u001b[01;31m\u001b[Kfsa\u001b[m\u001b[K\n",
      "LADA0D.\u001b[01;31m\u001b[Kfsa\u001b[m\u001b[K\n",
      "LADA0E.\u001b[01;31m\u001b[Kfsa\u001b[m\u001b[K\n",
      "LADA0F.\u001b[01;31m\u001b[Kfsa\u001b[m\u001b[K\n",
      "LADA0G.\u001b[01;31m\u001b[Kfsa\u001b[m\u001b[K\n",
      "LADA0H.\u001b[01;31m\u001b[Kfsa\u001b[m\u001b[K\n"
     ]
    }
   ],
   "source": [
    "ls | grep fsa"
   ]
  },
  {
   "cell_type": "markdown",
   "metadata": {},
   "source": [
    "You may notice that the input was not indicated in the 'grep' command because the input is the output from 'ls'."
   ]
  },
  {
   "cell_type": "markdown",
   "metadata": {},
   "source": [
    "## AWK\n",
    "\n",
    "We will not go into details about awk, because awk is a mini-programming language. But it is commonly used for columns selection.\n",
    "\n",
    "The command more shows you what is in the file \"test_awk.txt\" :"
   ]
  },
  {
   "cell_type": "code",
   "execution_count": 36,
   "metadata": {},
   "outputs": [
    {
     "name": "stdout",
     "output_type": "stream",
     "text": [
      "LADA0A LADA0A00210g 16 15850 17448\n",
      "LADA0A LADA0A00254g 16 19637 20305\n",
      "LADA0A LADA0A00276g 0 20619 22100\n",
      "LADA0A LADA0A00298g 0 23104 25068\n",
      "LADA0A LADA0A00320g 0 25282 25926\n"
     ]
    }
   ],
   "source": [
    "cd .. #switch to upper directory ignite_workshop\n",
    "\n",
    "more test_awk.txt #show test_awk.txt"
   ]
  },
  {
   "cell_type": "markdown",
   "metadata": {},
   "source": [
    "Then you can choose to select a specific column in this file, here the second column :"
   ]
  },
  {
   "cell_type": "code",
   "execution_count": 37,
   "metadata": {},
   "outputs": [
    {
     "name": "stdout",
     "output_type": "stream",
     "text": [
      "LADA0A00210g\n",
      "LADA0A00254g\n",
      "LADA0A00276g\n",
      "LADA0A00298g\n",
      "LADA0A00320g\n"
     ]
    }
   ],
   "source": [
    "awk '{print $2}' test_awk.txt #print the second column of test_awk.txt"
   ]
  },
  {
   "cell_type": "markdown",
   "metadata": {},
   "source": [
    "You can select several columns at the same time, here the first and second colums :"
   ]
  },
  {
   "cell_type": "code",
   "execution_count": 38,
   "metadata": {},
   "outputs": [
    {
     "name": "stdout",
     "output_type": "stream",
     "text": [
      "LADA0A LADA0A00210g\n",
      "LADA0A LADA0A00254g\n",
      "LADA0A LADA0A00276g\n",
      "LADA0A LADA0A00298g\n",
      "LADA0A LADA0A00320g\n"
     ]
    }
   ],
   "source": [
    "awk '{print $1,$2}' test_awk.txt #print first and second columns"
   ]
  },
  {
   "cell_type": "markdown",
   "metadata": {},
   "source": [
    "## CUT\n",
    "\n",
    "Remove sections for each line of files.\n",
    "\n",
    "cut can be used in a similar as what was done previously to select columns with awk. cut cuts a string on a specific delimiter.\n",
    "\n",
    "The option -d indicates at what character (delimiter) the string should be cut. The option -f indicates which field to select after cutting."
   ]
  },
  {
   "cell_type": "code",
   "execution_count": 39,
   "metadata": {},
   "outputs": [
    {
     "name": "stdout",
     "output_type": "stream",
     "text": [
      "LADA0A00210g\n",
      "LADA0A00254g\n",
      "LADA0A00276g\n",
      "LADA0A00298g\n",
      "LADA0A00320g\n"
     ]
    }
   ],
   "source": [
    "cut -f 2 -d \" \" test_awk.txt"
   ]
  },
  {
   "cell_type": "markdown",
   "metadata": {},
   "source": [
    "Here the lines from the file test_awk.txt are cut at each space \" \". Then, the second field is selected. As a result, the second column is displayed.\n",
    "\n",
    "You can also select several fields :"
   ]
  },
  {
   "cell_type": "code",
   "execution_count": 40,
   "metadata": {},
   "outputs": [
    {
     "name": "stdout",
     "output_type": "stream",
     "text": [
      "LADA0A LADA0A00210g\n",
      "LADA0A LADA0A00254g\n",
      "LADA0A LADA0A00276g\n",
      "LADA0A LADA0A00298g\n",
      "LADA0A LADA0A00320g\n"
     ]
    }
   ],
   "source": [
    "cut -f 1-2 -d \" \" test_awk.txt"
   ]
  },
  {
   "cell_type": "markdown",
   "metadata": {},
   "source": [
    "Here the lines from the file test_awk.txt are cut at each space \" \". Then, the first and second fields (1-2) are selected. As a result, the first and second columns are displayed.\n",
    "\n",
    "But strings can also be cut at another character, for example here the lines are cut on the delimiter \"L\" and the third field is selected :"
   ]
  },
  {
   "cell_type": "code",
   "execution_count": 41,
   "metadata": {},
   "outputs": [
    {
     "name": "stdout",
     "output_type": "stream",
     "text": [
      "ADA0A00210g 16 15850 17448\n",
      "ADA0A00254g 16 19637 20305\n",
      "ADA0A00276g 0 20619 22100\n",
      "ADA0A00298g 0 23104 25068\n",
      "ADA0A00320g 0 25282 25926\n"
     ]
    }
   ],
   "source": [
    "cut -f 3 -d L test_awk.txt"
   ]
  },
  {
   "cell_type": "markdown",
   "metadata": {},
   "source": [
    "## SORT\n",
    "\n",
    "Sort lines of text files.\n",
    "\n",
    "By default, the lines are going to be sorted according to the first column."
   ]
  },
  {
   "cell_type": "code",
   "execution_count": 42,
   "metadata": {},
   "outputs": [
    {
     "name": "stdout",
     "output_type": "stream",
     "text": [
      "LADA0A LADA0A00210g 16 15850 17448\n",
      "LADA0A LADA0A00254g 16 19637 20305\n",
      "LADA0A LADA0A00276g 0 20619 22100\n",
      "LADA0A LADA0A00298g 0 23104 25068\n",
      "LADA0A LADA0A00320g 0 25282 25926\n"
     ]
    }
   ],
   "source": [
    "sort test_awk.txt"
   ]
  },
  {
   "cell_type": "markdown",
   "metadata": {},
   "source": [
    "In the file test_awk.txt, the values in the first column are all identical (LADA0A). Hence the file is sorted according to the second column.\n",
    "\n",
    "The user can specify on which column the file should be sorted, with the option -k :"
   ]
  },
  {
   "cell_type": "code",
   "execution_count": 43,
   "metadata": {},
   "outputs": [
    {
     "name": "stdout",
     "output_type": "stream",
     "text": [
      "LADA0A LADA0A00276g 0 20619 22100\n",
      "LADA0A LADA0A00298g 0 23104 25068\n",
      "LADA0A LADA0A00320g 0 25282 25926\n",
      "LADA0A LADA0A00210g 16 15850 17448\n",
      "LADA0A LADA0A00254g 16 19637 20305\n"
     ]
    }
   ],
   "source": [
    "sort -k 3 test_awk.txt"
   ]
  },
  {
   "cell_type": "markdown",
   "metadata": {},
   "source": [
    "The file is sorted according to the third column. The lines with the value \"0\" are put first, and the lines with the value \"16\" are put after. "
   ]
  },
  {
   "cell_type": "markdown",
   "metadata": {},
   "source": [
    "## GZIP\n",
    "\n",
    "You can compress a file with gzip, and then decompress with gunzip."
   ]
  },
  {
   "cell_type": "code",
   "execution_count": 44,
   "metadata": {},
   "outputs": [
    {
     "name": "stdout",
     "output_type": "stream",
     "text": [
      "Bash_Practical_Work.ipynb  \u001b[0m\u001b[01;34mLachancea_thermotolerans\u001b[0m  LATH.ans.cds\n",
      "\u001b[01;34mLachancea_dasiensis\u001b[0m        LADA.ans.cds              \u001b[01;31mtest_awk.txt.gz\u001b[0m\n",
      "\u001b[01;34mLachancea_kluyveri\u001b[0m         LAKL.ans.cds\n",
      "\u001b[01;34mLachancea_meyersii\u001b[0m         LAME.ans.cds\n"
     ]
    }
   ],
   "source": [
    "gzip test_awk.txt #compress file\n",
    "ls"
   ]
  },
  {
   "cell_type": "code",
   "execution_count": 45,
   "metadata": {},
   "outputs": [
    {
     "name": "stdout",
     "output_type": "stream",
     "text": [
      "Bash_Practical_Work.ipynb  \u001b[0m\u001b[01;34mLachancea_meyersii\u001b[0m        LAKL.ans.cds  test_awk.txt\n",
      "\u001b[01;34mLachancea_dasiensis\u001b[0m        \u001b[01;34mLachancea_thermotolerans\u001b[0m  LAME.ans.cds\n",
      "\u001b[01;34mLachancea_kluyveri\u001b[0m         LADA.ans.cds              LATH.ans.cds\n"
     ]
    }
   ],
   "source": [
    "gunzip test_awk.txt.gz #decompress file\n",
    "ls"
   ]
  },
  {
   "cell_type": "markdown",
   "metadata": {},
   "source": [
    "# Get lazy with *\n",
    "\n",
    "The symbol * can be interpreted as \"all\" or \"anything\". The symbol is replaced by any possible combination. \n",
    "\n",
    "For example, if you want to get the number of lines in all the files with extension .cds in the directory, you designate these files by *.cds."
   ]
  },
  {
   "cell_type": "code",
   "execution_count": 46,
   "metadata": {},
   "outputs": [
    {
     "name": "stdout",
     "output_type": "stream",
     "text": [
      "  4814 LADA.ans.cds\n",
      "  4931 LAKL.ans.cds\n",
      "  4847 LAME.ans.cds\n",
      "  4879 LATH.ans.cds\n",
      " 19471 total\n"
     ]
    }
   ],
   "source": [
    "wc -l *.cds"
   ]
  },
  {
   "cell_type": "markdown",
   "metadata": {},
   "source": [
    "Here, all these files were treated by the command 'wc -l' because they all matched .cds .\n",
    "\n",
    "Now, we want to compute the number of lines in all the files with the extension .fsa, in all the subdirectories."
   ]
  },
  {
   "cell_type": "code",
   "execution_count": 47,
   "metadata": {},
   "outputs": [
    {
     "name": "stdout",
     "output_type": "stream",
     "text": [
      "   13914 Lachancea_dasiensis/LADA0A.fsa\n",
      "   17783 Lachancea_dasiensis/LADA0B.fsa\n",
      "   19803 Lachancea_dasiensis/LADA0C.fsa\n",
      "   20799 Lachancea_dasiensis/LADA0D.fsa\n",
      "   23510 Lachancea_dasiensis/LADA0E.fsa\n",
      "   25749 Lachancea_dasiensis/LADA0F.fsa\n",
      "   26368 Lachancea_dasiensis/LADA0G.fsa\n",
      "   30446 Lachancea_dasiensis/LADA0H.fsa\n",
      "   15859 Lachancea_kluyveri/SAKL0A.fsa\n",
      "   18659 Lachancea_kluyveri/SAKL0B.fsa\n",
      "   20876 Lachancea_kluyveri/SAKL0C.fsa\n",
      "   21491 Lachancea_kluyveri/SAKL0D.fsa\n",
      "   21594 Lachancea_kluyveri/SAKL0E.fsa\n",
      "   23089 Lachancea_kluyveri/SAKL0F.fsa\n",
      "   28956 Lachancea_kluyveri/SAKL0G.fsa\n",
      "   38584 Lachancea_kluyveri/SAKL0H.fsa\n",
      "   13283 Lachancea_meyersii/LAME0A.fsa\n",
      "   13659 Lachancea_meyersii/LAME0B.fsa\n",
      "   16381 Lachancea_meyersii/LAME0C.fsa\n",
      "   19559 Lachancea_meyersii/LAME0D.fsa\n",
      "   22901 Lachancea_meyersii/LAME0E.fsa\n",
      "   33554 Lachancea_meyersii/LAME0F.fsa\n",
      "   34150 Lachancea_meyersii/LAME0G.fsa\n",
      "   34221 Lachancea_meyersii/LAME0H.fsa\n",
      "   11463 Lachancea_thermotolerans/CU928165.fsa\n",
      "   14897 Lachancea_thermotolerans/CU928166.fsa\n",
      "   16656 Lachancea_thermotolerans/CU928167.fsa\n",
      "   25227 Lachancea_thermotolerans/CU928168.fsa\n",
      "   25364 Lachancea_thermotolerans/CU928169.fsa\n",
      "   27217 Lachancea_thermotolerans/CU928170.fsa\n",
      "   28669 Lachancea_thermotolerans/CU928171.fsa\n",
      "   23733 Lachancea_thermotolerans/CU928180.fsa\n",
      "  728414 total\n"
     ]
    }
   ],
   "source": [
    "wc -l */*.fsa"
   ]
  },
  {
   "cell_type": "markdown",
   "metadata": {},
   "source": [
    "Here, the first \\* has been replaced by all the possible subdirectories, and then for each directory the second \\* has been replaced by all the possible files with the extension .fsa . But you should that not all commands could handle a group of files instead of a single file. In these instances, you can use a loop."
   ]
  },
  {
   "cell_type": "markdown",
   "metadata": {},
   "source": [
    "# Get super lazy with loops\n",
    "\n",
    "With loops, you can automatize tasks to treat plenty of files while you just lay back and watch your computer work (or attend to other tasks).\n",
    "\n",
    "\n",
    "You can use the loops 'while' and 'for' as you would in other languages. "
   ]
  },
  {
   "cell_type": "markdown",
   "metadata": {},
   "source": [
    "## WHILE\n",
    "\n",
    "The 'while' loop is written in the following way : <br/>\n",
    "\n",
    "\n",
    "---------------------------------------\n",
    "\n",
    "\n",
    "while [ condition ]<br/>\n",
    "\n",
    "\n",
    "do <br/>\n",
    "\n",
    "\n",
    "&nbsp;&nbsp;&nbsp;&nbsp;task <br/>\n",
    "\n",
    "\n",
    "done <br/>\n",
    "\n",
    "\n",
    "---------------------------------------\n",
    "\n",
    "\n",
    "If the condition is true, then the loop keeps going; if the condition is false, it stops."
   ]
  },
  {
   "cell_type": "code",
   "execution_count": 48,
   "metadata": {},
   "outputs": [
    {
     "name": "stdout",
     "output_type": "stream",
     "text": [
      "The number is 0\n",
      "The number is 1\n",
      "The number is 2\n",
      "The number is 3\n",
      "The number is 4\n",
      "The number is 5\n"
     ]
    }
   ],
   "source": [
    "i=0\n",
    "\n",
    "while [ ${i} -le 5 ]\n",
    "do\n",
    "    echo \"The number is ${i}\"\n",
    "    ((i++)) #to increment i\n",
    "done"
   ]
  },
  {
   "cell_type": "markdown",
   "metadata": {},
   "source": [
    "Here, the condition that has been tested is whether i is less or equal to 5 :<br/>\n",
    "\n",
    "\n",
    "-le : less or equal<br/>\n",
    "\n",
    "\n",
    "-lt : less than<br/>\n",
    "\n",
    "\n",
    "-ge : greater or equal<br/>\n",
    "\n",
    "\n",
    "-gt : greater than<br/>"
   ]
  },
  {
   "cell_type": "markdown",
   "metadata": {},
   "source": [
    "## FOR\n",
    "\n",
    "The 'for' loop picks variables in a list and treats them iteratively. It is written in the following way :\n",
    "\n",
    "\n",
    "---------------------------------------\n",
    "\n",
    "\n",
    "for i in list <br/>\n",
    "\n",
    "\n",
    "do <br/>\n",
    "\n",
    "\n",
    "&nbsp;&nbsp;&nbsp;&nbsp;task <br/>\n",
    "\n",
    "\n",
    "---------------------------------------\n",
    "\n",
    "\n",
    "done <br/>"
   ]
  },
  {
   "cell_type": "code",
   "execution_count": 49,
   "metadata": {},
   "outputs": [
    {
     "name": "stdout",
     "output_type": "stream",
     "text": [
      "I\n",
      "G\n",
      "N\n",
      "I\n",
      "T\n",
      "E\n"
     ]
    }
   ],
   "source": [
    "#create list where variables will be picked\n",
    "list=\"I G N I T E\"\n",
    "\n",
    "for i in $list\n",
    "do\n",
    "    echo ${i}\n",
    "done"
   ]
  },
  {
   "cell_type": "markdown",
   "metadata": {},
   "source": [
    "'for' loops can be used to iterate on a set of files."
   ]
  },
  {
   "cell_type": "code",
   "execution_count": 50,
   "metadata": {},
   "outputs": [
    {
     "name": "stdout",
     "output_type": "stream",
     "text": [
      "Bash_Practical_Work.ipynb\n",
      "Lachancea_dasiensis\n",
      "Lachancea_kluyveri\n",
      "Lachancea_meyersii\n",
      "Lachancea_thermotolerans\n",
      "LADA.ans.cds\n",
      "LAKL.ans.cds\n",
      "LAME.ans.cds\n",
      "LATH.ans.cds\n",
      "test_awk.txt\n"
     ]
    }
   ],
   "source": [
    "for i in *\n",
    "do\n",
    "    echo ${i} #display file name\n",
    "done"
   ]
  },
  {
   "cell_type": "code",
   "execution_count": 51,
   "metadata": {},
   "outputs": [
    {
     "name": "stdout",
     "output_type": "stream",
     "text": [
      "LADA.ans.cds\n",
      "LADA0A LADA0A00210g 16 15850 17448\n",
      "LAKL.ans.cds\n",
      "LAKL0A SAKL0A00132g 16 9038 9973\n",
      "LAME.ans.cds\n",
      "LAME0A LAME0A00298g 16 21142 21381\n",
      "LATH.ans.cds\n",
      "CU928165 KLTH0A00308g 0 23428 25053\n"
     ]
    }
   ],
   "source": [
    "for i in *.cds \n",
    "do\n",
    "    echo ${i}    #display file name\n",
    "    head -1 ${i} #display first line of the file\n",
    "done"
   ]
  },
  {
   "cell_type": "markdown",
   "metadata": {},
   "source": [
    "# Get even lazier with tests\n",
    "\n",
    "## IF ELSE ELIF\n",
    "\n",
    "You can use tests to execute a task only if the test is true. For example, you could imagine to test whether a file exists before executing a task. This can be useful to not execute a task if the output already exists, or if the input does not exist.\n",
    "The structure is as follow :\n",
    "\n",
    "\n",
    "---------------------------------------\n",
    "\n",
    "\n",
    "if [ condition ]<br/>\n",
    "\n",
    "\n",
    "then<br/>\n",
    "\n",
    "\n",
    "&nbsp;&nbsp;&nbsp;&nbsp;task <br/>\n",
    "\n",
    "\n",
    "---------------------------------------\n",
    "\n",
    "\n",
    "fi <br/>"
   ]
  },
  {
   "cell_type": "markdown",
   "metadata": {},
   "source": [
    "Here we test if 10 is greater than 1."
   ]
  },
  {
   "cell_type": "code",
   "execution_count": 52,
   "metadata": {},
   "outputs": [
    {
     "name": "stdout",
     "output_type": "stream",
     "text": [
      "10 is greater than 1\n"
     ]
    }
   ],
   "source": [
    "if [ 10 -gt 1 ] #if 10>1\n",
    "then\n",
    "    echo \"10 is greater than 1\"\n",
    "fi"
   ]
  },
  {
   "cell_type": "markdown",
   "metadata": {},
   "source": [
    "The condition is true so the command echo has been executed."
   ]
  },
  {
   "cell_type": "code",
   "execution_count": 53,
   "metadata": {},
   "outputs": [],
   "source": [
    "if [ 10 -lt 1 ] #if 10<1\n",
    "then \n",
    "    echo \"10 is lower than 1\"\n",
    "fi"
   ]
  },
  {
   "cell_type": "markdown",
   "metadata": {},
   "source": [
    "Here, the message is not displayed because the condition is false.\n",
    "\n",
    "\n",
    "You can introduce an alternative if the condition is false. The structure is :\n",
    "\n",
    "\n",
    "---------------------------------------\n",
    "\n",
    "\n",
    "if [ condition ]<br/>\n",
    "\n",
    "\n",
    "then<br/>\n",
    "\n",
    "\n",
    "&nbsp;&nbsp;&nbsp;&nbsp;task <br/>\n",
    "\n",
    "\n",
    "else<br/>\n",
    "\n",
    "\n",
    "&nbsp;&nbsp;&nbsp;&nbsp;task <br/>\n",
    "\n",
    "\n",
    "fi <br/>\n",
    "\n",
    "\n",
    "---------------------------------------"
   ]
  },
  {
   "cell_type": "markdown",
   "metadata": {},
   "source": [
    "Here we test whether 10 is less than 1. If it is, the message \"10 is lower than 1\" is displayed. If it is not, the message \"10 is not lower than 1\" is displayed."
   ]
  },
  {
   "cell_type": "code",
   "execution_count": 54,
   "metadata": {},
   "outputs": [
    {
     "name": "stdout",
     "output_type": "stream",
     "text": [
      "10 is not lower than 1\n"
     ]
    }
   ],
   "source": [
    "if [ 10 -lt 1 ] #if 10<1\n",
    "then\n",
    "    echo \"10 is lower than 1\"\n",
    "else \n",
    "    echo \"10 is not lower than 1\"\n",
    "fi"
   ]
  },
  {
   "cell_type": "markdown",
   "metadata": {},
   "source": [
    "The task in the alternative else has been executed.\n",
    "\n",
    "\n",
    "You can introduce alternatives with other tests :\n",
    "\n",
    "\n",
    "---------------------------------------\n",
    "\n",
    "\n",
    "if [ condition ]<br/>\n",
    "\n",
    "\n",
    "then<br/>\n",
    "\n",
    "\n",
    "&nbsp;&nbsp;&nbsp;&nbsp;task <br/>\n",
    "\n",
    "\n",
    "elif<br/>\n",
    "\n",
    "\n",
    "&nbsp;&nbsp;&nbsp;&nbsp;task <br/>\n",
    "\n",
    "\n",
    "else<br/>\n",
    "\n",
    "\n",
    "&nbsp;&nbsp;&nbsp;&nbsp;task <br/>\n",
    "\n",
    "\n",
    "fi <br/>\n",
    "\n",
    "\n",
    "---------------------------------------"
   ]
  },
  {
   "cell_type": "markdown",
   "metadata": {},
   "source": [
    "The variable called var is attributed the value \"a\". The following tests check whether the variable is \"a\", \"b\" or \"c\". If none of these tests is true, then the message \"I have no idea what this letter is\" is displayed."
   ]
  },
  {
   "cell_type": "code",
   "execution_count": 55,
   "metadata": {},
   "outputs": [
    {
     "name": "stdout",
     "output_type": "stream",
     "text": [
      "The letter is a\n"
     ]
    }
   ],
   "source": [
    "var=\"a\"\n",
    "\n",
    "if [ ${var} = \"a\" ]\n",
    "then \n",
    "    echo \"The letter is a\"\n",
    "elif [ ${var} = \"b\" ]\n",
    "then\n",
    "    echo \"The letter is b\"\n",
    "elif [ ${var} = \"c\" ]\n",
    "then\n",
    "    echo \"The letter is c\"\n",
    "else \n",
    "    echo \"I have no idea what this letter is\"\n",
    "fi"
   ]
  },
  {
   "cell_type": "markdown",
   "metadata": {},
   "source": [
    "## Tests in loops\n",
    "\n",
    "Tests can be added to loops. In the following example, the for loop iterates over the characters in the list contained in the variable var. i is going to successively take the values \"a\", \"z\", \"e\", \"c\", \"t\", \"y\", \"b\", \"b\", \"e\", \"a\", and each time the tests to check whether i is \"a\", \"b\", \"c\" or something else are ran."
   ]
  },
  {
   "cell_type": "code",
   "execution_count": 56,
   "metadata": {},
   "outputs": [
    {
     "name": "stdout",
     "output_type": "stream",
     "text": [
      "The letter is a\n",
      "I have no idea what this letter is\n",
      "I have no idea what this letter is\n",
      "The letter is c\n",
      "I have no idea what this letter is\n",
      "I have no idea what this letter is\n",
      "The letter is b\n",
      "The letter is b\n",
      "I have no idea what this letter is\n",
      "The letter is a\n"
     ]
    }
   ],
   "source": [
    "var=\"a z e c t y b b e a\"\n",
    "\n",
    "for i in ${var}\n",
    "do\n",
    "    if [ ${i} = \"a\" ]\n",
    "    then \n",
    "        echo \"The letter is a\"\n",
    "    elif [ ${i} = \"b\" ]\n",
    "    then\n",
    "        echo \"The letter is b\"\n",
    "    elif [ ${i} = \"c\" ]\n",
    "    then\n",
    "        echo \"The letter is c\"\n",
    "    else \n",
    "        echo \"I have no idea what this letter is\"\n",
    "    fi\n",
    "done"
   ]
  },
  {
   "cell_type": "markdown",
   "metadata": {},
   "source": [
    "## Test for the existence of a file or a directory\n",
    "\n",
    "You can test for the existence of a file with -f or a directory with -d.\n",
    "\n",
    "The following example tests for the existence of the file test_awk.txt :"
   ]
  },
  {
   "cell_type": "code",
   "execution_count": 57,
   "metadata": {},
   "outputs": [
    {
     "name": "stdout",
     "output_type": "stream",
     "text": [
      "The file exists.\n"
     ]
    }
   ],
   "source": [
    "if [ -f test_awk.txt ]\n",
    "then \n",
    "    echo \"The file exists.\"\n",
    "fi"
   ]
  },
  {
   "cell_type": "markdown",
   "metadata": {},
   "source": [
    "This example tests for the non existence of the file test_awk.txt :"
   ]
  },
  {
   "cell_type": "code",
   "execution_count": 58,
   "metadata": {},
   "outputs": [],
   "source": [
    "if [ ! -f test_awk.txt ] #test that it does not exist\n",
    "then\n",
    "    echo \"The file does not exist\"\n",
    "fi"
   ]
  },
  {
   "cell_type": "markdown",
   "metadata": {},
   "source": [
    "The file exists so the condition is not true.\n",
    "\n",
    "Then we test for the existence of the file ignite.txt. In the case where ignite.txt would not exist, the message \"The file does not exist.\" is displayed."
   ]
  },
  {
   "cell_type": "code",
   "execution_count": 59,
   "metadata": {},
   "outputs": [
    {
     "name": "stdout",
     "output_type": "stream",
     "text": [
      "The file does not exist.\n"
     ]
    }
   ],
   "source": [
    "if [ -f ignite.txt ]\n",
    "then\n",
    "    echo \"The file exists.\"\n",
    "else\n",
    "    echo \"The file does not exist.\"\n",
    "fi"
   ]
  },
  {
   "cell_type": "markdown",
   "metadata": {},
   "source": [
    "The following example tests for the existence of the directory \"Lachancea_dasiensis\" :"
   ]
  },
  {
   "cell_type": "code",
   "execution_count": 60,
   "metadata": {},
   "outputs": [
    {
     "name": "stdout",
     "output_type": "stream",
     "text": [
      "The directory exists.\n"
     ]
    }
   ],
   "source": [
    "if [ -d Lachancea_dasiensis ]\n",
    "then\n",
    "    echo \"The directory exists.\"\n",
    "fi"
   ]
  },
  {
   "cell_type": "code",
   "execution_count": 61,
   "metadata": {},
   "outputs": [
    {
     "name": "stdout",
     "output_type": "stream",
     "text": [
      "\n",
      "La commande « The » n'a pas été trouvée, voulez-vous dire :\n",
      "\n",
      "  commande « the » du deb the\n",
      "  commande « he » du deb node-he\n",
      "\n",
      "Essayez : sudo apt install <nom du deb>\n",
      "\n"
     ]
    },
    {
     "ename": "",
     "evalue": "127",
     "output_type": "error",
     "traceback": []
    }
   ],
   "source": [
    "The following example tests for the existence of the directory \"Lachancea_cidri\" : "
   ]
  },
  {
   "cell_type": "code",
   "execution_count": 62,
   "metadata": {},
   "outputs": [],
   "source": [
    "if [ -d Lachancea_cidri ]\n",
    "then \n",
    "    echo \"The directory exists.\"\n",
    "fi"
   ]
  },
  {
   "cell_type": "markdown",
   "metadata": {},
   "source": [
    "The message is not displayed because the file does not exist."
   ]
  },
  {
   "cell_type": "markdown",
   "metadata": {},
   "source": [
    "# Exercises\n",
    "\n",
    "The files that have been provided are :\n",
    "\n",
    "\n",
    "* .fsa : the sequences for each chromosome of each Lachancea species; the lines starting with \">\" indicate the name of the sequence, and the other lines are the sequence\n",
    "\n",
    "\n",
    "* .cds : the CDS (Coding DNA Sequences) for each Lachancea species; the first column is the chromosome name; the second column is the CDS name; the third column indicates whether the CDS is on the + or - strand; the following numbers are the start position and the end position of the CDS\n",
    "\n",
    "\n",
    "\n",
    "<br/>**1.** Delete the file \"test_awk.txt\". <br/>\n",
    "\n",
    "\n",
    "<br/>**2.** How many .cds files are there ? <br/>\n",
    "\n",
    "\n",
    "<br/>**3.** Compress all the .cds files. <br/>\n",
    "\n",
    "\n",
    "<br/>**4.** How many lines are there in each .cds files ? <br/>\n",
    "\n",
    "\n",
    "<br/>**5.** How many CDS are there on the chromosome LADA0A in LADA.ans.cds ? <br/>\n",
    "\n",
    "\n",
    "<br/>**6.** Create a file with the name of all the CDS of all species. <br/>\n",
    "\n",
    "\n",
    "<br/>**7.** How many files are there in each Lachancea folder ? <br/>\n",
    "\n",
    "\n",
    "<br/>**8.** What are the names of all the chromosomes in all the .fsa sequence files? <br/>\n",
    "\n",
    "\n",
    "<br/>**9.** How many times is the restriction site \"ATGC\" found in the chromosome LADA0A ? <br/>\n",
    "\n",
    "\n",
    "<br/>**10.** Create a file which indicates the name of each chromosome and its length. <br/>"
   ]
  },
  {
   "cell_type": "code",
   "execution_count": null,
   "metadata": {},
   "outputs": [],
   "source": []
  }
 ],
 "metadata": {
  "kernelspec": {
   "display_name": "Bash",
   "language": "bash",
   "name": "bash"
  },
  "language_info": {
   "codemirror_mode": "shell",
   "file_extension": ".sh",
   "mimetype": "text/x-sh",
   "name": "bash"
  }
 },
 "nbformat": 4,
 "nbformat_minor": 2
}
