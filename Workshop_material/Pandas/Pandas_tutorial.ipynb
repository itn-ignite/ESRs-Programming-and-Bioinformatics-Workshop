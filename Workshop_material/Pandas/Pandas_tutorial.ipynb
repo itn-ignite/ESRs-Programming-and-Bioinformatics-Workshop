{
 "cells": [
  {
   "cell_type": "markdown",
   "metadata": {},
   "source": [
    "Written by Nadège Guiglielmoni.\n",
    "\n",
    "This notebook is an introduction to the python packages **pandas** to handle dataframes.\n",
    "\n",
    "![title](panda.jpg)\n",
    "\n",
    "\n",
    "# Getting pandas\n",
    "\n",
    "pandas can be installed like any python package with pip/pip3 :\n",
    "\n",
    "\n",
    "pip install pandas\n",
    "\n",
    "\n",
    "pip3 install pandas\n",
    "\n",
    "\n",
    "It can be installed with aptitude on Linux :\n",
    "\n",
    "\n",
    "sudo apt install python-pandas\n",
    "\n",
    "\n",
    "sudo apt install python3-pandas\n",
    "\n",
    "\n",
    "After installing pandas, it then needs to be imported :"
   ]
  },
  {
   "cell_type": "code",
   "execution_count": 148,
   "metadata": {},
   "outputs": [],
   "source": [
    "# importing pandas\n",
    "import pandas\n",
    "\n",
    "# importing other packages for fun\n",
    "import numpy as np\n",
    "import math\n",
    "import matplotlib.pyplot as plt"
   ]
  },
  {
   "cell_type": "markdown",
   "metadata": {},
   "source": [
    "# Creating a dataframe\n",
    "\n",
    "Here is a dictionnary that we will then load in a pandas dataframe :"
   ]
  },
  {
   "cell_type": "code",
   "execution_count": 149,
   "metadata": {},
   "outputs": [],
   "source": [
    "ignite_data = {\n",
    "    \"name\" : [\"Ksenia\", \"Mariya\", \"Ariel\", \"Kenneth\", \"Toby\", \"Mattia\", \"Antonio\", \"Nadège\", \"Killian\", \"Ben\", \"Ramon\", \"Michi\"],\n",
    "    \"city\" : [\"Munich\", \"Sofia\", \"Munich\", \"Galway\", \"Porto\", \"Bristol\", \"Zagreb\", \"Bruxelles\", \"Granada\", \"Heidelberg\", \"Munich\", \"Munich\"],\n",
    "    \"project\" : [\"ESR1\", \"ESR15\", \"ESR10\", \"ESR7\", \"ESR3\", \"ESR8\", \"ESR13\", \"ESR5\", \"ESR14\", \"ESR9\", \"ESR2\", \"Babysitter\"],\n",
    "    \"original_continent\" : [\"???\", \"Europe\", \"Asia\", \"America\", \"Asia\", \"Europe\", \"America\", \"Europe\", \"America\", \"America\", \"America\", \"Europe\"],\n",
    "    \"first_author_pub\" : [3, 2, 2, 2, 3, 4, 7, 1, 3, 2, 2, 0],\n",
    "    \"other_author_pub\" : [2, 2, 3, 1, 0, 1, 2, 10, 1, 4, 3, 4]\n",
    "}"
   ]
  },
  {
   "cell_type": "markdown",
   "metadata": {},
   "source": [
    "This data was obtained from the future and indicates for each IGNITE ESR their name, PhD city, project, continent where they come from, their first author publications and other authorships. Since it is a dictionnary, you can take a look at its keys :"
   ]
  },
  {
   "cell_type": "code",
   "execution_count": 150,
   "metadata": {},
   "outputs": [
    {
     "data": {
      "text/plain": [
       "dict_keys(['name', 'city', 'project', 'original_continent', 'first_author_pub', 'other_author_pub'])"
      ]
     },
     "execution_count": 150,
     "metadata": {},
     "output_type": "execute_result"
    }
   ],
   "source": [
    "ignite_data.keys()"
   ]
  },
  {
   "cell_type": "markdown",
   "metadata": {},
   "source": [
    "Here is the \"name\" field :"
   ]
  },
  {
   "cell_type": "code",
   "execution_count": 151,
   "metadata": {},
   "outputs": [
    {
     "data": {
      "text/plain": [
       "['Ksenia',\n",
       " 'Mariya',\n",
       " 'Ariel',\n",
       " 'Kenneth',\n",
       " 'Toby',\n",
       " 'Mattia',\n",
       " 'Antonio',\n",
       " 'Nadège',\n",
       " 'Killian',\n",
       " 'Ben',\n",
       " 'Ramon',\n",
       " 'Michi']"
      ]
     },
     "execution_count": 151,
     "metadata": {},
     "output_type": "execute_result"
    }
   ],
   "source": [
    "ignite_data[\"name\"]"
   ]
  },
  {
   "cell_type": "markdown",
   "metadata": {},
   "source": [
    "Now, this dictionnary can be loaded in a dataframe with the function DataFrame() :"
   ]
  },
  {
   "cell_type": "code",
   "execution_count": 152,
   "metadata": {},
   "outputs": [
    {
     "data": {
      "text/html": [
       "<div>\n",
       "<style scoped>\n",
       "    .dataframe tbody tr th:only-of-type {\n",
       "        vertical-align: middle;\n",
       "    }\n",
       "\n",
       "    .dataframe tbody tr th {\n",
       "        vertical-align: top;\n",
       "    }\n",
       "\n",
       "    .dataframe thead th {\n",
       "        text-align: right;\n",
       "    }\n",
       "</style>\n",
       "<table border=\"1\" class=\"dataframe\">\n",
       "  <thead>\n",
       "    <tr style=\"text-align: right;\">\n",
       "      <th></th>\n",
       "      <th>city</th>\n",
       "      <th>first_author_pub</th>\n",
       "      <th>name</th>\n",
       "      <th>original_continent</th>\n",
       "      <th>other_author_pub</th>\n",
       "      <th>project</th>\n",
       "    </tr>\n",
       "  </thead>\n",
       "  <tbody>\n",
       "    <tr>\n",
       "      <th>0</th>\n",
       "      <td>Munich</td>\n",
       "      <td>3</td>\n",
       "      <td>Ksenia</td>\n",
       "      <td>???</td>\n",
       "      <td>2</td>\n",
       "      <td>ESR1</td>\n",
       "    </tr>\n",
       "    <tr>\n",
       "      <th>1</th>\n",
       "      <td>Sofia</td>\n",
       "      <td>2</td>\n",
       "      <td>Mariya</td>\n",
       "      <td>Europe</td>\n",
       "      <td>2</td>\n",
       "      <td>ESR15</td>\n",
       "    </tr>\n",
       "    <tr>\n",
       "      <th>2</th>\n",
       "      <td>Munich</td>\n",
       "      <td>2</td>\n",
       "      <td>Ariel</td>\n",
       "      <td>Asia</td>\n",
       "      <td>3</td>\n",
       "      <td>ESR10</td>\n",
       "    </tr>\n",
       "    <tr>\n",
       "      <th>3</th>\n",
       "      <td>Galway</td>\n",
       "      <td>2</td>\n",
       "      <td>Kenneth</td>\n",
       "      <td>America</td>\n",
       "      <td>1</td>\n",
       "      <td>ESR7</td>\n",
       "    </tr>\n",
       "    <tr>\n",
       "      <th>4</th>\n",
       "      <td>Porto</td>\n",
       "      <td>3</td>\n",
       "      <td>Toby</td>\n",
       "      <td>Asia</td>\n",
       "      <td>0</td>\n",
       "      <td>ESR3</td>\n",
       "    </tr>\n",
       "    <tr>\n",
       "      <th>5</th>\n",
       "      <td>Bristol</td>\n",
       "      <td>4</td>\n",
       "      <td>Mattia</td>\n",
       "      <td>Europe</td>\n",
       "      <td>1</td>\n",
       "      <td>ESR8</td>\n",
       "    </tr>\n",
       "    <tr>\n",
       "      <th>6</th>\n",
       "      <td>Zagreb</td>\n",
       "      <td>7</td>\n",
       "      <td>Antonio</td>\n",
       "      <td>America</td>\n",
       "      <td>2</td>\n",
       "      <td>ESR13</td>\n",
       "    </tr>\n",
       "    <tr>\n",
       "      <th>7</th>\n",
       "      <td>Bruxelles</td>\n",
       "      <td>1</td>\n",
       "      <td>Nadège</td>\n",
       "      <td>Europe</td>\n",
       "      <td>10</td>\n",
       "      <td>ESR5</td>\n",
       "    </tr>\n",
       "    <tr>\n",
       "      <th>8</th>\n",
       "      <td>Granada</td>\n",
       "      <td>3</td>\n",
       "      <td>Killian</td>\n",
       "      <td>America</td>\n",
       "      <td>1</td>\n",
       "      <td>ESR14</td>\n",
       "    </tr>\n",
       "    <tr>\n",
       "      <th>9</th>\n",
       "      <td>Heidelberg</td>\n",
       "      <td>2</td>\n",
       "      <td>Ben</td>\n",
       "      <td>America</td>\n",
       "      <td>4</td>\n",
       "      <td>ESR9</td>\n",
       "    </tr>\n",
       "    <tr>\n",
       "      <th>10</th>\n",
       "      <td>Munich</td>\n",
       "      <td>2</td>\n",
       "      <td>Ramon</td>\n",
       "      <td>America</td>\n",
       "      <td>3</td>\n",
       "      <td>ESR2</td>\n",
       "    </tr>\n",
       "    <tr>\n",
       "      <th>11</th>\n",
       "      <td>Munich</td>\n",
       "      <td>0</td>\n",
       "      <td>Michi</td>\n",
       "      <td>Europe</td>\n",
       "      <td>4</td>\n",
       "      <td>Babysitter</td>\n",
       "    </tr>\n",
       "  </tbody>\n",
       "</table>\n",
       "</div>"
      ],
      "text/plain": [
       "          city  first_author_pub     name original_continent  \\\n",
       "0       Munich                 3   Ksenia                ???   \n",
       "1        Sofia                 2   Mariya             Europe   \n",
       "2       Munich                 2    Ariel               Asia   \n",
       "3       Galway                 2  Kenneth            America   \n",
       "4        Porto                 3     Toby               Asia   \n",
       "5      Bristol                 4   Mattia             Europe   \n",
       "6       Zagreb                 7  Antonio            America   \n",
       "7    Bruxelles                 1   Nadège             Europe   \n",
       "8      Granada                 3  Killian            America   \n",
       "9   Heidelberg                 2      Ben            America   \n",
       "10      Munich                 2    Ramon            America   \n",
       "11      Munich                 0    Michi             Europe   \n",
       "\n",
       "    other_author_pub     project  \n",
       "0                  2        ESR1  \n",
       "1                  2       ESR15  \n",
       "2                  3       ESR10  \n",
       "3                  1        ESR7  \n",
       "4                  0        ESR3  \n",
       "5                  1        ESR8  \n",
       "6                  2       ESR13  \n",
       "7                 10        ESR5  \n",
       "8                  1       ESR14  \n",
       "9                  4        ESR9  \n",
       "10                 3        ESR2  \n",
       "11                 4  Babysitter  "
      ]
     },
     "execution_count": 152,
     "metadata": {},
     "output_type": "execute_result"
    }
   ],
   "source": [
    "ignite_df = pandas.DataFrame(ignite_data)\n",
    "ignite_df"
   ]
  },
  {
   "cell_type": "markdown",
   "metadata": {},
   "source": [
    "You may note that an index has been added to each line. You can check the index by calling nameofdataframe.index :"
   ]
  },
  {
   "cell_type": "code",
   "execution_count": 153,
   "metadata": {},
   "outputs": [
    {
     "data": {
      "text/plain": [
       "RangeIndex(start=0, stop=12, step=1)"
      ]
     },
     "execution_count": 153,
     "metadata": {},
     "output_type": "execute_result"
    }
   ],
   "source": [
    "ignite_df.index"
   ]
  },
  {
   "cell_type": "markdown",
   "metadata": {},
   "source": [
    "But here the dataframe does not quite look like what we want. The index should rather be replaced by the column names. This can be done by specifying the parameter 'index' when creating the dataframe :"
   ]
  },
  {
   "cell_type": "code",
   "execution_count": 154,
   "metadata": {},
   "outputs": [
    {
     "data": {
      "text/html": [
       "<div>\n",
       "<style scoped>\n",
       "    .dataframe tbody tr th:only-of-type {\n",
       "        vertical-align: middle;\n",
       "    }\n",
       "\n",
       "    .dataframe tbody tr th {\n",
       "        vertical-align: top;\n",
       "    }\n",
       "\n",
       "    .dataframe thead th {\n",
       "        text-align: right;\n",
       "    }\n",
       "</style>\n",
       "<table border=\"1\" class=\"dataframe\">\n",
       "  <thead>\n",
       "    <tr style=\"text-align: right;\">\n",
       "      <th></th>\n",
       "      <th>city</th>\n",
       "      <th>first_author_pub</th>\n",
       "      <th>name</th>\n",
       "      <th>original_continent</th>\n",
       "      <th>other_author_pub</th>\n",
       "      <th>project</th>\n",
       "    </tr>\n",
       "  </thead>\n",
       "  <tbody>\n",
       "    <tr>\n",
       "      <th>Ksenia</th>\n",
       "      <td>Munich</td>\n",
       "      <td>3</td>\n",
       "      <td>Ksenia</td>\n",
       "      <td>???</td>\n",
       "      <td>2</td>\n",
       "      <td>ESR1</td>\n",
       "    </tr>\n",
       "    <tr>\n",
       "      <th>Mariya</th>\n",
       "      <td>Sofia</td>\n",
       "      <td>2</td>\n",
       "      <td>Mariya</td>\n",
       "      <td>Europe</td>\n",
       "      <td>2</td>\n",
       "      <td>ESR15</td>\n",
       "    </tr>\n",
       "    <tr>\n",
       "      <th>Ariel</th>\n",
       "      <td>Munich</td>\n",
       "      <td>2</td>\n",
       "      <td>Ariel</td>\n",
       "      <td>Asia</td>\n",
       "      <td>3</td>\n",
       "      <td>ESR10</td>\n",
       "    </tr>\n",
       "    <tr>\n",
       "      <th>Kenneth</th>\n",
       "      <td>Galway</td>\n",
       "      <td>2</td>\n",
       "      <td>Kenneth</td>\n",
       "      <td>America</td>\n",
       "      <td>1</td>\n",
       "      <td>ESR7</td>\n",
       "    </tr>\n",
       "    <tr>\n",
       "      <th>Toby</th>\n",
       "      <td>Porto</td>\n",
       "      <td>3</td>\n",
       "      <td>Toby</td>\n",
       "      <td>Asia</td>\n",
       "      <td>0</td>\n",
       "      <td>ESR3</td>\n",
       "    </tr>\n",
       "    <tr>\n",
       "      <th>Mattia</th>\n",
       "      <td>Bristol</td>\n",
       "      <td>4</td>\n",
       "      <td>Mattia</td>\n",
       "      <td>Europe</td>\n",
       "      <td>1</td>\n",
       "      <td>ESR8</td>\n",
       "    </tr>\n",
       "    <tr>\n",
       "      <th>Antonio</th>\n",
       "      <td>Zagreb</td>\n",
       "      <td>7</td>\n",
       "      <td>Antonio</td>\n",
       "      <td>America</td>\n",
       "      <td>2</td>\n",
       "      <td>ESR13</td>\n",
       "    </tr>\n",
       "    <tr>\n",
       "      <th>Nadège</th>\n",
       "      <td>Bruxelles</td>\n",
       "      <td>1</td>\n",
       "      <td>Nadège</td>\n",
       "      <td>Europe</td>\n",
       "      <td>10</td>\n",
       "      <td>ESR5</td>\n",
       "    </tr>\n",
       "    <tr>\n",
       "      <th>Killian</th>\n",
       "      <td>Granada</td>\n",
       "      <td>3</td>\n",
       "      <td>Killian</td>\n",
       "      <td>America</td>\n",
       "      <td>1</td>\n",
       "      <td>ESR14</td>\n",
       "    </tr>\n",
       "    <tr>\n",
       "      <th>Ben</th>\n",
       "      <td>Heidelberg</td>\n",
       "      <td>2</td>\n",
       "      <td>Ben</td>\n",
       "      <td>America</td>\n",
       "      <td>4</td>\n",
       "      <td>ESR9</td>\n",
       "    </tr>\n",
       "    <tr>\n",
       "      <th>Ramon</th>\n",
       "      <td>Munich</td>\n",
       "      <td>2</td>\n",
       "      <td>Ramon</td>\n",
       "      <td>America</td>\n",
       "      <td>3</td>\n",
       "      <td>ESR2</td>\n",
       "    </tr>\n",
       "    <tr>\n",
       "      <th>Michi</th>\n",
       "      <td>Munich</td>\n",
       "      <td>0</td>\n",
       "      <td>Michi</td>\n",
       "      <td>Europe</td>\n",
       "      <td>4</td>\n",
       "      <td>Babysitter</td>\n",
       "    </tr>\n",
       "  </tbody>\n",
       "</table>\n",
       "</div>"
      ],
      "text/plain": [
       "               city  first_author_pub     name original_continent  \\\n",
       "Ksenia       Munich                 3   Ksenia                ???   \n",
       "Mariya        Sofia                 2   Mariya             Europe   \n",
       "Ariel        Munich                 2    Ariel               Asia   \n",
       "Kenneth      Galway                 2  Kenneth            America   \n",
       "Toby          Porto                 3     Toby               Asia   \n",
       "Mattia      Bristol                 4   Mattia             Europe   \n",
       "Antonio      Zagreb                 7  Antonio            America   \n",
       "Nadège    Bruxelles                 1   Nadège             Europe   \n",
       "Killian     Granada                 3  Killian            America   \n",
       "Ben      Heidelberg                 2      Ben            America   \n",
       "Ramon        Munich                 2    Ramon            America   \n",
       "Michi        Munich                 0    Michi             Europe   \n",
       "\n",
       "         other_author_pub     project  \n",
       "Ksenia                  2        ESR1  \n",
       "Mariya                  2       ESR15  \n",
       "Ariel                   3       ESR10  \n",
       "Kenneth                 1        ESR7  \n",
       "Toby                    0        ESR3  \n",
       "Mattia                  1        ESR8  \n",
       "Antonio                 2       ESR13  \n",
       "Nadège                 10        ESR5  \n",
       "Killian                 1       ESR14  \n",
       "Ben                     4        ESR9  \n",
       "Ramon                   3        ESR2  \n",
       "Michi                   4  Babysitter  "
      ]
     },
     "execution_count": 154,
     "metadata": {},
     "output_type": "execute_result"
    }
   ],
   "source": [
    "ignite_df = pandas.DataFrame(ignite_data, index=ignite_data[\"name\"])\n",
    "ignite_df"
   ]
  },
  {
   "cell_type": "markdown",
   "metadata": {},
   "source": [
    "This dataframe looks better, but there is now the extra column \"name\" and we would like to remove it. This can be done with drop() :"
   ]
  },
  {
   "cell_type": "code",
   "execution_count": 155,
   "metadata": {},
   "outputs": [
    {
     "data": {
      "text/html": [
       "<div>\n",
       "<style scoped>\n",
       "    .dataframe tbody tr th:only-of-type {\n",
       "        vertical-align: middle;\n",
       "    }\n",
       "\n",
       "    .dataframe tbody tr th {\n",
       "        vertical-align: top;\n",
       "    }\n",
       "\n",
       "    .dataframe thead th {\n",
       "        text-align: right;\n",
       "    }\n",
       "</style>\n",
       "<table border=\"1\" class=\"dataframe\">\n",
       "  <thead>\n",
       "    <tr style=\"text-align: right;\">\n",
       "      <th></th>\n",
       "      <th>city</th>\n",
       "      <th>first_author_pub</th>\n",
       "      <th>original_continent</th>\n",
       "      <th>other_author_pub</th>\n",
       "      <th>project</th>\n",
       "    </tr>\n",
       "  </thead>\n",
       "  <tbody>\n",
       "    <tr>\n",
       "      <th>Ksenia</th>\n",
       "      <td>Munich</td>\n",
       "      <td>3</td>\n",
       "      <td>???</td>\n",
       "      <td>2</td>\n",
       "      <td>ESR1</td>\n",
       "    </tr>\n",
       "    <tr>\n",
       "      <th>Mariya</th>\n",
       "      <td>Sofia</td>\n",
       "      <td>2</td>\n",
       "      <td>Europe</td>\n",
       "      <td>2</td>\n",
       "      <td>ESR15</td>\n",
       "    </tr>\n",
       "    <tr>\n",
       "      <th>Ariel</th>\n",
       "      <td>Munich</td>\n",
       "      <td>2</td>\n",
       "      <td>Asia</td>\n",
       "      <td>3</td>\n",
       "      <td>ESR10</td>\n",
       "    </tr>\n",
       "    <tr>\n",
       "      <th>Kenneth</th>\n",
       "      <td>Galway</td>\n",
       "      <td>2</td>\n",
       "      <td>America</td>\n",
       "      <td>1</td>\n",
       "      <td>ESR7</td>\n",
       "    </tr>\n",
       "    <tr>\n",
       "      <th>Toby</th>\n",
       "      <td>Porto</td>\n",
       "      <td>3</td>\n",
       "      <td>Asia</td>\n",
       "      <td>0</td>\n",
       "      <td>ESR3</td>\n",
       "    </tr>\n",
       "    <tr>\n",
       "      <th>Mattia</th>\n",
       "      <td>Bristol</td>\n",
       "      <td>4</td>\n",
       "      <td>Europe</td>\n",
       "      <td>1</td>\n",
       "      <td>ESR8</td>\n",
       "    </tr>\n",
       "    <tr>\n",
       "      <th>Antonio</th>\n",
       "      <td>Zagreb</td>\n",
       "      <td>7</td>\n",
       "      <td>America</td>\n",
       "      <td>2</td>\n",
       "      <td>ESR13</td>\n",
       "    </tr>\n",
       "    <tr>\n",
       "      <th>Nadège</th>\n",
       "      <td>Bruxelles</td>\n",
       "      <td>1</td>\n",
       "      <td>Europe</td>\n",
       "      <td>10</td>\n",
       "      <td>ESR5</td>\n",
       "    </tr>\n",
       "    <tr>\n",
       "      <th>Killian</th>\n",
       "      <td>Granada</td>\n",
       "      <td>3</td>\n",
       "      <td>America</td>\n",
       "      <td>1</td>\n",
       "      <td>ESR14</td>\n",
       "    </tr>\n",
       "    <tr>\n",
       "      <th>Ben</th>\n",
       "      <td>Heidelberg</td>\n",
       "      <td>2</td>\n",
       "      <td>America</td>\n",
       "      <td>4</td>\n",
       "      <td>ESR9</td>\n",
       "    </tr>\n",
       "    <tr>\n",
       "      <th>Ramon</th>\n",
       "      <td>Munich</td>\n",
       "      <td>2</td>\n",
       "      <td>America</td>\n",
       "      <td>3</td>\n",
       "      <td>ESR2</td>\n",
       "    </tr>\n",
       "    <tr>\n",
       "      <th>Michi</th>\n",
       "      <td>Munich</td>\n",
       "      <td>0</td>\n",
       "      <td>Europe</td>\n",
       "      <td>4</td>\n",
       "      <td>Babysitter</td>\n",
       "    </tr>\n",
       "  </tbody>\n",
       "</table>\n",
       "</div>"
      ],
      "text/plain": [
       "               city  first_author_pub original_continent  other_author_pub  \\\n",
       "Ksenia       Munich                 3                ???                 2   \n",
       "Mariya        Sofia                 2             Europe                 2   \n",
       "Ariel        Munich                 2               Asia                 3   \n",
       "Kenneth      Galway                 2            America                 1   \n",
       "Toby          Porto                 3               Asia                 0   \n",
       "Mattia      Bristol                 4             Europe                 1   \n",
       "Antonio      Zagreb                 7            America                 2   \n",
       "Nadège    Bruxelles                 1             Europe                10   \n",
       "Killian     Granada                 3            America                 1   \n",
       "Ben      Heidelberg                 2            America                 4   \n",
       "Ramon        Munich                 2            America                 3   \n",
       "Michi        Munich                 0             Europe                 4   \n",
       "\n",
       "            project  \n",
       "Ksenia         ESR1  \n",
       "Mariya        ESR15  \n",
       "Ariel         ESR10  \n",
       "Kenneth        ESR7  \n",
       "Toby           ESR3  \n",
       "Mattia         ESR8  \n",
       "Antonio       ESR13  \n",
       "Nadège         ESR5  \n",
       "Killian       ESR14  \n",
       "Ben            ESR9  \n",
       "Ramon          ESR2  \n",
       "Michi    Babysitter  "
      ]
     },
     "execution_count": 155,
     "metadata": {},
     "output_type": "execute_result"
    }
   ],
   "source": [
    "ignite_df = ignite_df.drop(\"name\", axis=1)\n",
    "ignite_df"
   ]
  },
  {
   "cell_type": "markdown",
   "metadata": {},
   "source": [
    "# Inspecting the dataframe"
   ]
  },
  {
   "cell_type": "markdown",
   "metadata": {},
   "source": [
    "You can access the set of columns :"
   ]
  },
  {
   "cell_type": "code",
   "execution_count": 156,
   "metadata": {},
   "outputs": [
    {
     "data": {
      "text/plain": [
       "Index(['city', 'first_author_pub', 'original_continent', 'other_author_pub',\n",
       "       'project'],\n",
       "      dtype='object')"
      ]
     },
     "execution_count": 156,
     "metadata": {},
     "output_type": "execute_result"
    }
   ],
   "source": [
    "ignite_df.columns"
   ]
  },
  {
   "cell_type": "markdown",
   "metadata": {},
   "source": [
    "As with Bash and R, the first lines of the dataframe can be displayed with head(), and the last lines with tail() (how convenient!) :"
   ]
  },
  {
   "cell_type": "code",
   "execution_count": 157,
   "metadata": {},
   "outputs": [
    {
     "data": {
      "text/html": [
       "<div>\n",
       "<style scoped>\n",
       "    .dataframe tbody tr th:only-of-type {\n",
       "        vertical-align: middle;\n",
       "    }\n",
       "\n",
       "    .dataframe tbody tr th {\n",
       "        vertical-align: top;\n",
       "    }\n",
       "\n",
       "    .dataframe thead th {\n",
       "        text-align: right;\n",
       "    }\n",
       "</style>\n",
       "<table border=\"1\" class=\"dataframe\">\n",
       "  <thead>\n",
       "    <tr style=\"text-align: right;\">\n",
       "      <th></th>\n",
       "      <th>city</th>\n",
       "      <th>first_author_pub</th>\n",
       "      <th>original_continent</th>\n",
       "      <th>other_author_pub</th>\n",
       "      <th>project</th>\n",
       "    </tr>\n",
       "  </thead>\n",
       "  <tbody>\n",
       "    <tr>\n",
       "      <th>Ksenia</th>\n",
       "      <td>Munich</td>\n",
       "      <td>3</td>\n",
       "      <td>???</td>\n",
       "      <td>2</td>\n",
       "      <td>ESR1</td>\n",
       "    </tr>\n",
       "    <tr>\n",
       "      <th>Mariya</th>\n",
       "      <td>Sofia</td>\n",
       "      <td>2</td>\n",
       "      <td>Europe</td>\n",
       "      <td>2</td>\n",
       "      <td>ESR15</td>\n",
       "    </tr>\n",
       "    <tr>\n",
       "      <th>Ariel</th>\n",
       "      <td>Munich</td>\n",
       "      <td>2</td>\n",
       "      <td>Asia</td>\n",
       "      <td>3</td>\n",
       "      <td>ESR10</td>\n",
       "    </tr>\n",
       "    <tr>\n",
       "      <th>Kenneth</th>\n",
       "      <td>Galway</td>\n",
       "      <td>2</td>\n",
       "      <td>America</td>\n",
       "      <td>1</td>\n",
       "      <td>ESR7</td>\n",
       "    </tr>\n",
       "    <tr>\n",
       "      <th>Toby</th>\n",
       "      <td>Porto</td>\n",
       "      <td>3</td>\n",
       "      <td>Asia</td>\n",
       "      <td>0</td>\n",
       "      <td>ESR3</td>\n",
       "    </tr>\n",
       "  </tbody>\n",
       "</table>\n",
       "</div>"
      ],
      "text/plain": [
       "           city  first_author_pub original_continent  other_author_pub project\n",
       "Ksenia   Munich                 3                ???                 2    ESR1\n",
       "Mariya    Sofia                 2             Europe                 2   ESR15\n",
       "Ariel    Munich                 2               Asia                 3   ESR10\n",
       "Kenneth  Galway                 2            America                 1    ESR7\n",
       "Toby      Porto                 3               Asia                 0    ESR3"
      ]
     },
     "execution_count": 157,
     "metadata": {},
     "output_type": "execute_result"
    }
   ],
   "source": [
    "ignite_df.head()"
   ]
  },
  {
   "cell_type": "code",
   "execution_count": 158,
   "metadata": {},
   "outputs": [
    {
     "data": {
      "text/html": [
       "<div>\n",
       "<style scoped>\n",
       "    .dataframe tbody tr th:only-of-type {\n",
       "        vertical-align: middle;\n",
       "    }\n",
       "\n",
       "    .dataframe tbody tr th {\n",
       "        vertical-align: top;\n",
       "    }\n",
       "\n",
       "    .dataframe thead th {\n",
       "        text-align: right;\n",
       "    }\n",
       "</style>\n",
       "<table border=\"1\" class=\"dataframe\">\n",
       "  <thead>\n",
       "    <tr style=\"text-align: right;\">\n",
       "      <th></th>\n",
       "      <th>city</th>\n",
       "      <th>first_author_pub</th>\n",
       "      <th>original_continent</th>\n",
       "      <th>other_author_pub</th>\n",
       "      <th>project</th>\n",
       "    </tr>\n",
       "  </thead>\n",
       "  <tbody>\n",
       "    <tr>\n",
       "      <th>Nadège</th>\n",
       "      <td>Bruxelles</td>\n",
       "      <td>1</td>\n",
       "      <td>Europe</td>\n",
       "      <td>10</td>\n",
       "      <td>ESR5</td>\n",
       "    </tr>\n",
       "    <tr>\n",
       "      <th>Killian</th>\n",
       "      <td>Granada</td>\n",
       "      <td>3</td>\n",
       "      <td>America</td>\n",
       "      <td>1</td>\n",
       "      <td>ESR14</td>\n",
       "    </tr>\n",
       "    <tr>\n",
       "      <th>Ben</th>\n",
       "      <td>Heidelberg</td>\n",
       "      <td>2</td>\n",
       "      <td>America</td>\n",
       "      <td>4</td>\n",
       "      <td>ESR9</td>\n",
       "    </tr>\n",
       "    <tr>\n",
       "      <th>Ramon</th>\n",
       "      <td>Munich</td>\n",
       "      <td>2</td>\n",
       "      <td>America</td>\n",
       "      <td>3</td>\n",
       "      <td>ESR2</td>\n",
       "    </tr>\n",
       "    <tr>\n",
       "      <th>Michi</th>\n",
       "      <td>Munich</td>\n",
       "      <td>0</td>\n",
       "      <td>Europe</td>\n",
       "      <td>4</td>\n",
       "      <td>Babysitter</td>\n",
       "    </tr>\n",
       "  </tbody>\n",
       "</table>\n",
       "</div>"
      ],
      "text/plain": [
       "               city  first_author_pub original_continent  other_author_pub  \\\n",
       "Nadège    Bruxelles                 1             Europe                10   \n",
       "Killian     Granada                 3            America                 1   \n",
       "Ben      Heidelberg                 2            America                 4   \n",
       "Ramon        Munich                 2            America                 3   \n",
       "Michi        Munich                 0             Europe                 4   \n",
       "\n",
       "            project  \n",
       "Nadège         ESR5  \n",
       "Killian       ESR14  \n",
       "Ben            ESR9  \n",
       "Ramon          ESR2  \n",
       "Michi    Babysitter  "
      ]
     },
     "execution_count": 158,
     "metadata": {},
     "output_type": "execute_result"
    }
   ],
   "source": [
    "ignite_df.tail()"
   ]
  },
  {
   "cell_type": "markdown",
   "metadata": {},
   "source": [
    "# Accessing data\n",
    "\n",
    "You can access a line using its index with .loc[] :"
   ]
  },
  {
   "cell_type": "code",
   "execution_count": 159,
   "metadata": {},
   "outputs": [
    {
     "data": {
      "text/plain": [
       "city                  Munich\n",
       "first_author_pub           3\n",
       "original_continent       ???\n",
       "other_author_pub           2\n",
       "project                 ESR1\n",
       "Name: Ksenia, dtype: object"
      ]
     },
     "execution_count": 159,
     "metadata": {},
     "output_type": "execute_result"
    }
   ],
   "source": [
    "ignite_df.loc[\"Ksenia\"] # calling line of \"Ksenia\""
   ]
  },
  {
   "cell_type": "code",
   "execution_count": 160,
   "metadata": {},
   "outputs": [
    {
     "data": {
      "text/plain": [
       "city                   Zagreb\n",
       "first_author_pub            7\n",
       "original_continent    America\n",
       "other_author_pub            2\n",
       "project                 ESR13\n",
       "Name: Antonio, dtype: object"
      ]
     },
     "execution_count": 160,
     "metadata": {},
     "output_type": "execute_result"
    }
   ],
   "source": [
    "ignite_df.loc[\"Antonio\"] # calling line of \"Antonio\""
   ]
  },
  {
   "cell_type": "markdown",
   "metadata": {},
   "source": [
    "A line can also be retrieved with the line number using iloc[]. For example, the line of \"Antonio\" is the sixth line :"
   ]
  },
  {
   "cell_type": "code",
   "execution_count": 161,
   "metadata": {},
   "outputs": [
    {
     "data": {
      "text/plain": [
       "city                   Zagreb\n",
       "first_author_pub            7\n",
       "original_continent    America\n",
       "other_author_pub            2\n",
       "project                 ESR13\n",
       "Name: Antonio, dtype: object"
      ]
     },
     "execution_count": 161,
     "metadata": {},
     "output_type": "execute_result"
    }
   ],
   "source": [
    "ignite_df.iloc[6] # calling line 6"
   ]
  },
  {
   "cell_type": "markdown",
   "metadata": {},
   "source": [
    "The results obtained with loc[\"Antonio\"] and iloc[6] are the same.\n",
    "\n",
    "You can also call a full column by specifiyng the name of the column in square brackets :"
   ]
  },
  {
   "cell_type": "code",
   "execution_count": 162,
   "metadata": {},
   "outputs": [
    {
     "data": {
      "text/plain": [
       "Ksenia         Munich\n",
       "Mariya          Sofia\n",
       "Ariel          Munich\n",
       "Kenneth        Galway\n",
       "Toby            Porto\n",
       "Mattia        Bristol\n",
       "Antonio        Zagreb\n",
       "Nadège      Bruxelles\n",
       "Killian       Granada\n",
       "Ben        Heidelberg\n",
       "Ramon          Munich\n",
       "Michi          Munich\n",
       "Name: city, dtype: object"
      ]
     },
     "execution_count": 162,
     "metadata": {},
     "output_type": "execute_result"
    }
   ],
   "source": [
    "ignite_df[\"city\"]"
   ]
  },
  {
   "cell_type": "markdown",
   "metadata": {},
   "source": [
    "Calling the same column with .nameofthecolumn gives the same output :"
   ]
  },
  {
   "cell_type": "code",
   "execution_count": 199,
   "metadata": {},
   "outputs": [
    {
     "data": {
      "text/plain": [
       "Ksenia         Munich\n",
       "Mariya          Sofia\n",
       "Ariel          Munich\n",
       "Kenneth        Galway\n",
       "Toby            Porto\n",
       "Mattia        Bristol\n",
       "Antonio        Zagreb\n",
       "Nadège      Bruxelles\n",
       "Killian       Granada\n",
       "Ben        Heidelberg\n",
       "Ramon          Munich\n",
       "Michi          Munich\n",
       "Name: city, dtype: object"
      ]
     },
     "execution_count": 199,
     "metadata": {},
     "output_type": "execute_result"
    }
   ],
   "source": [
    "ignite_df.city"
   ]
  },
  {
   "cell_type": "markdown",
   "metadata": {},
   "source": [
    "The column can be put into a list with tolist() :"
   ]
  },
  {
   "cell_type": "code",
   "execution_count": 163,
   "metadata": {},
   "outputs": [
    {
     "data": {
      "text/plain": [
       "['Munich',\n",
       " 'Sofia',\n",
       " 'Munich',\n",
       " 'Galway',\n",
       " 'Porto',\n",
       " 'Bristol',\n",
       " 'Zagreb',\n",
       " 'Bruxelles',\n",
       " 'Granada',\n",
       " 'Heidelberg',\n",
       " 'Munich',\n",
       " 'Munich']"
      ]
     },
     "execution_count": 163,
     "metadata": {},
     "output_type": "execute_result"
    }
   ],
   "source": [
    "ignite_df[\"city\"].tolist()"
   ]
  },
  {
   "cell_type": "markdown",
   "metadata": {},
   "source": [
    "Several columns can be displayed simultaneously.\n",
    "\n",
    "Here, we select the columns \"city\" and \"project\" for all the students :"
   ]
  },
  {
   "cell_type": "code",
   "execution_count": 164,
   "metadata": {},
   "outputs": [
    {
     "data": {
      "text/html": [
       "<div>\n",
       "<style scoped>\n",
       "    .dataframe tbody tr th:only-of-type {\n",
       "        vertical-align: middle;\n",
       "    }\n",
       "\n",
       "    .dataframe tbody tr th {\n",
       "        vertical-align: top;\n",
       "    }\n",
       "\n",
       "    .dataframe thead th {\n",
       "        text-align: right;\n",
       "    }\n",
       "</style>\n",
       "<table border=\"1\" class=\"dataframe\">\n",
       "  <thead>\n",
       "    <tr style=\"text-align: right;\">\n",
       "      <th></th>\n",
       "      <th>city</th>\n",
       "      <th>project</th>\n",
       "    </tr>\n",
       "  </thead>\n",
       "  <tbody>\n",
       "    <tr>\n",
       "      <th>Ksenia</th>\n",
       "      <td>Munich</td>\n",
       "      <td>ESR1</td>\n",
       "    </tr>\n",
       "    <tr>\n",
       "      <th>Mariya</th>\n",
       "      <td>Sofia</td>\n",
       "      <td>ESR15</td>\n",
       "    </tr>\n",
       "    <tr>\n",
       "      <th>Ariel</th>\n",
       "      <td>Munich</td>\n",
       "      <td>ESR10</td>\n",
       "    </tr>\n",
       "    <tr>\n",
       "      <th>Kenneth</th>\n",
       "      <td>Galway</td>\n",
       "      <td>ESR7</td>\n",
       "    </tr>\n",
       "    <tr>\n",
       "      <th>Toby</th>\n",
       "      <td>Porto</td>\n",
       "      <td>ESR3</td>\n",
       "    </tr>\n",
       "    <tr>\n",
       "      <th>Mattia</th>\n",
       "      <td>Bristol</td>\n",
       "      <td>ESR8</td>\n",
       "    </tr>\n",
       "    <tr>\n",
       "      <th>Antonio</th>\n",
       "      <td>Zagreb</td>\n",
       "      <td>ESR13</td>\n",
       "    </tr>\n",
       "    <tr>\n",
       "      <th>Nadège</th>\n",
       "      <td>Bruxelles</td>\n",
       "      <td>ESR5</td>\n",
       "    </tr>\n",
       "    <tr>\n",
       "      <th>Killian</th>\n",
       "      <td>Granada</td>\n",
       "      <td>ESR14</td>\n",
       "    </tr>\n",
       "    <tr>\n",
       "      <th>Ben</th>\n",
       "      <td>Heidelberg</td>\n",
       "      <td>ESR9</td>\n",
       "    </tr>\n",
       "    <tr>\n",
       "      <th>Ramon</th>\n",
       "      <td>Munich</td>\n",
       "      <td>ESR2</td>\n",
       "    </tr>\n",
       "    <tr>\n",
       "      <th>Michi</th>\n",
       "      <td>Munich</td>\n",
       "      <td>Babysitter</td>\n",
       "    </tr>\n",
       "  </tbody>\n",
       "</table>\n",
       "</div>"
      ],
      "text/plain": [
       "               city     project\n",
       "Ksenia       Munich        ESR1\n",
       "Mariya        Sofia       ESR15\n",
       "Ariel        Munich       ESR10\n",
       "Kenneth      Galway        ESR7\n",
       "Toby          Porto        ESR3\n",
       "Mattia      Bristol        ESR8\n",
       "Antonio      Zagreb       ESR13\n",
       "Nadège    Bruxelles        ESR5\n",
       "Killian     Granada       ESR14\n",
       "Ben      Heidelberg        ESR9\n",
       "Ramon        Munich        ESR2\n",
       "Michi        Munich  Babysitter"
      ]
     },
     "execution_count": 164,
     "metadata": {},
     "output_type": "execute_result"
    }
   ],
   "source": [
    "ignite_df.loc[:, [\"city\", \"project\"]]"
   ]
  },
  {
   "cell_type": "markdown",
   "metadata": {},
   "source": [
    "To specify that all the rows must be selected, the symbol ':' is used.\n",
    "\n",
    "A set of students can be selected :"
   ]
  },
  {
   "cell_type": "code",
   "execution_count": 165,
   "metadata": {},
   "outputs": [
    {
     "data": {
      "text/html": [
       "<div>\n",
       "<style scoped>\n",
       "    .dataframe tbody tr th:only-of-type {\n",
       "        vertical-align: middle;\n",
       "    }\n",
       "\n",
       "    .dataframe tbody tr th {\n",
       "        vertical-align: top;\n",
       "    }\n",
       "\n",
       "    .dataframe thead th {\n",
       "        text-align: right;\n",
       "    }\n",
       "</style>\n",
       "<table border=\"1\" class=\"dataframe\">\n",
       "  <thead>\n",
       "    <tr style=\"text-align: right;\">\n",
       "      <th></th>\n",
       "      <th>city</th>\n",
       "      <th>project</th>\n",
       "    </tr>\n",
       "  </thead>\n",
       "  <tbody>\n",
       "    <tr>\n",
       "      <th>Ben</th>\n",
       "      <td>Heidelberg</td>\n",
       "      <td>ESR9</td>\n",
       "    </tr>\n",
       "    <tr>\n",
       "      <th>Killian</th>\n",
       "      <td>Granada</td>\n",
       "      <td>ESR14</td>\n",
       "    </tr>\n",
       "  </tbody>\n",
       "</table>\n",
       "</div>"
      ],
      "text/plain": [
       "               city project\n",
       "Ben      Heidelberg    ESR9\n",
       "Killian     Granada   ESR14"
      ]
     },
     "execution_count": 165,
     "metadata": {},
     "output_type": "execute_result"
    }
   ],
   "source": [
    "ignite_df.loc[[\"Ben\", \"Killian\"],[\"city\", \"project\"]]"
   ]
  },
  {
   "cell_type": "markdown",
   "metadata": {},
   "source": [
    "And to get a specific value :"
   ]
  },
  {
   "cell_type": "code",
   "execution_count": 166,
   "metadata": {},
   "outputs": [
    {
     "data": {
      "text/plain": [
       "'America'"
      ]
     },
     "execution_count": 166,
     "metadata": {},
     "output_type": "execute_result"
    }
   ],
   "source": [
    "ignite_df.loc[\"Ramon\",\"original_continent\"]"
   ]
  },
  {
   "cell_type": "markdown",
   "metadata": {},
   "source": [
    "Basically, to select your rows and columns, you can pass a list of rows and a list of columns. In R, it is the equivalent as selecting rows and columns with vectors."
   ]
  },
  {
   "cell_type": "markdown",
   "metadata": {},
   "source": [
    "# Manipulating the dataframe\n",
    "\n",
    "The dataframe can be sorted on specific values.\n",
    "\n",
    "In this first example, the values are sorted according to the column \"other_author_pub\" :"
   ]
  },
  {
   "cell_type": "code",
   "execution_count": 167,
   "metadata": {},
   "outputs": [
    {
     "data": {
      "text/html": [
       "<div>\n",
       "<style scoped>\n",
       "    .dataframe tbody tr th:only-of-type {\n",
       "        vertical-align: middle;\n",
       "    }\n",
       "\n",
       "    .dataframe tbody tr th {\n",
       "        vertical-align: top;\n",
       "    }\n",
       "\n",
       "    .dataframe thead th {\n",
       "        text-align: right;\n",
       "    }\n",
       "</style>\n",
       "<table border=\"1\" class=\"dataframe\">\n",
       "  <thead>\n",
       "    <tr style=\"text-align: right;\">\n",
       "      <th></th>\n",
       "      <th>city</th>\n",
       "      <th>first_author_pub</th>\n",
       "      <th>original_continent</th>\n",
       "      <th>other_author_pub</th>\n",
       "      <th>project</th>\n",
       "    </tr>\n",
       "  </thead>\n",
       "  <tbody>\n",
       "    <tr>\n",
       "      <th>Toby</th>\n",
       "      <td>Porto</td>\n",
       "      <td>3</td>\n",
       "      <td>Asia</td>\n",
       "      <td>0</td>\n",
       "      <td>ESR3</td>\n",
       "    </tr>\n",
       "    <tr>\n",
       "      <th>Kenneth</th>\n",
       "      <td>Galway</td>\n",
       "      <td>2</td>\n",
       "      <td>America</td>\n",
       "      <td>1</td>\n",
       "      <td>ESR7</td>\n",
       "    </tr>\n",
       "    <tr>\n",
       "      <th>Mattia</th>\n",
       "      <td>Bristol</td>\n",
       "      <td>4</td>\n",
       "      <td>Europe</td>\n",
       "      <td>1</td>\n",
       "      <td>ESR8</td>\n",
       "    </tr>\n",
       "    <tr>\n",
       "      <th>Killian</th>\n",
       "      <td>Granada</td>\n",
       "      <td>3</td>\n",
       "      <td>America</td>\n",
       "      <td>1</td>\n",
       "      <td>ESR14</td>\n",
       "    </tr>\n",
       "    <tr>\n",
       "      <th>Ksenia</th>\n",
       "      <td>Munich</td>\n",
       "      <td>3</td>\n",
       "      <td>???</td>\n",
       "      <td>2</td>\n",
       "      <td>ESR1</td>\n",
       "    </tr>\n",
       "    <tr>\n",
       "      <th>Mariya</th>\n",
       "      <td>Sofia</td>\n",
       "      <td>2</td>\n",
       "      <td>Europe</td>\n",
       "      <td>2</td>\n",
       "      <td>ESR15</td>\n",
       "    </tr>\n",
       "    <tr>\n",
       "      <th>Antonio</th>\n",
       "      <td>Zagreb</td>\n",
       "      <td>7</td>\n",
       "      <td>America</td>\n",
       "      <td>2</td>\n",
       "      <td>ESR13</td>\n",
       "    </tr>\n",
       "    <tr>\n",
       "      <th>Ariel</th>\n",
       "      <td>Munich</td>\n",
       "      <td>2</td>\n",
       "      <td>Asia</td>\n",
       "      <td>3</td>\n",
       "      <td>ESR10</td>\n",
       "    </tr>\n",
       "    <tr>\n",
       "      <th>Ramon</th>\n",
       "      <td>Munich</td>\n",
       "      <td>2</td>\n",
       "      <td>America</td>\n",
       "      <td>3</td>\n",
       "      <td>ESR2</td>\n",
       "    </tr>\n",
       "    <tr>\n",
       "      <th>Ben</th>\n",
       "      <td>Heidelberg</td>\n",
       "      <td>2</td>\n",
       "      <td>America</td>\n",
       "      <td>4</td>\n",
       "      <td>ESR9</td>\n",
       "    </tr>\n",
       "    <tr>\n",
       "      <th>Michi</th>\n",
       "      <td>Munich</td>\n",
       "      <td>0</td>\n",
       "      <td>Europe</td>\n",
       "      <td>4</td>\n",
       "      <td>Babysitter</td>\n",
       "    </tr>\n",
       "    <tr>\n",
       "      <th>Nadège</th>\n",
       "      <td>Bruxelles</td>\n",
       "      <td>1</td>\n",
       "      <td>Europe</td>\n",
       "      <td>10</td>\n",
       "      <td>ESR5</td>\n",
       "    </tr>\n",
       "  </tbody>\n",
       "</table>\n",
       "</div>"
      ],
      "text/plain": [
       "               city  first_author_pub original_continent  other_author_pub  \\\n",
       "Toby          Porto                 3               Asia                 0   \n",
       "Kenneth      Galway                 2            America                 1   \n",
       "Mattia      Bristol                 4             Europe                 1   \n",
       "Killian     Granada                 3            America                 1   \n",
       "Ksenia       Munich                 3                ???                 2   \n",
       "Mariya        Sofia                 2             Europe                 2   \n",
       "Antonio      Zagreb                 7            America                 2   \n",
       "Ariel        Munich                 2               Asia                 3   \n",
       "Ramon        Munich                 2            America                 3   \n",
       "Ben      Heidelberg                 2            America                 4   \n",
       "Michi        Munich                 0             Europe                 4   \n",
       "Nadège    Bruxelles                 1             Europe                10   \n",
       "\n",
       "            project  \n",
       "Toby           ESR3  \n",
       "Kenneth        ESR7  \n",
       "Mattia         ESR8  \n",
       "Killian       ESR14  \n",
       "Ksenia         ESR1  \n",
       "Mariya        ESR15  \n",
       "Antonio       ESR13  \n",
       "Ariel         ESR10  \n",
       "Ramon          ESR2  \n",
       "Ben            ESR9  \n",
       "Michi    Babysitter  \n",
       "Nadège         ESR5  "
      ]
     },
     "execution_count": 167,
     "metadata": {},
     "output_type": "execute_result"
    }
   ],
   "source": [
    "ignite_df.sort_values(by=\"other_author_pub\")"
   ]
  },
  {
   "cell_type": "markdown",
   "metadata": {},
   "source": [
    "By default, the values are ascending. \n",
    "\n",
    "In this second example, the values are sorted according to the column \"first_author_pub\", and the values are descending by setting the parameter 'ascending' to False :"
   ]
  },
  {
   "cell_type": "code",
   "execution_count": 168,
   "metadata": {},
   "outputs": [
    {
     "data": {
      "text/html": [
       "<div>\n",
       "<style scoped>\n",
       "    .dataframe tbody tr th:only-of-type {\n",
       "        vertical-align: middle;\n",
       "    }\n",
       "\n",
       "    .dataframe tbody tr th {\n",
       "        vertical-align: top;\n",
       "    }\n",
       "\n",
       "    .dataframe thead th {\n",
       "        text-align: right;\n",
       "    }\n",
       "</style>\n",
       "<table border=\"1\" class=\"dataframe\">\n",
       "  <thead>\n",
       "    <tr style=\"text-align: right;\">\n",
       "      <th></th>\n",
       "      <th>city</th>\n",
       "      <th>first_author_pub</th>\n",
       "      <th>original_continent</th>\n",
       "      <th>other_author_pub</th>\n",
       "      <th>project</th>\n",
       "    </tr>\n",
       "  </thead>\n",
       "  <tbody>\n",
       "    <tr>\n",
       "      <th>Antonio</th>\n",
       "      <td>Zagreb</td>\n",
       "      <td>7</td>\n",
       "      <td>America</td>\n",
       "      <td>2</td>\n",
       "      <td>ESR13</td>\n",
       "    </tr>\n",
       "    <tr>\n",
       "      <th>Mattia</th>\n",
       "      <td>Bristol</td>\n",
       "      <td>4</td>\n",
       "      <td>Europe</td>\n",
       "      <td>1</td>\n",
       "      <td>ESR8</td>\n",
       "    </tr>\n",
       "    <tr>\n",
       "      <th>Ksenia</th>\n",
       "      <td>Munich</td>\n",
       "      <td>3</td>\n",
       "      <td>???</td>\n",
       "      <td>2</td>\n",
       "      <td>ESR1</td>\n",
       "    </tr>\n",
       "    <tr>\n",
       "      <th>Toby</th>\n",
       "      <td>Porto</td>\n",
       "      <td>3</td>\n",
       "      <td>Asia</td>\n",
       "      <td>0</td>\n",
       "      <td>ESR3</td>\n",
       "    </tr>\n",
       "    <tr>\n",
       "      <th>Killian</th>\n",
       "      <td>Granada</td>\n",
       "      <td>3</td>\n",
       "      <td>America</td>\n",
       "      <td>1</td>\n",
       "      <td>ESR14</td>\n",
       "    </tr>\n",
       "    <tr>\n",
       "      <th>Mariya</th>\n",
       "      <td>Sofia</td>\n",
       "      <td>2</td>\n",
       "      <td>Europe</td>\n",
       "      <td>2</td>\n",
       "      <td>ESR15</td>\n",
       "    </tr>\n",
       "    <tr>\n",
       "      <th>Ariel</th>\n",
       "      <td>Munich</td>\n",
       "      <td>2</td>\n",
       "      <td>Asia</td>\n",
       "      <td>3</td>\n",
       "      <td>ESR10</td>\n",
       "    </tr>\n",
       "    <tr>\n",
       "      <th>Kenneth</th>\n",
       "      <td>Galway</td>\n",
       "      <td>2</td>\n",
       "      <td>America</td>\n",
       "      <td>1</td>\n",
       "      <td>ESR7</td>\n",
       "    </tr>\n",
       "    <tr>\n",
       "      <th>Ben</th>\n",
       "      <td>Heidelberg</td>\n",
       "      <td>2</td>\n",
       "      <td>America</td>\n",
       "      <td>4</td>\n",
       "      <td>ESR9</td>\n",
       "    </tr>\n",
       "    <tr>\n",
       "      <th>Ramon</th>\n",
       "      <td>Munich</td>\n",
       "      <td>2</td>\n",
       "      <td>America</td>\n",
       "      <td>3</td>\n",
       "      <td>ESR2</td>\n",
       "    </tr>\n",
       "    <tr>\n",
       "      <th>Nadège</th>\n",
       "      <td>Bruxelles</td>\n",
       "      <td>1</td>\n",
       "      <td>Europe</td>\n",
       "      <td>10</td>\n",
       "      <td>ESR5</td>\n",
       "    </tr>\n",
       "    <tr>\n",
       "      <th>Michi</th>\n",
       "      <td>Munich</td>\n",
       "      <td>0</td>\n",
       "      <td>Europe</td>\n",
       "      <td>4</td>\n",
       "      <td>Babysitter</td>\n",
       "    </tr>\n",
       "  </tbody>\n",
       "</table>\n",
       "</div>"
      ],
      "text/plain": [
       "               city  first_author_pub original_continent  other_author_pub  \\\n",
       "Antonio      Zagreb                 7            America                 2   \n",
       "Mattia      Bristol                 4             Europe                 1   \n",
       "Ksenia       Munich                 3                ???                 2   \n",
       "Toby          Porto                 3               Asia                 0   \n",
       "Killian     Granada                 3            America                 1   \n",
       "Mariya        Sofia                 2             Europe                 2   \n",
       "Ariel        Munich                 2               Asia                 3   \n",
       "Kenneth      Galway                 2            America                 1   \n",
       "Ben      Heidelberg                 2            America                 4   \n",
       "Ramon        Munich                 2            America                 3   \n",
       "Nadège    Bruxelles                 1             Europe                10   \n",
       "Michi        Munich                 0             Europe                 4   \n",
       "\n",
       "            project  \n",
       "Antonio       ESR13  \n",
       "Mattia         ESR8  \n",
       "Ksenia         ESR1  \n",
       "Toby           ESR3  \n",
       "Killian       ESR14  \n",
       "Mariya        ESR15  \n",
       "Ariel         ESR10  \n",
       "Kenneth        ESR7  \n",
       "Ben            ESR9  \n",
       "Ramon          ESR2  \n",
       "Nadège         ESR5  \n",
       "Michi    Babysitter  "
      ]
     },
     "execution_count": 168,
     "metadata": {},
     "output_type": "execute_result"
    }
   ],
   "source": [
    "ignite_df.sort_values(by=\"first_author_pub\", ascending=False)"
   ]
  },
  {
   "cell_type": "markdown",
   "metadata": {},
   "source": [
    "# Analyzing your data\n",
    "\n",
    "The function describe() is similar to summary() in R : for columns that contain numerical values, it computes the number of values, mean, standard deviation, minimum, maximum and quartiles."
   ]
  },
  {
   "cell_type": "code",
   "execution_count": 169,
   "metadata": {},
   "outputs": [
    {
     "data": {
      "text/html": [
       "<div>\n",
       "<style scoped>\n",
       "    .dataframe tbody tr th:only-of-type {\n",
       "        vertical-align: middle;\n",
       "    }\n",
       "\n",
       "    .dataframe tbody tr th {\n",
       "        vertical-align: top;\n",
       "    }\n",
       "\n",
       "    .dataframe thead th {\n",
       "        text-align: right;\n",
       "    }\n",
       "</style>\n",
       "<table border=\"1\" class=\"dataframe\">\n",
       "  <thead>\n",
       "    <tr style=\"text-align: right;\">\n",
       "      <th></th>\n",
       "      <th>first_author_pub</th>\n",
       "      <th>other_author_pub</th>\n",
       "    </tr>\n",
       "  </thead>\n",
       "  <tbody>\n",
       "    <tr>\n",
       "      <th>count</th>\n",
       "      <td>12.000000</td>\n",
       "      <td>12.000000</td>\n",
       "    </tr>\n",
       "    <tr>\n",
       "      <th>mean</th>\n",
       "      <td>2.583333</td>\n",
       "      <td>2.750000</td>\n",
       "    </tr>\n",
       "    <tr>\n",
       "      <th>std</th>\n",
       "      <td>1.729862</td>\n",
       "      <td>2.598076</td>\n",
       "    </tr>\n",
       "    <tr>\n",
       "      <th>min</th>\n",
       "      <td>0.000000</td>\n",
       "      <td>0.000000</td>\n",
       "    </tr>\n",
       "    <tr>\n",
       "      <th>25%</th>\n",
       "      <td>2.000000</td>\n",
       "      <td>1.000000</td>\n",
       "    </tr>\n",
       "    <tr>\n",
       "      <th>50%</th>\n",
       "      <td>2.000000</td>\n",
       "      <td>2.000000</td>\n",
       "    </tr>\n",
       "    <tr>\n",
       "      <th>75%</th>\n",
       "      <td>3.000000</td>\n",
       "      <td>3.250000</td>\n",
       "    </tr>\n",
       "    <tr>\n",
       "      <th>max</th>\n",
       "      <td>7.000000</td>\n",
       "      <td>10.000000</td>\n",
       "    </tr>\n",
       "  </tbody>\n",
       "</table>\n",
       "</div>"
      ],
      "text/plain": [
       "       first_author_pub  other_author_pub\n",
       "count         12.000000         12.000000\n",
       "mean           2.583333          2.750000\n",
       "std            1.729862          2.598076\n",
       "min            0.000000          0.000000\n",
       "25%            2.000000          1.000000\n",
       "50%            2.000000          2.000000\n",
       "75%            3.000000          3.250000\n",
       "max            7.000000         10.000000"
      ]
     },
     "execution_count": 169,
     "metadata": {},
     "output_type": "execute_result"
    }
   ],
   "source": [
    "ignite_df.describe()"
   ]
  },
  {
   "cell_type": "markdown",
   "metadata": {},
   "source": [
    "You can also compute these informations on each column.\n",
    "\n",
    "Computing maximum on first_author_pub and other_author_pub :"
   ]
  },
  {
   "cell_type": "code",
   "execution_count": 170,
   "metadata": {},
   "outputs": [
    {
     "data": {
      "text/plain": [
       "7"
      ]
     },
     "execution_count": 170,
     "metadata": {},
     "output_type": "execute_result"
    }
   ],
   "source": [
    "ignite_df[\"first_author_pub\"].max()"
   ]
  },
  {
   "cell_type": "code",
   "execution_count": 171,
   "metadata": {},
   "outputs": [
    {
     "data": {
      "text/plain": [
       "10"
      ]
     },
     "execution_count": 171,
     "metadata": {},
     "output_type": "execute_result"
    }
   ],
   "source": [
    "ignite_df[\"other_author_pub\"].max()"
   ]
  },
  {
   "cell_type": "markdown",
   "metadata": {},
   "source": [
    "Computing minimum on first_author_pub and other_author_pub :"
   ]
  },
  {
   "cell_type": "code",
   "execution_count": 172,
   "metadata": {},
   "outputs": [
    {
     "data": {
      "text/plain": [
       "0"
      ]
     },
     "execution_count": 172,
     "metadata": {},
     "output_type": "execute_result"
    }
   ],
   "source": [
    "ignite_df[\"first_author_pub\"].min()"
   ]
  },
  {
   "cell_type": "code",
   "execution_count": 173,
   "metadata": {},
   "outputs": [
    {
     "data": {
      "text/plain": [
       "0"
      ]
     },
     "execution_count": 173,
     "metadata": {},
     "output_type": "execute_result"
    }
   ],
   "source": [
    "ignite_df[\"other_author_pub\"].min()"
   ]
  },
  {
   "cell_type": "markdown",
   "metadata": {},
   "source": [
    "The elements in the output of describe() can be "
   ]
  },
  {
   "cell_type": "markdown",
   "metadata": {},
   "source": [
    "# Exercise 1\n",
    "\n",
    "What is the number of first_author_pub by Michi in ignite_df ? And the number of other_author_pub by Michi in ignite_df ?\n",
    "\n",
    "What is the total number of first_author_pub from everybody? And other_author_pub?\n",
    "\n",
    "Now, since Michi is the babysitter of all the ESR, we would like his first_author_pub count to be equal to the total number of first_author_pub. Change this value."
   ]
  },
  {
   "cell_type": "code",
   "execution_count": 174,
   "metadata": {},
   "outputs": [
    {
     "data": {
      "text/html": [
       "<div>\n",
       "<style scoped>\n",
       "    .dataframe tbody tr th:only-of-type {\n",
       "        vertical-align: middle;\n",
       "    }\n",
       "\n",
       "    .dataframe tbody tr th {\n",
       "        vertical-align: top;\n",
       "    }\n",
       "\n",
       "    .dataframe thead th {\n",
       "        text-align: right;\n",
       "    }\n",
       "</style>\n",
       "<table border=\"1\" class=\"dataframe\">\n",
       "  <thead>\n",
       "    <tr style=\"text-align: right;\">\n",
       "      <th></th>\n",
       "      <th>city</th>\n",
       "      <th>first_author_pub</th>\n",
       "      <th>original_continent</th>\n",
       "      <th>other_author_pub</th>\n",
       "      <th>project</th>\n",
       "    </tr>\n",
       "  </thead>\n",
       "  <tbody>\n",
       "    <tr>\n",
       "      <th>Ksenia</th>\n",
       "      <td>Munich</td>\n",
       "      <td>3</td>\n",
       "      <td>???</td>\n",
       "      <td>2</td>\n",
       "      <td>ESR1</td>\n",
       "    </tr>\n",
       "    <tr>\n",
       "      <th>Mariya</th>\n",
       "      <td>Sofia</td>\n",
       "      <td>2</td>\n",
       "      <td>Europe</td>\n",
       "      <td>2</td>\n",
       "      <td>ESR15</td>\n",
       "    </tr>\n",
       "    <tr>\n",
       "      <th>Ariel</th>\n",
       "      <td>Munich</td>\n",
       "      <td>2</td>\n",
       "      <td>Asia</td>\n",
       "      <td>3</td>\n",
       "      <td>ESR10</td>\n",
       "    </tr>\n",
       "    <tr>\n",
       "      <th>Kenneth</th>\n",
       "      <td>Galway</td>\n",
       "      <td>2</td>\n",
       "      <td>America</td>\n",
       "      <td>1</td>\n",
       "      <td>ESR7</td>\n",
       "    </tr>\n",
       "    <tr>\n",
       "      <th>Toby</th>\n",
       "      <td>Porto</td>\n",
       "      <td>3</td>\n",
       "      <td>Asia</td>\n",
       "      <td>0</td>\n",
       "      <td>ESR3</td>\n",
       "    </tr>\n",
       "    <tr>\n",
       "      <th>Mattia</th>\n",
       "      <td>Bristol</td>\n",
       "      <td>4</td>\n",
       "      <td>Europe</td>\n",
       "      <td>1</td>\n",
       "      <td>ESR8</td>\n",
       "    </tr>\n",
       "    <tr>\n",
       "      <th>Antonio</th>\n",
       "      <td>Zagreb</td>\n",
       "      <td>7</td>\n",
       "      <td>America</td>\n",
       "      <td>2</td>\n",
       "      <td>ESR13</td>\n",
       "    </tr>\n",
       "    <tr>\n",
       "      <th>Nadège</th>\n",
       "      <td>Bruxelles</td>\n",
       "      <td>1</td>\n",
       "      <td>Europe</td>\n",
       "      <td>10</td>\n",
       "      <td>ESR5</td>\n",
       "    </tr>\n",
       "    <tr>\n",
       "      <th>Killian</th>\n",
       "      <td>Granada</td>\n",
       "      <td>3</td>\n",
       "      <td>America</td>\n",
       "      <td>1</td>\n",
       "      <td>ESR14</td>\n",
       "    </tr>\n",
       "    <tr>\n",
       "      <th>Ben</th>\n",
       "      <td>Heidelberg</td>\n",
       "      <td>2</td>\n",
       "      <td>America</td>\n",
       "      <td>4</td>\n",
       "      <td>ESR9</td>\n",
       "    </tr>\n",
       "    <tr>\n",
       "      <th>Ramon</th>\n",
       "      <td>Munich</td>\n",
       "      <td>2</td>\n",
       "      <td>America</td>\n",
       "      <td>3</td>\n",
       "      <td>ESR2</td>\n",
       "    </tr>\n",
       "    <tr>\n",
       "      <th>Michi</th>\n",
       "      <td>Munich</td>\n",
       "      <td>31</td>\n",
       "      <td>Europe</td>\n",
       "      <td>4</td>\n",
       "      <td>Babysitter</td>\n",
       "    </tr>\n",
       "  </tbody>\n",
       "</table>\n",
       "</div>"
      ],
      "text/plain": [
       "               city  first_author_pub original_continent  other_author_pub  \\\n",
       "Ksenia       Munich                 3                ???                 2   \n",
       "Mariya        Sofia                 2             Europe                 2   \n",
       "Ariel        Munich                 2               Asia                 3   \n",
       "Kenneth      Galway                 2            America                 1   \n",
       "Toby          Porto                 3               Asia                 0   \n",
       "Mattia      Bristol                 4             Europe                 1   \n",
       "Antonio      Zagreb                 7            America                 2   \n",
       "Nadège    Bruxelles                 1             Europe                10   \n",
       "Killian     Granada                 3            America                 1   \n",
       "Ben      Heidelberg                 2            America                 4   \n",
       "Ramon        Munich                 2            America                 3   \n",
       "Michi        Munich                31             Europe                 4   \n",
       "\n",
       "            project  \n",
       "Ksenia         ESR1  \n",
       "Mariya        ESR15  \n",
       "Ariel         ESR10  \n",
       "Kenneth        ESR7  \n",
       "Toby           ESR3  \n",
       "Mattia         ESR8  \n",
       "Antonio       ESR13  \n",
       "Nadège         ESR5  \n",
       "Killian       ESR14  \n",
       "Ben            ESR9  \n",
       "Ramon          ESR2  \n",
       "Michi    Babysitter  "
      ]
     },
     "execution_count": 174,
     "metadata": {},
     "output_type": "execute_result"
    }
   ],
   "source": [
    "# this is not the answer!\n",
    "ignite_data[\"first_author_pub\"][11] = 31\n",
    "ignite_name = ignite_data[\"name\"]\n",
    "del ignite_data[\"name\"]\n",
    "ignite_df = pandas.DataFrame(ignite_data, index=ignite_name)\n",
    "\n",
    "# but this is what you are supposed to get\n",
    "ignite_df"
   ]
  },
  {
   "cell_type": "markdown",
   "metadata": {},
   "source": [
    "# Selecting elements with booleans\n",
    "\n",
    "The data can be subsetted with a boolean.\n",
    "\n",
    "For example, we can select all the lines of people who live in Munich. The condition will be whether the column 'city' is equal to \"Munich\" :"
   ]
  },
  {
   "cell_type": "code",
   "execution_count": 200,
   "metadata": {},
   "outputs": [
    {
     "data": {
      "text/html": [
       "<div>\n",
       "<style scoped>\n",
       "    .dataframe tbody tr th:only-of-type {\n",
       "        vertical-align: middle;\n",
       "    }\n",
       "\n",
       "    .dataframe tbody tr th {\n",
       "        vertical-align: top;\n",
       "    }\n",
       "\n",
       "    .dataframe thead th {\n",
       "        text-align: right;\n",
       "    }\n",
       "</style>\n",
       "<table border=\"1\" class=\"dataframe\">\n",
       "  <thead>\n",
       "    <tr style=\"text-align: right;\">\n",
       "      <th></th>\n",
       "      <th>city</th>\n",
       "      <th>first_author_pub</th>\n",
       "      <th>original_continent</th>\n",
       "      <th>other_author_pub</th>\n",
       "      <th>project</th>\n",
       "    </tr>\n",
       "  </thead>\n",
       "  <tbody>\n",
       "    <tr>\n",
       "      <th>Ksenia</th>\n",
       "      <td>Munich</td>\n",
       "      <td>3</td>\n",
       "      <td>???</td>\n",
       "      <td>2</td>\n",
       "      <td>ESR1</td>\n",
       "    </tr>\n",
       "    <tr>\n",
       "      <th>Ariel</th>\n",
       "      <td>Munich</td>\n",
       "      <td>2</td>\n",
       "      <td>Asia</td>\n",
       "      <td>3</td>\n",
       "      <td>ESR10</td>\n",
       "    </tr>\n",
       "    <tr>\n",
       "      <th>Ramon</th>\n",
       "      <td>Munich</td>\n",
       "      <td>2</td>\n",
       "      <td>America</td>\n",
       "      <td>3</td>\n",
       "      <td>ESR2</td>\n",
       "    </tr>\n",
       "    <tr>\n",
       "      <th>Michi</th>\n",
       "      <td>Munich</td>\n",
       "      <td>31</td>\n",
       "      <td>Europe</td>\n",
       "      <td>4</td>\n",
       "      <td>Babysitter</td>\n",
       "    </tr>\n",
       "  </tbody>\n",
       "</table>\n",
       "</div>"
      ],
      "text/plain": [
       "          city  first_author_pub original_continent  other_author_pub  \\\n",
       "Ksenia  Munich                 3                ???                 2   \n",
       "Ariel   Munich                 2               Asia                 3   \n",
       "Ramon   Munich                 2            America                 3   \n",
       "Michi   Munich                31             Europe                 4   \n",
       "\n",
       "           project  \n",
       "Ksenia        ESR1  \n",
       "Ariel        ESR10  \n",
       "Ramon         ESR2  \n",
       "Michi   Babysitter  "
      ]
     },
     "execution_count": 200,
     "metadata": {},
     "output_type": "execute_result"
    }
   ],
   "source": [
    "ignite_df[ ignite_df.city == \"Munich\"]"
   ]
  },
  {
   "cell_type": "markdown",
   "metadata": {},
   "source": [
    "Here, to select people who have more than 2 first author publications :"
   ]
  },
  {
   "cell_type": "code",
   "execution_count": 205,
   "metadata": {},
   "outputs": [
    {
     "data": {
      "text/html": [
       "<div>\n",
       "<style scoped>\n",
       "    .dataframe tbody tr th:only-of-type {\n",
       "        vertical-align: middle;\n",
       "    }\n",
       "\n",
       "    .dataframe tbody tr th {\n",
       "        vertical-align: top;\n",
       "    }\n",
       "\n",
       "    .dataframe thead th {\n",
       "        text-align: right;\n",
       "    }\n",
       "</style>\n",
       "<table border=\"1\" class=\"dataframe\">\n",
       "  <thead>\n",
       "    <tr style=\"text-align: right;\">\n",
       "      <th></th>\n",
       "      <th>city</th>\n",
       "      <th>first_author_pub</th>\n",
       "      <th>original_continent</th>\n",
       "      <th>other_author_pub</th>\n",
       "      <th>project</th>\n",
       "    </tr>\n",
       "  </thead>\n",
       "  <tbody>\n",
       "    <tr>\n",
       "      <th>Ksenia</th>\n",
       "      <td>Munich</td>\n",
       "      <td>3</td>\n",
       "      <td>???</td>\n",
       "      <td>2</td>\n",
       "      <td>ESR1</td>\n",
       "    </tr>\n",
       "    <tr>\n",
       "      <th>Toby</th>\n",
       "      <td>Porto</td>\n",
       "      <td>3</td>\n",
       "      <td>Asia</td>\n",
       "      <td>0</td>\n",
       "      <td>ESR3</td>\n",
       "    </tr>\n",
       "    <tr>\n",
       "      <th>Mattia</th>\n",
       "      <td>Bristol</td>\n",
       "      <td>4</td>\n",
       "      <td>Europe</td>\n",
       "      <td>1</td>\n",
       "      <td>ESR8</td>\n",
       "    </tr>\n",
       "    <tr>\n",
       "      <th>Antonio</th>\n",
       "      <td>Zagreb</td>\n",
       "      <td>7</td>\n",
       "      <td>America</td>\n",
       "      <td>2</td>\n",
       "      <td>ESR13</td>\n",
       "    </tr>\n",
       "    <tr>\n",
       "      <th>Killian</th>\n",
       "      <td>Granada</td>\n",
       "      <td>3</td>\n",
       "      <td>America</td>\n",
       "      <td>1</td>\n",
       "      <td>ESR14</td>\n",
       "    </tr>\n",
       "    <tr>\n",
       "      <th>Michi</th>\n",
       "      <td>Munich</td>\n",
       "      <td>31</td>\n",
       "      <td>Europe</td>\n",
       "      <td>4</td>\n",
       "      <td>Babysitter</td>\n",
       "    </tr>\n",
       "  </tbody>\n",
       "</table>\n",
       "</div>"
      ],
      "text/plain": [
       "            city  first_author_pub original_continent  other_author_pub  \\\n",
       "Ksenia    Munich                 3                ???                 2   \n",
       "Toby       Porto                 3               Asia                 0   \n",
       "Mattia   Bristol                 4             Europe                 1   \n",
       "Antonio   Zagreb                 7            America                 2   \n",
       "Killian  Granada                 3            America                 1   \n",
       "Michi     Munich                31             Europe                 4   \n",
       "\n",
       "            project  \n",
       "Ksenia         ESR1  \n",
       "Toby           ESR3  \n",
       "Mattia         ESR8  \n",
       "Antonio       ESR13  \n",
       "Killian       ESR14  \n",
       "Michi    Babysitter  "
      ]
     },
     "execution_count": 205,
     "metadata": {},
     "output_type": "execute_result"
    }
   ],
   "source": [
    "ignite_df[ ignite_df.first_author_pub > 2 ]"
   ]
  },
  {
   "cell_type": "markdown",
   "metadata": {},
   "source": [
    "Note that the output is exactly the same if you use .loc[] :"
   ]
  },
  {
   "cell_type": "code",
   "execution_count": 206,
   "metadata": {},
   "outputs": [
    {
     "data": {
      "text/html": [
       "<div>\n",
       "<style scoped>\n",
       "    .dataframe tbody tr th:only-of-type {\n",
       "        vertical-align: middle;\n",
       "    }\n",
       "\n",
       "    .dataframe tbody tr th {\n",
       "        vertical-align: top;\n",
       "    }\n",
       "\n",
       "    .dataframe thead th {\n",
       "        text-align: right;\n",
       "    }\n",
       "</style>\n",
       "<table border=\"1\" class=\"dataframe\">\n",
       "  <thead>\n",
       "    <tr style=\"text-align: right;\">\n",
       "      <th></th>\n",
       "      <th>city</th>\n",
       "      <th>first_author_pub</th>\n",
       "      <th>original_continent</th>\n",
       "      <th>other_author_pub</th>\n",
       "      <th>project</th>\n",
       "    </tr>\n",
       "  </thead>\n",
       "  <tbody>\n",
       "    <tr>\n",
       "      <th>Ksenia</th>\n",
       "      <td>Munich</td>\n",
       "      <td>3</td>\n",
       "      <td>???</td>\n",
       "      <td>2</td>\n",
       "      <td>ESR1</td>\n",
       "    </tr>\n",
       "    <tr>\n",
       "      <th>Toby</th>\n",
       "      <td>Porto</td>\n",
       "      <td>3</td>\n",
       "      <td>Asia</td>\n",
       "      <td>0</td>\n",
       "      <td>ESR3</td>\n",
       "    </tr>\n",
       "    <tr>\n",
       "      <th>Mattia</th>\n",
       "      <td>Bristol</td>\n",
       "      <td>4</td>\n",
       "      <td>Europe</td>\n",
       "      <td>1</td>\n",
       "      <td>ESR8</td>\n",
       "    </tr>\n",
       "    <tr>\n",
       "      <th>Antonio</th>\n",
       "      <td>Zagreb</td>\n",
       "      <td>7</td>\n",
       "      <td>America</td>\n",
       "      <td>2</td>\n",
       "      <td>ESR13</td>\n",
       "    </tr>\n",
       "    <tr>\n",
       "      <th>Killian</th>\n",
       "      <td>Granada</td>\n",
       "      <td>3</td>\n",
       "      <td>America</td>\n",
       "      <td>1</td>\n",
       "      <td>ESR14</td>\n",
       "    </tr>\n",
       "    <tr>\n",
       "      <th>Michi</th>\n",
       "      <td>Munich</td>\n",
       "      <td>31</td>\n",
       "      <td>Europe</td>\n",
       "      <td>4</td>\n",
       "      <td>Babysitter</td>\n",
       "    </tr>\n",
       "  </tbody>\n",
       "</table>\n",
       "</div>"
      ],
      "text/plain": [
       "            city  first_author_pub original_continent  other_author_pub  \\\n",
       "Ksenia    Munich                 3                ???                 2   \n",
       "Toby       Porto                 3               Asia                 0   \n",
       "Mattia   Bristol                 4             Europe                 1   \n",
       "Antonio   Zagreb                 7            America                 2   \n",
       "Killian  Granada                 3            America                 1   \n",
       "Michi     Munich                31             Europe                 4   \n",
       "\n",
       "            project  \n",
       "Ksenia         ESR1  \n",
       "Toby           ESR3  \n",
       "Mattia         ESR8  \n",
       "Antonio       ESR13  \n",
       "Killian       ESR14  \n",
       "Michi    Babysitter  "
      ]
     },
     "execution_count": 206,
     "metadata": {},
     "output_type": "execute_result"
    }
   ],
   "source": [
    "ignite_df.loc[ ignite_df.first_author_pub > 2 ]"
   ]
  },
  {
   "cell_type": "markdown",
   "metadata": {},
   "source": [
    "To indicate the columns to display, .loc[] must be used. In this example, the \"first_author_pub\" and \"other_author_pub\" columns are displayed for all the lines where first_author_pub is strictly superior to 2 :"
   ]
  },
  {
   "cell_type": "code",
   "execution_count": 208,
   "metadata": {},
   "outputs": [
    {
     "data": {
      "text/html": [
       "<div>\n",
       "<style scoped>\n",
       "    .dataframe tbody tr th:only-of-type {\n",
       "        vertical-align: middle;\n",
       "    }\n",
       "\n",
       "    .dataframe tbody tr th {\n",
       "        vertical-align: top;\n",
       "    }\n",
       "\n",
       "    .dataframe thead th {\n",
       "        text-align: right;\n",
       "    }\n",
       "</style>\n",
       "<table border=\"1\" class=\"dataframe\">\n",
       "  <thead>\n",
       "    <tr style=\"text-align: right;\">\n",
       "      <th></th>\n",
       "      <th>first_author_pub</th>\n",
       "      <th>other_author_pub</th>\n",
       "    </tr>\n",
       "  </thead>\n",
       "  <tbody>\n",
       "    <tr>\n",
       "      <th>Ksenia</th>\n",
       "      <td>3</td>\n",
       "      <td>2</td>\n",
       "    </tr>\n",
       "    <tr>\n",
       "      <th>Toby</th>\n",
       "      <td>3</td>\n",
       "      <td>0</td>\n",
       "    </tr>\n",
       "    <tr>\n",
       "      <th>Mattia</th>\n",
       "      <td>4</td>\n",
       "      <td>1</td>\n",
       "    </tr>\n",
       "    <tr>\n",
       "      <th>Antonio</th>\n",
       "      <td>7</td>\n",
       "      <td>2</td>\n",
       "    </tr>\n",
       "    <tr>\n",
       "      <th>Killian</th>\n",
       "      <td>3</td>\n",
       "      <td>1</td>\n",
       "    </tr>\n",
       "    <tr>\n",
       "      <th>Michi</th>\n",
       "      <td>31</td>\n",
       "      <td>4</td>\n",
       "    </tr>\n",
       "  </tbody>\n",
       "</table>\n",
       "</div>"
      ],
      "text/plain": [
       "         first_author_pub  other_author_pub\n",
       "Ksenia                  3                 2\n",
       "Toby                    3                 0\n",
       "Mattia                  4                 1\n",
       "Antonio                 7                 2\n",
       "Killian                 3                 1\n",
       "Michi                  31                 4"
      ]
     },
     "execution_count": 208,
     "metadata": {},
     "output_type": "execute_result"
    }
   ],
   "source": [
    "ignite_df.loc[ ignite_df.first_author_pub > 2, [\"first_author_pub\", \"other_author_pub\"] ]"
   ]
  },
  {
   "cell_type": "markdown",
   "metadata": {},
   "source": [
    "Several conditions can be specified using & (and), | (or).\n",
    "\n",
    "Here the people who have more than 2 first author publications and who are originally from Europe are selected :"
   ]
  },
  {
   "cell_type": "code",
   "execution_count": 198,
   "metadata": {},
   "outputs": [
    {
     "data": {
      "text/html": [
       "<div>\n",
       "<style scoped>\n",
       "    .dataframe tbody tr th:only-of-type {\n",
       "        vertical-align: middle;\n",
       "    }\n",
       "\n",
       "    .dataframe tbody tr th {\n",
       "        vertical-align: top;\n",
       "    }\n",
       "\n",
       "    .dataframe thead th {\n",
       "        text-align: right;\n",
       "    }\n",
       "</style>\n",
       "<table border=\"1\" class=\"dataframe\">\n",
       "  <thead>\n",
       "    <tr style=\"text-align: right;\">\n",
       "      <th></th>\n",
       "      <th>city</th>\n",
       "      <th>first_author_pub</th>\n",
       "      <th>original_continent</th>\n",
       "      <th>other_author_pub</th>\n",
       "      <th>project</th>\n",
       "    </tr>\n",
       "  </thead>\n",
       "  <tbody>\n",
       "    <tr>\n",
       "      <th>Mattia</th>\n",
       "      <td>Bristol</td>\n",
       "      <td>4</td>\n",
       "      <td>Europe</td>\n",
       "      <td>1</td>\n",
       "      <td>ESR8</td>\n",
       "    </tr>\n",
       "    <tr>\n",
       "      <th>Michi</th>\n",
       "      <td>Munich</td>\n",
       "      <td>31</td>\n",
       "      <td>Europe</td>\n",
       "      <td>4</td>\n",
       "      <td>Babysitter</td>\n",
       "    </tr>\n",
       "  </tbody>\n",
       "</table>\n",
       "</div>"
      ],
      "text/plain": [
       "           city  first_author_pub original_continent  other_author_pub  \\\n",
       "Mattia  Bristol                 4             Europe                 1   \n",
       "Michi    Munich                31             Europe                 4   \n",
       "\n",
       "           project  \n",
       "Mattia        ESR8  \n",
       "Michi   Babysitter  "
      ]
     },
     "execution_count": 198,
     "metadata": {},
     "output_type": "execute_result"
    }
   ],
   "source": [
    "ignite_df[ ( ignite_df.first_author_pub > 2 ) & (ignite_df.original_continent==\"Europe\") ]"
   ]
  },
  {
   "cell_type": "markdown",
   "metadata": {},
   "source": [
    "Another example to select those who are originally from Asia or live in Sofia :"
   ]
  },
  {
   "cell_type": "code",
   "execution_count": 209,
   "metadata": {},
   "outputs": [
    {
     "data": {
      "text/html": [
       "<div>\n",
       "<style scoped>\n",
       "    .dataframe tbody tr th:only-of-type {\n",
       "        vertical-align: middle;\n",
       "    }\n",
       "\n",
       "    .dataframe tbody tr th {\n",
       "        vertical-align: top;\n",
       "    }\n",
       "\n",
       "    .dataframe thead th {\n",
       "        text-align: right;\n",
       "    }\n",
       "</style>\n",
       "<table border=\"1\" class=\"dataframe\">\n",
       "  <thead>\n",
       "    <tr style=\"text-align: right;\">\n",
       "      <th></th>\n",
       "      <th>city</th>\n",
       "      <th>first_author_pub</th>\n",
       "      <th>original_continent</th>\n",
       "      <th>other_author_pub</th>\n",
       "      <th>project</th>\n",
       "    </tr>\n",
       "  </thead>\n",
       "  <tbody>\n",
       "    <tr>\n",
       "      <th>Mariya</th>\n",
       "      <td>Sofia</td>\n",
       "      <td>2</td>\n",
       "      <td>Europe</td>\n",
       "      <td>2</td>\n",
       "      <td>ESR15</td>\n",
       "    </tr>\n",
       "    <tr>\n",
       "      <th>Ariel</th>\n",
       "      <td>Munich</td>\n",
       "      <td>2</td>\n",
       "      <td>Asia</td>\n",
       "      <td>3</td>\n",
       "      <td>ESR10</td>\n",
       "    </tr>\n",
       "    <tr>\n",
       "      <th>Toby</th>\n",
       "      <td>Porto</td>\n",
       "      <td>3</td>\n",
       "      <td>Asia</td>\n",
       "      <td>0</td>\n",
       "      <td>ESR3</td>\n",
       "    </tr>\n",
       "  </tbody>\n",
       "</table>\n",
       "</div>"
      ],
      "text/plain": [
       "          city  first_author_pub original_continent  other_author_pub project\n",
       "Mariya   Sofia                 2             Europe                 2   ESR15\n",
       "Ariel   Munich                 2               Asia                 3   ESR10\n",
       "Toby     Porto                 3               Asia                 0    ESR3"
      ]
     },
     "execution_count": 209,
     "metadata": {},
     "output_type": "execute_result"
    }
   ],
   "source": [
    "ignite_df[ ( ignite_df.original_continent==\"Asia\" ) | (ignite_df.city==\"Sofia\") ]"
   ]
  },
  {
   "cell_type": "markdown",
   "metadata": {},
   "source": [
    "There is also a peculiar notation with '~' to select lines that do not fulfill a condition.\n",
    "\n",
    "Here we select people who are not from Europe :"
   ]
  },
  {
   "cell_type": "code",
   "execution_count": 213,
   "metadata": {},
   "outputs": [
    {
     "data": {
      "text/html": [
       "<div>\n",
       "<style scoped>\n",
       "    .dataframe tbody tr th:only-of-type {\n",
       "        vertical-align: middle;\n",
       "    }\n",
       "\n",
       "    .dataframe tbody tr th {\n",
       "        vertical-align: top;\n",
       "    }\n",
       "\n",
       "    .dataframe thead th {\n",
       "        text-align: right;\n",
       "    }\n",
       "</style>\n",
       "<table border=\"1\" class=\"dataframe\">\n",
       "  <thead>\n",
       "    <tr style=\"text-align: right;\">\n",
       "      <th></th>\n",
       "      <th>city</th>\n",
       "      <th>first_author_pub</th>\n",
       "      <th>original_continent</th>\n",
       "      <th>other_author_pub</th>\n",
       "      <th>project</th>\n",
       "    </tr>\n",
       "  </thead>\n",
       "  <tbody>\n",
       "    <tr>\n",
       "      <th>Ksenia</th>\n",
       "      <td>Munich</td>\n",
       "      <td>3</td>\n",
       "      <td>???</td>\n",
       "      <td>2</td>\n",
       "      <td>ESR1</td>\n",
       "    </tr>\n",
       "    <tr>\n",
       "      <th>Ariel</th>\n",
       "      <td>Munich</td>\n",
       "      <td>2</td>\n",
       "      <td>Asia</td>\n",
       "      <td>3</td>\n",
       "      <td>ESR10</td>\n",
       "    </tr>\n",
       "    <tr>\n",
       "      <th>Kenneth</th>\n",
       "      <td>Galway</td>\n",
       "      <td>2</td>\n",
       "      <td>America</td>\n",
       "      <td>1</td>\n",
       "      <td>ESR7</td>\n",
       "    </tr>\n",
       "    <tr>\n",
       "      <th>Toby</th>\n",
       "      <td>Porto</td>\n",
       "      <td>3</td>\n",
       "      <td>Asia</td>\n",
       "      <td>0</td>\n",
       "      <td>ESR3</td>\n",
       "    </tr>\n",
       "    <tr>\n",
       "      <th>Antonio</th>\n",
       "      <td>Zagreb</td>\n",
       "      <td>7</td>\n",
       "      <td>America</td>\n",
       "      <td>2</td>\n",
       "      <td>ESR13</td>\n",
       "    </tr>\n",
       "    <tr>\n",
       "      <th>Killian</th>\n",
       "      <td>Granada</td>\n",
       "      <td>3</td>\n",
       "      <td>America</td>\n",
       "      <td>1</td>\n",
       "      <td>ESR14</td>\n",
       "    </tr>\n",
       "    <tr>\n",
       "      <th>Ben</th>\n",
       "      <td>Heidelberg</td>\n",
       "      <td>2</td>\n",
       "      <td>America</td>\n",
       "      <td>4</td>\n",
       "      <td>ESR9</td>\n",
       "    </tr>\n",
       "    <tr>\n",
       "      <th>Ramon</th>\n",
       "      <td>Munich</td>\n",
       "      <td>2</td>\n",
       "      <td>America</td>\n",
       "      <td>3</td>\n",
       "      <td>ESR2</td>\n",
       "    </tr>\n",
       "  </tbody>\n",
       "</table>\n",
       "</div>"
      ],
      "text/plain": [
       "               city  first_author_pub original_continent  other_author_pub  \\\n",
       "Ksenia       Munich                 3                ???                 2   \n",
       "Ariel        Munich                 2               Asia                 3   \n",
       "Kenneth      Galway                 2            America                 1   \n",
       "Toby          Porto                 3               Asia                 0   \n",
       "Antonio      Zagreb                 7            America                 2   \n",
       "Killian     Granada                 3            America                 1   \n",
       "Ben      Heidelberg                 2            America                 4   \n",
       "Ramon        Munich                 2            America                 3   \n",
       "\n",
       "        project  \n",
       "Ksenia     ESR1  \n",
       "Ariel     ESR10  \n",
       "Kenneth    ESR7  \n",
       "Toby       ESR3  \n",
       "Antonio   ESR13  \n",
       "Killian   ESR14  \n",
       "Ben        ESR9  \n",
       "Ramon      ESR2  "
      ]
     },
     "execution_count": 213,
     "metadata": {},
     "output_type": "execute_result"
    }
   ],
   "source": [
    "ignite_df[ ~(ignite_df.original_continent==\"Europe\") ]"
   ]
  },
  {
   "cell_type": "markdown",
   "metadata": {},
   "source": [
    "This is equivalent to :"
   ]
  },
  {
   "cell_type": "code",
   "execution_count": 214,
   "metadata": {},
   "outputs": [
    {
     "data": {
      "text/html": [
       "<div>\n",
       "<style scoped>\n",
       "    .dataframe tbody tr th:only-of-type {\n",
       "        vertical-align: middle;\n",
       "    }\n",
       "\n",
       "    .dataframe tbody tr th {\n",
       "        vertical-align: top;\n",
       "    }\n",
       "\n",
       "    .dataframe thead th {\n",
       "        text-align: right;\n",
       "    }\n",
       "</style>\n",
       "<table border=\"1\" class=\"dataframe\">\n",
       "  <thead>\n",
       "    <tr style=\"text-align: right;\">\n",
       "      <th></th>\n",
       "      <th>city</th>\n",
       "      <th>first_author_pub</th>\n",
       "      <th>original_continent</th>\n",
       "      <th>other_author_pub</th>\n",
       "      <th>project</th>\n",
       "    </tr>\n",
       "  </thead>\n",
       "  <tbody>\n",
       "    <tr>\n",
       "      <th>Ksenia</th>\n",
       "      <td>Munich</td>\n",
       "      <td>3</td>\n",
       "      <td>???</td>\n",
       "      <td>2</td>\n",
       "      <td>ESR1</td>\n",
       "    </tr>\n",
       "    <tr>\n",
       "      <th>Ariel</th>\n",
       "      <td>Munich</td>\n",
       "      <td>2</td>\n",
       "      <td>Asia</td>\n",
       "      <td>3</td>\n",
       "      <td>ESR10</td>\n",
       "    </tr>\n",
       "    <tr>\n",
       "      <th>Kenneth</th>\n",
       "      <td>Galway</td>\n",
       "      <td>2</td>\n",
       "      <td>America</td>\n",
       "      <td>1</td>\n",
       "      <td>ESR7</td>\n",
       "    </tr>\n",
       "    <tr>\n",
       "      <th>Toby</th>\n",
       "      <td>Porto</td>\n",
       "      <td>3</td>\n",
       "      <td>Asia</td>\n",
       "      <td>0</td>\n",
       "      <td>ESR3</td>\n",
       "    </tr>\n",
       "    <tr>\n",
       "      <th>Antonio</th>\n",
       "      <td>Zagreb</td>\n",
       "      <td>7</td>\n",
       "      <td>America</td>\n",
       "      <td>2</td>\n",
       "      <td>ESR13</td>\n",
       "    </tr>\n",
       "    <tr>\n",
       "      <th>Killian</th>\n",
       "      <td>Granada</td>\n",
       "      <td>3</td>\n",
       "      <td>America</td>\n",
       "      <td>1</td>\n",
       "      <td>ESR14</td>\n",
       "    </tr>\n",
       "    <tr>\n",
       "      <th>Ben</th>\n",
       "      <td>Heidelberg</td>\n",
       "      <td>2</td>\n",
       "      <td>America</td>\n",
       "      <td>4</td>\n",
       "      <td>ESR9</td>\n",
       "    </tr>\n",
       "    <tr>\n",
       "      <th>Ramon</th>\n",
       "      <td>Munich</td>\n",
       "      <td>2</td>\n",
       "      <td>America</td>\n",
       "      <td>3</td>\n",
       "      <td>ESR2</td>\n",
       "    </tr>\n",
       "  </tbody>\n",
       "</table>\n",
       "</div>"
      ],
      "text/plain": [
       "               city  first_author_pub original_continent  other_author_pub  \\\n",
       "Ksenia       Munich                 3                ???                 2   \n",
       "Ariel        Munich                 2               Asia                 3   \n",
       "Kenneth      Galway                 2            America                 1   \n",
       "Toby          Porto                 3               Asia                 0   \n",
       "Antonio      Zagreb                 7            America                 2   \n",
       "Killian     Granada                 3            America                 1   \n",
       "Ben      Heidelberg                 2            America                 4   \n",
       "Ramon        Munich                 2            America                 3   \n",
       "\n",
       "        project  \n",
       "Ksenia     ESR1  \n",
       "Ariel     ESR10  \n",
       "Kenneth    ESR7  \n",
       "Toby       ESR3  \n",
       "Antonio   ESR13  \n",
       "Killian   ESR14  \n",
       "Ben        ESR9  \n",
       "Ramon      ESR2  "
      ]
     },
     "execution_count": 214,
     "metadata": {},
     "output_type": "execute_result"
    }
   ],
   "source": [
    "ignite_df[ignite_df.original_continent!=\"Europe\"]"
   ]
  },
  {
   "cell_type": "markdown",
   "metadata": {},
   "source": [
    "# Exercise 2\n",
    "\n",
    "1.Select the people who are originally from America.\n",
    "\n",
    "2.Select the people who do not live in Munich.\n",
    "\n",
    "3.What is the mean number of first_author_pub among people who are originally from America ?\n",
    "\n",
    "4.Which people have a number of other_author_pub superior or equal to the average number of other_author_pub among all ESR ?\n",
    "\n",
    "5.Which people have a number of first_author_pub superior or equal to the median number of first_author_pub and a a number of other_author_pub superior or equal to the median number of other_author_pub ?"
   ]
  },
  {
   "cell_type": "markdown",
   "metadata": {},
   "source": [
    "# Selecting elements with pattern matching\n",
    "\n",
    "The function contains() can be used to look for a pattern in a string. \n",
    "\n",
    "In the following example, the lines where the index contains the letter \"a\" are selected :"
   ]
  },
  {
   "cell_type": "code",
   "execution_count": 265,
   "metadata": {},
   "outputs": [
    {
     "data": {
      "text/html": [
       "<div>\n",
       "<style scoped>\n",
       "    .dataframe tbody tr th:only-of-type {\n",
       "        vertical-align: middle;\n",
       "    }\n",
       "\n",
       "    .dataframe tbody tr th {\n",
       "        vertical-align: top;\n",
       "    }\n",
       "\n",
       "    .dataframe thead th {\n",
       "        text-align: right;\n",
       "    }\n",
       "</style>\n",
       "<table border=\"1\" class=\"dataframe\">\n",
       "  <thead>\n",
       "    <tr style=\"text-align: right;\">\n",
       "      <th></th>\n",
       "      <th>city</th>\n",
       "      <th>first_author_pub</th>\n",
       "      <th>original_continent</th>\n",
       "      <th>other_author_pub</th>\n",
       "      <th>project</th>\n",
       "    </tr>\n",
       "  </thead>\n",
       "  <tbody>\n",
       "    <tr>\n",
       "      <th>Ksenia</th>\n",
       "      <td>Munich</td>\n",
       "      <td>3</td>\n",
       "      <td>???</td>\n",
       "      <td>2</td>\n",
       "      <td>ESR1</td>\n",
       "    </tr>\n",
       "    <tr>\n",
       "      <th>Mariya</th>\n",
       "      <td>Sofia</td>\n",
       "      <td>2</td>\n",
       "      <td>Europe</td>\n",
       "      <td>2</td>\n",
       "      <td>ESR15</td>\n",
       "    </tr>\n",
       "    <tr>\n",
       "      <th>Mattia</th>\n",
       "      <td>Bristol</td>\n",
       "      <td>4</td>\n",
       "      <td>Europe</td>\n",
       "      <td>1</td>\n",
       "      <td>ESR8</td>\n",
       "    </tr>\n",
       "    <tr>\n",
       "      <th>Nadège</th>\n",
       "      <td>Bruxelles</td>\n",
       "      <td>1</td>\n",
       "      <td>Europe</td>\n",
       "      <td>10</td>\n",
       "      <td>ESR5</td>\n",
       "    </tr>\n",
       "    <tr>\n",
       "      <th>Killian</th>\n",
       "      <td>Granada</td>\n",
       "      <td>3</td>\n",
       "      <td>America</td>\n",
       "      <td>1</td>\n",
       "      <td>ESR14</td>\n",
       "    </tr>\n",
       "    <tr>\n",
       "      <th>Ramon</th>\n",
       "      <td>Munich</td>\n",
       "      <td>2</td>\n",
       "      <td>America</td>\n",
       "      <td>3</td>\n",
       "      <td>ESR2</td>\n",
       "    </tr>\n",
       "  </tbody>\n",
       "</table>\n",
       "</div>"
      ],
      "text/plain": [
       "              city  first_author_pub original_continent  other_author_pub  \\\n",
       "Ksenia      Munich                 3                ???                 2   \n",
       "Mariya       Sofia                 2             Europe                 2   \n",
       "Mattia     Bristol                 4             Europe                 1   \n",
       "Nadège   Bruxelles                 1             Europe                10   \n",
       "Killian    Granada                 3            America                 1   \n",
       "Ramon       Munich                 2            America                 3   \n",
       "\n",
       "        project  \n",
       "Ksenia     ESR1  \n",
       "Mariya    ESR15  \n",
       "Mattia     ESR8  \n",
       "Nadège     ESR5  \n",
       "Killian   ESR14  \n",
       "Ramon      ESR2  "
      ]
     },
     "execution_count": 265,
     "metadata": {},
     "output_type": "execute_result"
    }
   ],
   "source": [
    "ignite_df[ignite_df.index.str.contains(\"a\")]"
   ]
  },
  {
   "cell_type": "markdown",
   "metadata": {},
   "source": [
    "# Grouping \n",
    "\n",
    "The data can be grouped on a specific criterion using groupby().\n",
    "\n",
    "In the following example, the data is grouped according to the original_continent. Then, the sum is computed on columns where it is possible, meaning numerical columns :"
   ]
  },
  {
   "cell_type": "code",
   "execution_count": 226,
   "metadata": {},
   "outputs": [
    {
     "data": {
      "text/html": [
       "<div>\n",
       "<style scoped>\n",
       "    .dataframe tbody tr th:only-of-type {\n",
       "        vertical-align: middle;\n",
       "    }\n",
       "\n",
       "    .dataframe tbody tr th {\n",
       "        vertical-align: top;\n",
       "    }\n",
       "\n",
       "    .dataframe thead th {\n",
       "        text-align: right;\n",
       "    }\n",
       "</style>\n",
       "<table border=\"1\" class=\"dataframe\">\n",
       "  <thead>\n",
       "    <tr style=\"text-align: right;\">\n",
       "      <th></th>\n",
       "      <th>first_author_pub</th>\n",
       "      <th>other_author_pub</th>\n",
       "    </tr>\n",
       "    <tr>\n",
       "      <th>original_continent</th>\n",
       "      <th></th>\n",
       "      <th></th>\n",
       "    </tr>\n",
       "  </thead>\n",
       "  <tbody>\n",
       "    <tr>\n",
       "      <th>???</th>\n",
       "      <td>3</td>\n",
       "      <td>2</td>\n",
       "    </tr>\n",
       "    <tr>\n",
       "      <th>America</th>\n",
       "      <td>16</td>\n",
       "      <td>11</td>\n",
       "    </tr>\n",
       "    <tr>\n",
       "      <th>Asia</th>\n",
       "      <td>5</td>\n",
       "      <td>3</td>\n",
       "    </tr>\n",
       "    <tr>\n",
       "      <th>Europe</th>\n",
       "      <td>38</td>\n",
       "      <td>17</td>\n",
       "    </tr>\n",
       "  </tbody>\n",
       "</table>\n",
       "</div>"
      ],
      "text/plain": [
       "                    first_author_pub  other_author_pub\n",
       "original_continent                                    \n",
       "???                                3                 2\n",
       "America                           16                11\n",
       "Asia                               5                 3\n",
       "Europe                            38                17"
      ]
     },
     "execution_count": 226,
     "metadata": {},
     "output_type": "execute_result"
    }
   ],
   "source": [
    "ignite_df.groupby(\"original_continent\").sum()"
   ]
  },
  {
   "cell_type": "markdown",
   "metadata": {},
   "source": [
    "The lines are separated in 4 categories from original_continent : ???, America, Asia, Europe. The sum of first_author_pub and other_author_pub are computed for each category.\n",
    "\n",
    "groupby() can also be used with a condition. \n",
    "\n",
    "In the next example, the mean numbers of first_author_pub and other_author_pub is computed according to whether the person's city is Munich or not :"
   ]
  },
  {
   "cell_type": "code",
   "execution_count": 228,
   "metadata": {},
   "outputs": [
    {
     "data": {
      "text/html": [
       "<div>\n",
       "<style scoped>\n",
       "    .dataframe tbody tr th:only-of-type {\n",
       "        vertical-align: middle;\n",
       "    }\n",
       "\n",
       "    .dataframe tbody tr th {\n",
       "        vertical-align: top;\n",
       "    }\n",
       "\n",
       "    .dataframe thead th {\n",
       "        text-align: right;\n",
       "    }\n",
       "</style>\n",
       "<table border=\"1\" class=\"dataframe\">\n",
       "  <thead>\n",
       "    <tr style=\"text-align: right;\">\n",
       "      <th></th>\n",
       "      <th>first_author_pub</th>\n",
       "      <th>other_author_pub</th>\n",
       "    </tr>\n",
       "    <tr>\n",
       "      <th>city</th>\n",
       "      <th></th>\n",
       "      <th></th>\n",
       "    </tr>\n",
       "  </thead>\n",
       "  <tbody>\n",
       "    <tr>\n",
       "      <th>False</th>\n",
       "      <td>3.0</td>\n",
       "      <td>2.625</td>\n",
       "    </tr>\n",
       "    <tr>\n",
       "      <th>True</th>\n",
       "      <td>9.5</td>\n",
       "      <td>3.000</td>\n",
       "    </tr>\n",
       "  </tbody>\n",
       "</table>\n",
       "</div>"
      ],
      "text/plain": [
       "       first_author_pub  other_author_pub\n",
       "city                                     \n",
       "False               3.0             2.625\n",
       "True                9.5             3.000"
      ]
     },
     "execution_count": 228,
     "metadata": {},
     "output_type": "execute_result"
    }
   ],
   "source": [
    "ignite_df.groupby(ignite_df.city==\"Munich\").mean()"
   ]
  },
  {
   "cell_type": "markdown",
   "metadata": {},
   "source": [
    "# Apply()\n",
    "\n",
    "The function apply() can be used to apply a function over the rows or columns of a dataframe. \n",
    "\n",
    "The main parameters are the following :\n",
    "\n",
    "\n",
    "func : the function to apply ; it can be an already existing function or a function that you write with lambda \n",
    "axis : 0 to compute over all the columns, 1 over all the lines\n",
    "\n",
    "In the following example, the length of each column is computed by passing as arguments func=len and axis=0 :"
   ]
  },
  {
   "cell_type": "code",
   "execution_count": 267,
   "metadata": {
    "scrolled": true
   },
   "outputs": [
    {
     "data": {
      "text/plain": [
       "city                  12\n",
       "first_author_pub      12\n",
       "original_continent    12\n",
       "other_author_pub      12\n",
       "project               12\n",
       "dtype: int64"
      ]
     },
     "execution_count": 267,
     "metadata": {},
     "output_type": "execute_result"
    }
   ],
   "source": [
    "ignite_df.apply(func=len, axis=0)"
   ]
  },
  {
   "cell_type": "markdown",
   "metadata": {},
   "source": [
    "In the next example, we iterate over the lines by setting axis=1. The function passed as argument is written with lambda. This is a function specially created to use in apply()."
   ]
  },
  {
   "cell_type": "code",
   "execution_count": 280,
   "metadata": {},
   "outputs": [
    {
     "name": "stdout",
     "output_type": "stream",
     "text": [
      "Ksenia lives in Munich.\n",
      "Mariya lives in Sofia.\n",
      "Ariel lives in Munich.\n",
      "Kenneth lives in Galway.\n",
      "Toby lives in Porto.\n",
      "Mattia lives in Bristol.\n",
      "Antonio lives in Zagreb.\n",
      "Nadège lives in Bruxelles.\n",
      "Killian lives in Granada.\n",
      "Ben lives in Heidelberg.\n",
      "Ramon lives in Munich.\n",
      "Michi lives in Munich.\n"
     ]
    },
    {
     "data": {
      "text/plain": [
       "Ksenia     None\n",
       "Mariya     None\n",
       "Ariel      None\n",
       "Kenneth    None\n",
       "Toby       None\n",
       "Mattia     None\n",
       "Antonio    None\n",
       "Nadège     None\n",
       "Killian    None\n",
       "Ben        None\n",
       "Ramon      None\n",
       "Michi      None\n",
       "dtype: object"
      ]
     },
     "execution_count": 280,
     "metadata": {},
     "output_type": "execute_result"
    }
   ],
   "source": [
    "ignite_df.apply(lambda x: print(\"{0} lives in {1}.\".format(x.name, x.city)), axis=1 )"
   ]
  },
  {
   "cell_type": "markdown",
   "metadata": {},
   "source": [
    "The function created with lamba prints for each line : 'name' lives in 'city'. The current line is identified by the variable x. "
   ]
  },
  {
   "cell_type": "markdown",
   "metadata": {},
   "source": [
    "# Plotting\n",
    "\n",
    "Here are examples of plots you can generate with your pandas dataframe.\n",
    "\n",
    "## Pie"
   ]
  },
  {
   "cell_type": "code",
   "execution_count": 246,
   "metadata": {
    "scrolled": true
   },
   "outputs": [
    {
     "data": {
      "text/plain": [
       "<matplotlib.axes._subplots.AxesSubplot at 0x7fcfa78824e0>"
      ]
     },
     "execution_count": 246,
     "metadata": {},
     "output_type": "execute_result"
    },
    {
     "data": {
      "image/png": "[encoded data removed]",
      "text/plain": [
       "<matplotlib.figure.Figure at 0x7fcfa7621278>"
      ]
     },
     "metadata": {},
     "output_type": "display_data"
    }
   ],
   "source": [
    "ignite_pie = ignite_df.groupby(\"original_continent\").size()\n",
    "ignite_pie.plot.pie(figsize=(7,7))"
   ]
  },
  {
   "cell_type": "markdown",
   "metadata": {},
   "source": [
    "And then you can have fun with the parameters :"
   ]
  },
  {
   "cell_type": "code",
   "execution_count": 245,
   "metadata": {},
   "outputs": [
    {
     "data": {
      "text/plain": [
       "<matplotlib.axes._subplots.AxesSubplot at 0x7fcfa7688b00>"
      ]
     },
     "execution_count": 245,
     "metadata": {},
     "output_type": "execute_result"
    },
    {
     "data": {
      "image/png": "[encoded data removed]",
      "text/plain": [
       "<matplotlib.figure.Figure at 0x7fcfa76cc390>"
      ]
     },
     "metadata": {},
     "output_type": "display_data"
    }
   ],
   "source": [
    "ignite_pie.plot.pie(figsize=(7,7), explode=[0,0,0,0.2], colors=[\"lightblue\", \"lavender\", \"wheat\", \"orange\"], shadow=True)"
   ]
  },
  {
   "cell_type": "markdown",
   "metadata": {},
   "source": [
    "## Histogram"
   ]
  },
  {
   "cell_type": "code",
   "execution_count": 259,
   "metadata": {},
   "outputs": [
    {
     "data": {
      "text/plain": [
       "array([[<matplotlib.axes._subplots.AxesSubplot object at 0x7fcfa6c2a828>,\n",
       "        <matplotlib.axes._subplots.AxesSubplot object at 0x7fcfa6a76fd0>]], dtype=object)"
      ]
     },
     "execution_count": 259,
     "metadata": {},
     "output_type": "execute_result"
    },
    {
     "data": {
      "image/png": "[encoded data removed]",
      "text/plain": [
       "<matplotlib.figure.Figure at 0x7fcfa6bf3860>"
      ]
     },
     "metadata": {},
     "output_type": "display_data"
    }
   ],
   "source": [
    "ignite_df.hist(bins=5, color=\"teal\", figsize=(13,7))"
   ]
  },
  {
   "cell_type": "code",
   "execution_count": null,
   "metadata": {},
   "outputs": [],
   "source": []
  }
 ],
 "metadata": {
  "kernelspec": {
   "display_name": "Python 3",
   "language": "python",
   "name": "python3"
  },
  "language_info": {
   "codemirror_mode": {
    "name": "ipython",
    "version": 3
   },
   "file_extension": ".py",
   "mimetype": "text/x-python",
   "name": "python",
   "nbconvert_exporter": "python",
   "pygments_lexer": "ipython3",
   "version": "3.6.7"
  }
 },
 "nbformat": 4,
 "nbformat_minor": 2
}
