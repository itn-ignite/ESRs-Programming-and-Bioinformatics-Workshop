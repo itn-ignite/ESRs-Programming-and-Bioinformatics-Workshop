{
 "cells": [
  {
   "cell_type": "markdown",
   "metadata": {},
   "source": [
    "Written by Nadège Guiglielmoni.\n",
    "\n",
    "Here are examples of how you can pass arguments to a python script. You can go through these script to understand how they work.\n",
    "\n",
    "# With SYS"
   ]
  },
  {
   "cell_type": "code",
   "execution_count": 2,
   "metadata": {},
   "outputs": [
    {
     "name": "stdout",
     "output_type": "stream",
     "text": [
      "The number of parameters is : 4\n",
      "The first parameter is : a\n",
      "The third parameter is : c\n"
     ]
    }
   ],
   "source": [
    "python passing_args.py a b c"
   ]
  },
  {
   "cell_type": "markdown",
   "metadata": {},
   "source": [
    "The script calls for a third argument, so if you do not pass at least 3 arguments, here is what happens :"
   ]
  },
  {
   "cell_type": "code",
   "execution_count": 3,
   "metadata": {},
   "outputs": [
    {
     "name": "stdout",
     "output_type": "stream",
     "text": [
      "The number of parameters is : 2\n",
      "The first parameter is : banana\n",
      "Traceback (most recent call last):\n",
      "  File \"passing_args.py\", line 7, in <module>\n",
      "    print(\"The third parameter is : {0}\".format(sys.argv[3]))\n",
      "IndexError: list index out of range\n"
     ]
    },
    {
     "ename": "",
     "evalue": "1",
     "output_type": "error",
     "traceback": []
    }
   ],
   "source": [
    "python passing_args.py banana"
   ]
  },
  {
   "cell_type": "markdown",
   "metadata": {},
   "source": [
    "But you can pass as many arguments as you want :"
   ]
  },
  {
   "cell_type": "code",
   "execution_count": 5,
   "metadata": {},
   "outputs": [
    {
     "name": "stdout",
     "output_type": "stream",
     "text": [
      "The number of parameters is : 7\n",
      "The first parameter is : banana\n",
      "The third parameter is : bla bla bla\n"
     ]
    }
   ],
   "source": [
    "python passing_args.py banana dog \"bla bla bla\" 1 beer toronto"
   ]
  },
  {
   "cell_type": "markdown",
   "metadata": {},
   "source": [
    "You may notice that the number of parameters displayed is 7, while there are only 6 arguments. This is because the name of the script counts as argument number 0.\n",
    "\n",
    "# With ARGPARSE"
   ]
  },
  {
   "cell_type": "code",
   "execution_count": 6,
   "metadata": {},
   "outputs": [
    {
     "name": "stdout",
     "output_type": "stream",
     "text": [
      "usage: passing_args_2.py [-h] -e ESR -c COMPLIMENT -g GIFT\n",
      "\n",
      "optional arguments:\n",
      "  -h, --help            show this help message and exit\n",
      "  -e ESR, --esr ESR     Name of one of your fellow ESR.\n",
      "  -c COMPLIMENT, --compliment COMPLIMENT\n",
      "                        Compliment that you want to make to this ESR\n",
      "  -g GIFT, --gift GIFT  Compliment that you want to make to this ESR\n"
     ]
    }
   ],
   "source": [
    "python passing_args_2.py -h"
   ]
  },
  {
   "cell_type": "markdown",
   "metadata": {},
   "source": [
    "Well now this looks fancy, there is help ! When you use argparse, you can pass -h to the script and it will display the parameters you can pass to the function."
   ]
  },
  {
   "cell_type": "code",
   "execution_count": 7,
   "metadata": {},
   "outputs": [
    {
     "name": "stdout",
     "output_type": "stream",
     "text": [
      "Ramon is wonderful. When I visit this ESR, I will bring a beer.\n"
     ]
    }
   ],
   "source": [
    "python passing_args_2.py -e Ramon -c wonderful -g beer"
   ]
  },
  {
   "cell_type": "code",
   "execution_count": 8,
   "metadata": {},
   "outputs": [
    {
     "name": "stdout",
     "output_type": "stream",
     "text": [
      "Ramon is so smart. When I visit this ESR, I will bring a beer and waffles.\n"
     ]
    }
   ],
   "source": [
    "python passing_args_2.py --esr Ramon --compliment \"so smart\" --gift \"beer and waffles\""
   ]
  },
  {
   "cell_type": "markdown",
   "metadata": {},
   "source": [
    "The parameters do not need to be passed in a specific order :"
   ]
  },
  {
   "cell_type": "code",
   "execution_count": 9,
   "metadata": {},
   "outputs": [
    {
     "name": "stdout",
     "output_type": "stream",
     "text": [
      "Ksenia is adorable. When I visit this ESR, I will bring a box of chocolates.\n"
     ]
    }
   ],
   "source": [
    "python passing_args_2.py --esr Ksenia --gift \"box of chocolates\" --compliment adorable"
   ]
  },
  {
   "cell_type": "code",
   "execution_count": null,
   "metadata": {},
   "outputs": [],
   "source": []
  }
 ],
 "metadata": {
  "kernelspec": {
   "display_name": "Bash",
   "language": "bash",
   "name": "bash"
  },
  "language_info": {
   "codemirror_mode": "shell",
   "file_extension": ".sh",
   "mimetype": "text/x-sh",
   "name": "bash"
  }
 },
 "nbformat": 4,
 "nbformat_minor": 2
}
